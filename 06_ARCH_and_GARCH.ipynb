{
  "nbformat": 4,
  "nbformat_minor": 0,
  "metadata": {
    "colab": {
      "name": "06 ARCH and GARCH.ipynb",
      "provenance": [],
      "collapsed_sections": [],
      "include_colab_link": true
    },
    "kernelspec": {
      "name": "python3",
      "display_name": "Python 3"
    }
  },
  "cells": [
    {
      "cell_type": "markdown",
      "metadata": {
        "id": "view-in-github",
        "colab_type": "text"
      },
      "source": [
        "<a href=\"https://colab.research.google.com/github/khbae/trading/blob/master/06_ARCH_and_GARCH.ipynb\" target=\"_parent\"><img src=\"https://colab.research.google.com/assets/colab-badge.svg\" alt=\"Open In Colab\"/></a>"
      ]
    },
    {
      "cell_type": "markdown",
      "metadata": {
        "id": "0LrWgG2SwMul",
        "colab_type": "text"
      },
      "source": [
        "# Autoregressive Conditional Heteroskedastic Models - ARCH(q)\n",
        "\n",
        "* https://en.wikipedia.org/wiki/Autoregressive_conditional_heteroskedasticity\n",
        "* http://www.blackarbs.com/blog/time-series-analysis-in-python-linear-models-to-garch/11/1/2016\n",
        "\n",
        "**Asset Volatility: conditional standard deviation of asset returns**\n",
        "\n",
        "Why is volatility important?\n",
        "* Option Pricing, e.g. Black-Sholes-Merton Formula\n",
        "* Risk management, e.g. Value at Risk (VaR)\n",
        "* Asset allocation, e.g. minimum-variance portfolio\n",
        "\n",
        "Volatility Calculation\n",
        "* Realized volatility of daily log returns\n",
        "* Use intraday high frequency log returns\n",
        "* Use daily high and low prices: daily high - daily low prices\n",
        "* Implied volatility of options: e.g. VIX\n",
        "* Econometric modeling\n",
        "\n",
        "### ARCH(q) model\n",
        "The variance of time series at time t is conditional on the past variance in previous periods.\n",
        "\n",
        "$$ \\varepsilon_{t} = \\sigma_{t} z_{t} $$\n",
        ", where $z_t$ is a white noise. The series $\\sigma_t^2$  is modelled by\n",
        "\n",
        "$$ \\sigma_{t}^{2} = \\omega + \\sum_{i=1}^{q} \\alpha_i \\varepsilon_{t−i}^{2} $$\n",
        "\n",
        "Distribution of $z_t$\n",
        "* standard normal\n",
        "* standardized Student t\n",
        "* Generalized error distribution (GED)"
      ]
    },
    {
      "cell_type": "code",
      "metadata": {
        "id": "l24g8_XBpBoP",
        "colab_type": "code",
        "outputId": "448d88c1-ba71-412d-83f6-65f79c2ac068",
        "colab": {
          "base_uri": "https://localhost:8080/",
          "height": 289
        }
      },
      "source": [
        "!pip install Cython\n",
        "!pip install arch\n",
        "\n",
        "import pandas as pd\n",
        "import numpy as np\n",
        "import matplotlib.pyplot as plt\n",
        "from arch import arch_model"
      ],
      "execution_count": 0,
      "outputs": [
        {
          "output_type": "stream",
          "text": [
            "Requirement already satisfied: Cython in /usr/local/lib/python3.6/dist-packages\n",
            "Requirement already satisfied: arch in /usr/local/lib/python3.6/dist-packages\n",
            "Requirement already satisfied: pandas>=0.18 in /usr/local/lib/python3.6/dist-packages (from arch)\n",
            "Requirement already satisfied: Cython>=0.24 in /usr/local/lib/python3.6/dist-packages (from arch)\n",
            "Requirement already satisfied: statsmodels>=0.8 in /usr/local/lib/python3.6/dist-packages (from arch)\n",
            "Requirement already satisfied: scipy>=0.16 in /usr/local/lib/python3.6/dist-packages (from arch)\n",
            "Requirement already satisfied: matplotlib>=1.5 in /usr/local/lib/python3.6/dist-packages (from arch)\n",
            "Requirement already satisfied: numpy>=1.9.0 in /usr/local/lib/python3.6/dist-packages (from pandas>=0.18->arch)\n",
            "Requirement already satisfied: pytz>=2011k in /usr/local/lib/python3.6/dist-packages (from pandas>=0.18->arch)\n",
            "Requirement already satisfied: python-dateutil>=2 in /usr/local/lib/python3.6/dist-packages (from pandas>=0.18->arch)\n",
            "Requirement already satisfied: patsy in /usr/local/lib/python3.6/dist-packages (from statsmodels>=0.8->arch)\n",
            "Requirement already satisfied: cycler>=0.10 in /usr/local/lib/python3.6/dist-packages (from matplotlib>=1.5->arch)\n",
            "Requirement already satisfied: six>=1.10 in /usr/local/lib/python3.6/dist-packages (from matplotlib>=1.5->arch)\n",
            "Requirement already satisfied: pyparsing!=2.0.4,!=2.1.2,!=2.1.6,>=2.0.1 in /usr/local/lib/python3.6/dist-packages (from matplotlib>=1.5->arch)\n"
          ],
          "name": "stdout"
        }
      ]
    },
    {
      "cell_type": "markdown",
      "metadata": {
        "id": "uBUjTIDv11_p",
        "colab_type": "text"
      },
      "source": [
        "### ARCH(1) model\n",
        "\n",
        "$$ \\sigma_{t}^{2} = \\omega + \\alpha_1 \\varepsilon_{t−1}^{2} $$\n",
        "$$ \\sigma_{t} = \\sqrt{\\omega + \\alpha_1 \\varepsilon_{t−1}^{2}} $$\n",
        "$$ \\varepsilon_{t} = \\sigma_{t} z_{t} $$"
      ]
    },
    {
      "cell_type": "code",
      "metadata": {
        "id": "-C7pITo7vLWg",
        "colab_type": "code",
        "outputId": "60edf851-16ee-48d1-b36c-5eb5380a3934",
        "colab": {
          "base_uri": "https://localhost:8080/",
          "height": 365
        }
      },
      "source": [
        "# arch model\n",
        "zt = np.random.normal(size=1000)\n",
        "epsilon = np.zeros(1000)\n",
        "omega = 0.3\n",
        "alpha1 = 0.7\n",
        "\n",
        "for t in range(1000):\n",
        "  sigma = np.sqrt(omega + alpha1 * epsilon[t-1] **2 )\n",
        "  epsilon[t] = sigma * zt[t]\n",
        "\n",
        "plt.plot(epsilon)"
      ],
      "execution_count": 0,
      "outputs": [
        {
          "output_type": "execute_result",
          "data": {
            "text/plain": [
              "[<matplotlib.lines.Line2D at 0x7efc8511e198>]"
            ]
          },
          "metadata": {
            "tags": []
          },
          "execution_count": 47
        },
        {
          "output_type": "display_data",
          "data": {
            "image/png": "[encoded data removed]",
            "text/plain": [
              "<matplotlib.figure.Figure at 0x7efc851d2fd0>"
            ]
          },
          "metadata": {
            "tags": []
          }
        }
      ]
    },
    {
      "cell_type": "markdown",
      "metadata": {
        "id": "5g2HKnZwq_Np",
        "colab_type": "text"
      },
      "source": [
        "### ARCH Fit\n",
        "* http://arch.readthedocs.io/en/latest/univariate/introduction.html"
      ]
    },
    {
      "cell_type": "code",
      "metadata": {
        "id": "jpMsOVB7uz67",
        "colab_type": "code",
        "outputId": "3666d380-e549-415d-c040-54565ebf3bd1",
        "colab": {
          "base_uri": "https://localhost:8080/",
          "height": 665
        }
      },
      "source": [
        "# ARCH fit\n",
        "ARCHfit = arch_model(y=epsilon,vol='Arch').fit()\n",
        "print(ARCHfit.summary())\n"
      ],
      "execution_count": 0,
      "outputs": [
        {
          "output_type": "stream",
          "text": [
            "Iteration:      1,   Func. Count:      5,   Neg. LLF: 1152.3134400722543\n",
            "Iteration:      2,   Func. Count:     14,   Neg. LLF: 1152.1662031663568\n",
            "Iteration:      3,   Func. Count:     20,   Neg. LLF: 1151.6062917453114\n",
            "Iteration:      4,   Func. Count:     26,   Neg. LLF: 1150.6525275008544\n",
            "Iteration:      5,   Func. Count:     32,   Neg. LLF: 1150.6452446687715\n",
            "Iteration:      6,   Func. Count:     38,   Neg. LLF: 1150.6325118213447\n",
            "Iteration:      7,   Func. Count:     43,   Neg. LLF: 1150.6324814205925\n",
            "Optimization terminated successfully.    (Exit mode 0)\n",
            "            Current function value: 1150.6324814206084\n",
            "            Iterations: 7\n",
            "            Function evaluations: 43\n",
            "            Gradient evaluations: 7\n",
            "                      Constant Mean - ARCH Model Results                      \n",
            "==============================================================================\n",
            "Dep. Variable:                      y   R-squared:                      -0.000\n",
            "Mean Model:             Constant Mean   Adj. R-squared:                 -0.000\n",
            "Vol Model:                       ARCH   Log-Likelihood:               -1150.63\n",
            "Distribution:                  Normal   AIC:                           2307.26\n",
            "Method:            Maximum Likelihood   BIC:                           2321.99\n",
            "                                        No. Observations:                 1000\n",
            "Date:                Wed, Feb 21 2018   Df Residuals:                      997\n",
            "Time:                        02:41:42   Df Model:                            3\n",
            "                                  Mean Model                                 \n",
            "=============================================================================\n",
            "                 coef    std err          t      P>|t|       95.0% Conf. Int.\n",
            "-----------------------------------------------------------------------------\n",
            "mu             0.0158  1.829e-02      0.862      0.389 [-2.008e-02,5.160e-02]\n",
            "                            Volatility Model                            \n",
            "========================================================================\n",
            "                 coef    std err          t      P>|t|  95.0% Conf. Int.\n",
            "------------------------------------------------------------------------\n",
            "omega          0.2556  1.921e-02     13.310  2.024e-40 [  0.218,  0.293]\n",
            "alpha[1]       0.8184  7.739e-02     10.575  3.879e-26 [  0.667,  0.970]\n",
            "========================================================================\n",
            "\n",
            "Covariance estimator: robust\n"
          ],
          "name": "stdout"
        }
      ]
    },
    {
      "cell_type": "markdown",
      "metadata": {
        "id": "4bjZ6pJbj01s",
        "colab_type": "text"
      },
      "source": [
        "## ARCH model's advantages and weaknesses\n",
        "### Advantages\n",
        "* Simplicity\n",
        "* Generates volatility clustering\n",
        "* Heavy tails or high kurtosis\n",
        "\n",
        "### Weakness\n",
        "* Symmetric between positive & negative prior returns\n",
        "* Restrictive \n",
        "* Provide no explanation\n",
        "* Not sufficiently adaptive in prediction\n",
        "\n",
        "\n"
      ]
    },
    {
      "cell_type": "markdown",
      "metadata": {
        "id": "v4YscMMV_tFg",
        "colab_type": "text"
      },
      "source": [
        "## Generalized Autoregressive Conditional Heteroskedastic Models - GARCH(p,q)\n",
        "\n",
        "GARCH(p, q) is an ARMA model that is applied to the variance of a time serie. \n",
        "\n",
        "* https://en.wikipedia.org/wiki/Autoregressive_conditional_heteroskedasticity\n",
        "\n",
        "The variance of time series at time t is conditional on the past variance in previous periods.\n",
        "\n",
        "$$ \\varepsilon_{t} = \\sigma_{t} z_{t} $$\n",
        ", where $z_t$ is a white noise. The series $\\sigma_t^2$  is modelled by\n",
        "\n",
        "$$ \\sigma_{t}^{2} = \\omega + \\sum_{i=1}^{q} \\alpha_i \\varepsilon_{t−i}^{2} + \\sum_{i=1}^{p}\\beta_i \\sigma_{t−i}^{2} $$\n",
        "\n",
        "This is an ARMA model for $\\sigma_{t}^2$\n",
        "\n",
        "## GARCH (1,1) model\n",
        "\n",
        "$$ \\sigma_{t}^{2} = \\omega + \\alpha_1 \\varepsilon_{t−1}^{2} + \\beta_1 \\sigma_{t−1}^{2} $$"
      ]
    },
    {
      "cell_type": "code",
      "metadata": {
        "id": "-JIomsIps-PR",
        "colab_type": "code",
        "outputId": "79a77be9-44f1-4192-a980-651d519a200d",
        "colab": {
          "base_uri": "https://localhost:8080/",
          "height": 365
        }
      },
      "source": [
        "# garch model\n",
        "\n",
        "zt = np.random.normal(size=1000)\n",
        "gepsilon = np.zeros(1000)\n",
        "sigma = np.zeros(1000)\n",
        "\n",
        "omega = 0.1\n",
        "alpha1 = 0.8\n",
        "beta1 = 0.4\n",
        "\n",
        "for t in range(1000):\n",
        "  sigma[t] = np.sqrt(omega + alpha1 * gepsilon[t-1] **2 + beta1 * sigma[t-1]**2 )\n",
        "  gepsilon[t] = sigma[t] * zt[t]\n",
        "\n",
        "plt.plot(gepsilon)"
      ],
      "execution_count": 0,
      "outputs": [
        {
          "output_type": "execute_result",
          "data": {
            "text/plain": [
              "[<matplotlib.lines.Line2D at 0x7efc84ff0208>]"
            ]
          },
          "metadata": {
            "tags": []
          },
          "execution_count": 51
        },
        {
          "output_type": "display_data",
          "data": {
            "image/png": "[encoded data removed]",
            "text/plain": [
              "<matplotlib.figure.Figure at 0x7efc85341518>"
            ]
          },
          "metadata": {
            "tags": []
          }
        }
      ]
    },
    {
      "cell_type": "code",
      "metadata": {
        "id": "G4Du1cMgCqlL",
        "colab_type": "code",
        "outputId": "eabc35bd-967b-4025-d424-7b3ca49069c1",
        "colab": {
          "base_uri": "https://localhost:8080/",
          "height": 917
        }
      },
      "source": [
        "# GARCH model fit\n",
        "GARCHfit = arch_model(y=gepsilon,vol='Garch').fit()\n",
        "print(GARCHfit.summary())\n"
      ],
      "execution_count": 0,
      "outputs": [
        {
          "output_type": "stream",
          "text": [
            "Iteration:      1,   Func. Count:      6,   Neg. LLF: 2096.782325887705\n",
            "Iteration:      2,   Func. Count:     14,   Neg. LLF: 2088.5407526934587\n",
            "Iteration:      3,   Func. Count:     21,   Neg. LLF: 1991.9467452811803\n",
            "Iteration:      4,   Func. Count:     28,   Neg. LLF: 1941.560814715871\n",
            "Iteration:      5,   Func. Count:     35,   Neg. LLF: 1887.725481715503\n",
            "Iteration:      6,   Func. Count:     42,   Neg. LLF: 1873.6417200938415\n",
            "Iteration:      7,   Func. Count:     49,   Neg. LLF: 1849.1880383504363\n",
            "Iteration:      8,   Func. Count:     56,   Neg. LLF: 1830.7707602044738\n",
            "Iteration:      9,   Func. Count:     63,   Neg. LLF: 1816.8428966488323\n",
            "Iteration:     10,   Func. Count:     70,   Neg. LLF: 1810.4793470983946\n",
            "Iteration:     11,   Func. Count:     77,   Neg. LLF: 1806.0310010220724\n",
            "Iteration:     12,   Func. Count:     84,   Neg. LLF: 1803.6050601979036\n",
            "Iteration:     13,   Func. Count:     90,   Neg. LLF: 1801.4889964588288\n",
            "Iteration:     14,   Func. Count:     96,   Neg. LLF: 1796.7652971276966\n",
            "Iteration:     15,   Func. Count:    102,   Neg. LLF: 1795.3840376533467\n",
            "Iteration:     16,   Func. Count:    108,   Neg. LLF: 1794.5390461956054\n",
            "Iteration:     17,   Func. Count:    114,   Neg. LLF: 1794.490779349289\n",
            "Iteration:     18,   Func. Count:    120,   Neg. LLF: 1794.4900726192732\n",
            "Iteration:     19,   Func. Count:    126,   Neg. LLF: 1794.490054841263\n",
            "Iteration:     20,   Func. Count:    132,   Neg. LLF: 1794.4900534152239\n",
            "Optimization terminated successfully.    (Exit mode 0)\n",
            "            Current function value: 1794.4900547906368\n",
            "            Iterations: 20\n",
            "            Function evaluations: 132\n",
            "            Gradient evaluations: 20\n",
            "                     Constant Mean - GARCH Model Results                      \n",
            "==============================================================================\n",
            "Dep. Variable:                      y   R-squared:                      -0.000\n",
            "Mean Model:             Constant Mean   Adj. R-squared:                 -0.000\n",
            "Vol Model:                      GARCH   Log-Likelihood:               -1794.49\n",
            "Distribution:                  Normal   AIC:                           3596.98\n",
            "Method:            Maximum Likelihood   BIC:                           3616.61\n",
            "                                        No. Observations:                 1000\n",
            "Date:                Wed, Feb 21 2018   Df Residuals:                      996\n",
            "Time:                        02:48:28   Df Model:                            4\n",
            "                                  Mean Model                                 \n",
            "=============================================================================\n",
            "                 coef    std err          t      P>|t|       95.0% Conf. Int.\n",
            "-----------------------------------------------------------------------------\n",
            "mu            -0.0106  2.461e-02     -0.430      0.667 [-5.884e-02,3.765e-02]\n",
            "                             Volatility Model                             \n",
            "==========================================================================\n",
            "                 coef    std err          t      P>|t|    95.0% Conf. Int.\n",
            "--------------------------------------------------------------------------\n",
            "omega          0.1205  2.543e-02      4.737  2.166e-06 [7.062e-02,  0.170]\n",
            "alpha[1]       0.5548  3.709e-02     14.958  1.382e-50   [  0.482,  0.628]\n",
            "beta[1]        0.4452  3.243e-02     13.729  6.816e-43   [  0.382,  0.509]\n",
            "==========================================================================\n",
            "\n",
            "Covariance estimator: robust\n"
          ],
          "name": "stdout"
        }
      ]
    },
    {
      "cell_type": "markdown",
      "metadata": {
        "id": "Iw5cU7uSoUed",
        "colab_type": "text"
      },
      "source": [
        "### GARCH Limitatons\n",
        "* GARCH operates under stable market conditions.\n",
        "* GARCH cannot explain irregular phenomena such as market crashes and subsequent rebounds.\n",
        "* GARCH cannot model a structural change.\n",
        "* GARCH models often fail to fully capture the fat tails observed in asset return series."
      ]
    },
    {
      "cell_type": "markdown",
      "metadata": {
        "id": "yHj6RNCml0IR",
        "colab_type": "text"
      },
      "source": [
        "### Other Models\n",
        "* IGARCH\n",
        "* EGARCH\n",
        "* MGARCH\n",
        "* ..."
      ]
    }
  ]
}