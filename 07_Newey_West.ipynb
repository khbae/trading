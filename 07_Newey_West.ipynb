{
  "nbformat": 4,
  "nbformat_minor": 0,
  "metadata": {
    "colab": {
      "name": "07_Newey_West.ipynb",
      "provenance": [],
      "collapsed_sections": [],
      "include_colab_link": true
    },
    "kernelspec": {
      "name": "python3",
      "display_name": "Python 3"
    }
  },
  "cells": [
    {
      "cell_type": "markdown",
      "metadata": {
        "id": "view-in-github",
        "colab_type": "text"
      },
      "source": [
        "<a href=\"https://colab.research.google.com/github/khbae/trading/blob/master/07_Newey_West.ipynb\" target=\"_parent\"><img src=\"https://colab.research.google.com/assets/colab-badge.svg\" alt=\"Open In Colab\"/></a>"
      ]
    },
    {
      "cell_type": "markdown",
      "metadata": {
        "id": "6-FbMHIPC9_l",
        "colab_type": "text"
      },
      "source": [
        "# Newey-West Standard Error\n",
        "\n",
        "* https://en.wikipedia.org/wiki/Newey%E2%80%93West_estimator\n",
        "* http://www.vincentgregoire.com/standard-errors-in-python/\n",
        "* https://github.com/statsmodels/statsmodels\n",
        "\n",
        "This note introduces the newey-west estimator that corrects standard errors in case of heteroscedasticity and autocorrelation in residuals. In the Gauss-Markov world, the OLS estimation and variance covariance matrix is a good and best estimate. However, there are some unrealistic assumptions (e.g. Homoscedasticity, and No Autocorrelation) in the Gauss-Markor setting. **These problems make it hard to believe the OLS regression results.** In short, we cannot trust the statistical significance(three stars) we found through OLS regressions. So we will break two assumptions in the Gauss Markov world. And we will find correct standard errors that lead to more accurate statistical inference.\n",
        "\n",
        "Consider a predictive regression model:\n",
        "\n",
        "$$ r_{t+1} = \\alpha + \\beta x_t + \\varepsilon_{t+1} $$\n"
      ]
    },
    {
      "cell_type": "code",
      "metadata": {
        "id": "Dkhc_A78eAPc",
        "colab_type": "code",
        "outputId": "b5e3a71f-cb5d-4a47-a1f1-d7ca9a0e72bb",
        "colab": {
          "base_uri": "https://localhost:8080/",
          "height": 72
        }
      },
      "source": [
        "import pandas as pd\n",
        "import numpy as np\n",
        "import statsmodels.formula.api as sm\n",
        "import statsmodels.stats.sandwich_covariance as sw\n",
        "import statsmodels.stats.api as sms\n",
        "import statsmodels.stats.stattools as smt\n",
        "from statsmodels.compat import lzip"
      ],
      "execution_count": 0,
      "outputs": [
        {
          "output_type": "stream",
          "text": [
            "/usr/local/lib/python3.6/dist-packages/statsmodels/compat/pandas.py:56: FutureWarning: The pandas.core.datetools module is deprecated and will be removed in a future version. Please use the pandas.tseries module instead.\n",
            "  from pandas.core import datetools\n"
          ],
          "name": "stderr"
        }
      ]
    },
    {
      "cell_type": "markdown",
      "metadata": {
        "id": "jQavhdQYZEeQ",
        "colab_type": "text"
      },
      "source": [
        "Read sample data from Petersen's website.\n",
        "* http://www.kellogg.northwestern.edu/faculty/petersen/htm/papers/se/test_data.txt"
      ]
    },
    {
      "cell_type": "code",
      "metadata": {
        "id": "cZoysRBDZgI4",
        "colab_type": "code",
        "outputId": "ca41ac9f-d275-4a3d-9ca2-597ebac96314",
        "colab": {
          "base_uri": "https://localhost:8080/",
          "height": 204
        }
      },
      "source": [
        "dat = pd.read_csv(\"http://www.kellogg.northwestern.edu/faculty/petersen/htm/papers/se/test_data.txt\",header=None,sep='\\s+',names=['firm','year','x','y'])\n",
        "dat.head()"
      ],
      "execution_count": 0,
      "outputs": [
        {
          "output_type": "execute_result",
          "data": {
            "text/html": [
              "<div>\n",
              "<style scoped>\n",
              "    .dataframe tbody tr th:only-of-type {\n",
              "        vertical-align: middle;\n",
              "    }\n",
              "\n",
              "    .dataframe tbody tr th {\n",
              "        vertical-align: top;\n",
              "    }\n",
              "\n",
              "    .dataframe thead th {\n",
              "        text-align: right;\n",
              "    }\n",
              "</style>\n",
              "<table border=\"1\" class=\"dataframe\">\n",
              "  <thead>\n",
              "    <tr style=\"text-align: right;\">\n",
              "      <th></th>\n",
              "      <th>firm</th>\n",
              "      <th>year</th>\n",
              "      <th>x</th>\n",
              "      <th>y</th>\n",
              "    </tr>\n",
              "  </thead>\n",
              "  <tbody>\n",
              "    <tr>\n",
              "      <th>0</th>\n",
              "      <td>1</td>\n",
              "      <td>1</td>\n",
              "      <td>-1.113973</td>\n",
              "      <td>2.251535</td>\n",
              "    </tr>\n",
              "    <tr>\n",
              "      <th>1</th>\n",
              "      <td>1</td>\n",
              "      <td>2</td>\n",
              "      <td>-0.080854</td>\n",
              "      <td>1.242346</td>\n",
              "    </tr>\n",
              "    <tr>\n",
              "      <th>2</th>\n",
              "      <td>1</td>\n",
              "      <td>3</td>\n",
              "      <td>-0.237607</td>\n",
              "      <td>-1.426376</td>\n",
              "    </tr>\n",
              "    <tr>\n",
              "      <th>3</th>\n",
              "      <td>1</td>\n",
              "      <td>4</td>\n",
              "      <td>-0.152486</td>\n",
              "      <td>-1.109394</td>\n",
              "    </tr>\n",
              "    <tr>\n",
              "      <th>4</th>\n",
              "      <td>1</td>\n",
              "      <td>5</td>\n",
              "      <td>-0.001426</td>\n",
              "      <td>0.914686</td>\n",
              "    </tr>\n",
              "  </tbody>\n",
              "</table>\n",
              "</div>"
            ],
            "text/plain": [
              "   firm  year         x         y\n",
              "0     1     1 -1.113973  2.251535\n",
              "1     1     2 -0.080854  1.242346\n",
              "2     1     3 -0.237607 -1.426376\n",
              "3     1     4 -0.152486 -1.109394\n",
              "4     1     5 -0.001426  0.914686"
            ]
          },
          "metadata": {
            "tags": []
          },
          "execution_count": 39
        }
      ]
    },
    {
      "cell_type": "markdown",
      "metadata": {
        "id": "t7qZnWtheba0",
        "colab_type": "text"
      },
      "source": [
        "## Ordinary Least Squares Regression\n",
        "\n",
        "$$ y_i = \\alpha + \\beta x_i + \\varepsilon_i$$\n",
        "\n",
        "\n",
        "\n",
        "* https://en.wikipedia.org/wiki/Ordinary_least_squares\n",
        "\n",
        "### OLS Assumptions\n",
        "* Correct specification\n",
        "* Strict exogeneity: $ E[\\varepsilon|X]=0$\n",
        "* No linear dependence\n",
        "* **Homoscedasticity:** $ E[\\varepsilon_i|X]=\\sigma^2 $\n",
        "* **No autocorrelation:** $ E[\\varepsilon_i \\varepsilon_j|X]=0$\n",
        "* Normality: $ \\varepsilon|X$ ~ $N(0,\\sigma^2 I_n)$"
      ]
    },
    {
      "cell_type": "code",
      "metadata": {
        "id": "z29HydO8k9XY",
        "colab_type": "code",
        "colab": {}
      },
      "source": [
        "xvar = np.random.normal(0,1,1000)\n",
        "ep = np.random.normal(0,2,1000)\n",
        "yvar = 2 + 0 * xvar + ep"
      ],
      "execution_count": 0,
      "outputs": []
    },
    {
      "cell_type": "code",
      "metadata": {
        "id": "VhGsQO12lX9_",
        "colab_type": "code",
        "outputId": "9082a3a2-aa59-466f-bbae-584f97a8710d",
        "colab": {
          "base_uri": "https://localhost:8080/",
          "height": 365
        }
      },
      "source": [
        "plt.plot(xvar,yvar,'.')"
      ],
      "execution_count": 0,
      "outputs": [
        {
          "output_type": "execute_result",
          "data": {
            "text/plain": [
              "[<matplotlib.lines.Line2D at 0x7fae2d7ec978>]"
            ]
          },
          "metadata": {
            "tags": []
          },
          "execution_count": 48
        },
        {
          "output_type": "display_data",
          "data": {
            "image/png": "[encoded data removed]",
            "text/plain": [
              "<matplotlib.figure.Figure at 0x7fae2d871b70>"
            ]
          },
          "metadata": {
            "tags": []
          }
        }
      ]
    },
    {
      "cell_type": "code",
      "metadata": {
        "id": "c4-zfBrGln59",
        "colab_type": "code",
        "outputId": "b37446cc-72ee-4b41-d816-2aa936a450d1",
        "colab": {
          "base_uri": "https://localhost:8080/",
          "height": 454
        }
      },
      "source": [
        "dat2 = pd.DataFrame(np.c_[xvar,yvar],columns=['xvar','yvar'])\n",
        "dat2.head()\n",
        "results = sm.ols(formula = 'yvar ~ xvar',data=dat2).fit()\n",
        "print(results.summary())"
      ],
      "execution_count": 0,
      "outputs": [
        {
          "output_type": "stream",
          "text": [
            "                            OLS Regression Results                            \n",
            "==============================================================================\n",
            "Dep. Variable:                   yvar   R-squared:                       0.002\n",
            "Model:                            OLS   Adj. R-squared:                  0.001\n",
            "Method:                 Least Squares   F-statistic:                     1.638\n",
            "Date:                Fri, 09 Feb 2018   Prob (F-statistic):              0.201\n",
            "Time:                        08:07:35   Log-Likelihood:                -2106.2\n",
            "No. Observations:                1000   AIC:                             4216.\n",
            "Df Residuals:                     998   BIC:                             4226.\n",
            "Df Model:                           1                                         \n",
            "Covariance Type:            nonrobust                                         \n",
            "==============================================================================\n",
            "                 coef    std err          t      P>|t|      [0.025      0.975]\n",
            "------------------------------------------------------------------------------\n",
            "Intercept      1.9590      0.063     31.078      0.000       1.835       2.083\n",
            "xvar           0.0786      0.061      1.280      0.201      -0.042       0.199\n",
            "==============================================================================\n",
            "Omnibus:                        0.867   Durbin-Watson:                   2.027\n",
            "Prob(Omnibus):                  0.648   Jarque-Bera (JB):                0.939\n",
            "Skew:                           0.065   Prob(JB):                        0.625\n",
            "Kurtosis:                       2.923   Cond. No.                         1.06\n",
            "==============================================================================\n",
            "\n",
            "Warnings:\n",
            "[1] Standard Errors assume that the covariance matrix of the errors is correctly specified.\n"
          ],
          "name": "stdout"
        }
      ]
    },
    {
      "cell_type": "code",
      "metadata": {
        "id": "i3n1NrLTeL2k",
        "colab_type": "code",
        "outputId": "6168af1a-acdd-427e-a30a-cf49fcbc5c41",
        "colab": {
          "base_uri": "https://localhost:8080/",
          "height": 454
        }
      },
      "source": [
        "ols_results = sm.ols(formula='y ~ x', data=dat).fit()\n",
        "print(ols_results.summary())"
      ],
      "execution_count": 0,
      "outputs": [
        {
          "output_type": "stream",
          "text": [
            "                            OLS Regression Results                            \n",
            "==============================================================================\n",
            "Dep. Variable:                      y   R-squared:                       0.208\n",
            "Model:                            OLS   Adj. R-squared:                  0.208\n",
            "Method:                 Least Squares   F-statistic:                     1311.\n",
            "Date:                Fri, 09 Feb 2018   Prob (F-statistic):          4.25e-255\n",
            "Time:                        08:10:31   Log-Likelihood:                -10573.\n",
            "No. Observations:                5000   AIC:                         2.115e+04\n",
            "Df Residuals:                    4998   BIC:                         2.116e+04\n",
            "Df Model:                           1                                         \n",
            "Covariance Type:            nonrobust                                         \n",
            "==============================================================================\n",
            "                 coef    std err          t      P>|t|      [0.025      0.975]\n",
            "------------------------------------------------------------------------------\n",
            "Intercept      0.0297      0.028      1.047      0.295      -0.026       0.085\n",
            "x              1.0348      0.029     36.204      0.000       0.979       1.091\n",
            "==============================================================================\n",
            "Omnibus:                        4.912   Durbin-Watson:                   1.096\n",
            "Prob(Omnibus):                  0.086   Jarque-Bera (JB):                4.862\n",
            "Skew:                           0.070   Prob(JB):                       0.0880\n",
            "Kurtosis:                       3.063   Cond. No.                         1.01\n",
            "==============================================================================\n",
            "\n",
            "Warnings:\n",
            "[1] Standard Errors assume that the covariance matrix of the errors is correctly specified.\n"
          ],
          "name": "stdout"
        }
      ]
    },
    {
      "cell_type": "markdown",
      "metadata": {
        "id": "WzFs0mUwgRHz",
        "colab_type": "text"
      },
      "source": [
        "## Heteroskedasticity tests for the residuals\n",
        "\n",
        "### Breush-Pagan Test\n",
        "* https://en.wikipedia.org/wiki/Breusch%E2%80%93Pagan_test\n",
        "* Null Hypothesis: homoskedasticity\n",
        "* If the p-value is less than 0.05, we rejects the Null hypothesis with 5% significance level."
      ]
    },
    {
      "cell_type": "code",
      "metadata": {
        "id": "gNdw7hQHa51C",
        "colab_type": "code",
        "outputId": "cb93f9a3-b523-4f8b-cc47-590ee86632d0",
        "colab": {
          "base_uri": "https://localhost:8080/",
          "height": 87
        }
      },
      "source": [
        "name = ['Lagrange multiplier statistic','p-value','f-value', 'f p-value']\n",
        "test = sms.het_breuschpagan(ols_results.resid, ols_results.model.exog)\n",
        "lzip(name, test)"
      ],
      "execution_count": 0,
      "outputs": [
        {
          "output_type": "execute_result",
          "data": {
            "text/plain": [
              "[('Lagrange multiplier statistic', 0.19056170748876777),\n",
              " ('p-value', 0.6624495239271655),\n",
              " ('f-value', 0.19049274293047413),\n",
              " ('f p-value', 0.662525680575091)]"
            ]
          },
          "metadata": {
            "tags": []
          },
          "execution_count": 10
        }
      ]
    },
    {
      "cell_type": "markdown",
      "metadata": {
        "id": "sOpHwf9qtnwt",
        "colab_type": "text"
      },
      "source": [
        "### Goldfeld-Quandt Test\n",
        "* https://en.wikipedia.org/wiki/Goldfeld%E2%80%93Quandt_test\n",
        "* Null Hypothesis: homoskedasticity\n",
        "* If the p-value is less than 0.05, we rejects the Null hypothesis with 5% significance level."
      ]
    },
    {
      "cell_type": "code",
      "metadata": {
        "id": "20ImGjDbh4Yv",
        "colab_type": "code",
        "outputId": "18a8f885-e366-4364-b1dc-ca32965d67bf",
        "colab": {
          "base_uri": "https://localhost:8080/",
          "height": 34
        }
      },
      "source": [
        "name = ['F statistic', 'p-value']\n",
        "test = sms.het_goldfeldquandt(ols_results.resid, ols_results.model.exog)\n",
        "lzip(name, test)"
      ],
      "execution_count": 0,
      "outputs": [
        {
          "output_type": "execute_result",
          "data": {
            "text/plain": [
              "[('F statistic', 0.9986459411522116), ('p-value', 0.5135045953054642)]"
            ]
          },
          "metadata": {
            "tags": []
          },
          "execution_count": 72
        }
      ]
    },
    {
      "cell_type": "markdown",
      "metadata": {
        "id": "ad1LzyI_n6Q8",
        "colab_type": "text"
      },
      "source": [
        "## Autocorrelation tests for the residuals\n",
        "\n",
        "### Durbin–Watson statistic\n",
        "\n",
        "* https://en.wikipedia.org/wiki/Durbin%E2%80%93Watson_statistic\n",
        "* http://www.statsmodels.org/dev/generated/statsmodels.stats.stattools.durbin_watson.html\n",
        "\n",
        "\"The test statistic is approximately equal to 2*(1-r) where r is the sample autocorrelation of the residuals. Thus, for r == 0, indicating no serial correlation, the test statistic equals 2. This statistic will always be between 0 and 4. The closer to 0 the statistic, the more evidence for positive serial correlation. The closer to 4, the more evidence for negative serial correlation.\""
      ]
    },
    {
      "cell_type": "code",
      "metadata": {
        "id": "Cd8i6JEbn53B",
        "colab_type": "code",
        "outputId": "d129924c-b6cc-4044-b452-c69a34a63884",
        "colab": {
          "base_uri": "https://localhost:8080/",
          "height": 34
        }
      },
      "source": [
        "test = smt.durbin_watson(ols_results.resid)\n",
        "print(test)"
      ],
      "execution_count": 0,
      "outputs": [
        {
          "output_type": "stream",
          "text": [
            "1.0961212409592467\n"
          ],
          "name": "stdout"
        }
      ]
    },
    {
      "cell_type": "markdown",
      "metadata": {
        "id": "kEZFqcH0ipV5",
        "colab_type": "text"
      },
      "source": [
        "## Correct Standard Errors with Newey-West Method"
      ]
    },
    {
      "cell_type": "code",
      "metadata": {
        "id": "ZssAlphdh-Gy",
        "colab_type": "code",
        "outputId": "c49af3a9-341a-466f-810e-ed4b5d0cc9a3",
        "colab": {
          "base_uri": "https://localhost:8080/",
          "height": 474
        }
      },
      "source": [
        "newey_west = sm.ols(formula='y~x',data=dat).fit(cov_type='HAC', cov_kwds={'maxlags':10})\n",
        "#newey_west = sm.ols(formula='y~x',data=dat).fit(cov_type='HAC', cov_kwds={'maxlags':10})\n",
        "print(newey_west.summary())"
      ],
      "execution_count": 0,
      "outputs": [
        {
          "output_type": "stream",
          "text": [
            "                            OLS Regression Results                            \n",
            "==============================================================================\n",
            "Dep. Variable:                      y   R-squared:                       0.208\n",
            "Model:                            OLS   Adj. R-squared:                  0.208\n",
            "Method:                 Least Squares   F-statistic:                     542.5\n",
            "Date:                Fri, 09 Feb 2018   Prob (F-statistic):          5.27e-114\n",
            "Time:                        08:23:59   Log-Likelihood:                -10573.\n",
            "No. Observations:                5000   AIC:                         2.115e+04\n",
            "Df Residuals:                    4998   BIC:                         2.116e+04\n",
            "Df Model:                           1                                         \n",
            "Covariance Type:                  HAC                                         \n",
            "==============================================================================\n",
            "                 coef    std err          z      P>|z|      [0.025      0.975]\n",
            "------------------------------------------------------------------------------\n",
            "Intercept      0.0297      0.057      0.519      0.604      -0.082       0.142\n",
            "x              1.0348      0.044     23.291      0.000       0.948       1.122\n",
            "==============================================================================\n",
            "Omnibus:                        4.912   Durbin-Watson:                   1.096\n",
            "Prob(Omnibus):                  0.086   Jarque-Bera (JB):                4.862\n",
            "Skew:                           0.070   Prob(JB):                       0.0880\n",
            "Kurtosis:                       3.063   Cond. No.                         1.01\n",
            "==============================================================================\n",
            "\n",
            "Warnings:\n",
            "[1] Standard Errors are heteroscedasticity and autocorrelation robust (HAC) using 10 lags and without small sample correction\n"
          ],
          "name": "stdout"
        }
      ]
    },
    {
      "cell_type": "markdown",
      "metadata": {
        "id": "amT9k2BBmch5",
        "colab_type": "text"
      },
      "source": [
        "## Other Example: Greene Econometrics Textbook \n",
        "* http://k-park.tistory.com/attachment/cfile26.uf@99F375335A1CBFD508BE56.txt"
      ]
    },
    {
      "cell_type": "code",
      "metadata": {
        "id": "ERjbHDKdmlRU",
        "colab_type": "code",
        "outputId": "33dc7c7e-22bf-4c5d-8eb2-3e0eb99a8d2d",
        "colab": {
          "base_uri": "https://localhost:8080/",
          "height": 204
        }
      },
      "source": [
        "dat2 = pd.read_csv(\"http://k-park.tistory.com/attachment/cfile26.uf@99F375335A1CBFD508BE56.txt\",sep='\\t')\n",
        "dat2.head()"
      ],
      "execution_count": 0,
      "outputs": [
        {
          "output_type": "execute_result",
          "data": {
            "text/html": [
              "<div>\n",
              "<style scoped>\n",
              "    .dataframe tbody tr th:only-of-type {\n",
              "        vertical-align: middle;\n",
              "    }\n",
              "\n",
              "    .dataframe tbody tr th {\n",
              "        vertical-align: top;\n",
              "    }\n",
              "\n",
              "    .dataframe thead th {\n",
              "        text-align: right;\n",
              "    }\n",
              "</style>\n",
              "<table border=\"1\" class=\"dataframe\">\n",
              "  <thead>\n",
              "    <tr style=\"text-align: right;\">\n",
              "      <th></th>\n",
              "      <th>gnp</th>\n",
              "      <th>invest</th>\n",
              "      <th>price</th>\n",
              "      <th>interest</th>\n",
              "      <th>year</th>\n",
              "      <th>r_gnp</th>\n",
              "      <th>r_invest</th>\n",
              "      <th>rate</th>\n",
              "      <th>r_int</th>\n",
              "    </tr>\n",
              "  </thead>\n",
              "  <tbody>\n",
              "    <tr>\n",
              "      <th>0</th>\n",
              "      <td>637.7</td>\n",
              "      <td>97.4</td>\n",
              "      <td>0.7277</td>\n",
              "      <td>3.55</td>\n",
              "      <td>1964</td>\n",
              "      <td>876.322660</td>\n",
              "      <td>133.846365</td>\n",
              "      <td>1.534812</td>\n",
              "      <td>2.015188</td>\n",
              "    </tr>\n",
              "    <tr>\n",
              "      <th>1</th>\n",
              "      <td>691.1</td>\n",
              "      <td>113.5</td>\n",
              "      <td>0.7436</td>\n",
              "      <td>4.04</td>\n",
              "      <td>1965</td>\n",
              "      <td>929.397526</td>\n",
              "      <td>152.635826</td>\n",
              "      <td>2.184966</td>\n",
              "      <td>1.855034</td>\n",
              "    </tr>\n",
              "    <tr>\n",
              "      <th>2</th>\n",
              "      <td>756.0</td>\n",
              "      <td>125.7</td>\n",
              "      <td>0.7676</td>\n",
              "      <td>4.50</td>\n",
              "      <td>1966</td>\n",
              "      <td>984.887962</td>\n",
              "      <td>163.757165</td>\n",
              "      <td>3.227542</td>\n",
              "      <td>1.272458</td>\n",
              "    </tr>\n",
              "    <tr>\n",
              "      <th>3</th>\n",
              "      <td>799.6</td>\n",
              "      <td>122.8</td>\n",
              "      <td>0.7906</td>\n",
              "      <td>4.19</td>\n",
              "      <td>1967</td>\n",
              "      <td>1011.383759</td>\n",
              "      <td>155.325070</td>\n",
              "      <td>2.996352</td>\n",
              "      <td>1.193648</td>\n",
              "    </tr>\n",
              "    <tr>\n",
              "      <th>4</th>\n",
              "      <td>873.4</td>\n",
              "      <td>133.3</td>\n",
              "      <td>0.8254</td>\n",
              "      <td>5.16</td>\n",
              "      <td>1968</td>\n",
              "      <td>1058.153622</td>\n",
              "      <td>161.497456</td>\n",
              "      <td>4.401720</td>\n",
              "      <td>0.758280</td>\n",
              "    </tr>\n",
              "  </tbody>\n",
              "</table>\n",
              "</div>"
            ],
            "text/plain": [
              "     gnp  invest   price  interest  year        r_gnp    r_invest      rate  \\\n",
              "0  637.7    97.4  0.7277      3.55  1964   876.322660  133.846365  1.534812   \n",
              "1  691.1   113.5  0.7436      4.04  1965   929.397526  152.635826  2.184966   \n",
              "2  756.0   125.7  0.7676      4.50  1966   984.887962  163.757165  3.227542   \n",
              "3  799.6   122.8  0.7906      4.19  1967  1011.383759  155.325070  2.996352   \n",
              "4  873.4   133.3  0.8254      5.16  1968  1058.153622  161.497456  4.401720   \n",
              "\n",
              "      r_int  \n",
              "0  2.015188  \n",
              "1  1.855034  \n",
              "2  1.272458  \n",
              "3  1.193648  \n",
              "4  0.758280  "
            ]
          },
          "metadata": {
            "tags": []
          },
          "execution_count": 72
        }
      ]
    },
    {
      "cell_type": "code",
      "metadata": {
        "id": "nGawB2m4szIj",
        "colab_type": "code",
        "outputId": "c575fce0-97a8-460e-f556-f0ad0a9a385c",
        "colab": {
          "base_uri": "https://localhost:8080/",
          "height": 562
        }
      },
      "source": [
        "green_results = sm.ols(formula='r_invest~r_int + r_gnp',data=dat2).fit()\n",
        "print(green_results.summary())"
      ],
      "execution_count": 0,
      "outputs": [
        {
          "output_type": "stream",
          "text": [
            "                            OLS Regression Results                            \n",
            "==============================================================================\n",
            "Dep. Variable:               r_invest   R-squared:                       0.814\n",
            "Model:                            OLS   Adj. R-squared:                  0.791\n",
            "Method:                 Least Squares   F-statistic:                     35.03\n",
            "Date:                Fri, 09 Feb 2018   Prob (F-statistic):           1.43e-06\n",
            "Time:                        08:34:24   Log-Likelihood:                -79.391\n",
            "No. Observations:                  19   AIC:                             164.8\n",
            "Df Residuals:                      16   BIC:                             167.6\n",
            "Df Model:                           2                                         \n",
            "Covariance Type:            nonrobust                                         \n",
            "==============================================================================\n",
            "                 coef    std err          t      P>|t|      [0.025      0.975]\n",
            "------------------------------------------------------------------------------\n",
            "Intercept    -12.5336     24.915     -0.503      0.622     -65.352      40.284\n",
            "r_int         -1.0014      2.369     -0.423      0.678      -6.023       4.020\n",
            "r_gnp          0.1691      0.021      8.224      0.000       0.126       0.213\n",
            "==============================================================================\n",
            "Omnibus:                        2.163   Durbin-Watson:                   1.322\n",
            "Prob(Omnibus):                  0.339   Jarque-Bera (JB):                1.103\n",
            "Skew:                          -0.587   Prob(JB):                        0.576\n",
            "Kurtosis:                       3.127   Cond. No.                     7.78e+03\n",
            "==============================================================================\n",
            "\n",
            "Warnings:\n",
            "[1] Standard Errors assume that the covariance matrix of the errors is correctly specified.\n",
            "[2] The condition number is large, 7.78e+03. This might indicate that there are\n",
            "strong multicollinearity or other numerical problems.\n"
          ],
          "name": "stdout"
        },
        {
          "output_type": "stream",
          "text": [
            "/usr/local/lib/python3.6/dist-packages/scipy/stats/stats.py:1334: UserWarning: kurtosistest only valid for n>=20 ... continuing anyway, n=19\n",
            "  \"anyway, n=%i\" % int(n))\n"
          ],
          "name": "stderr"
        }
      ]
    },
    {
      "cell_type": "code",
      "metadata": {
        "id": "e2RYbeKfs87C",
        "colab_type": "code",
        "outputId": "696f1f04-5b58-4fa5-e7ca-cb0356269194",
        "colab": {
          "base_uri": "https://localhost:8080/",
          "height": 87
        }
      },
      "source": [
        "name = ['Lagrange multiplier statistic','p-value','f-value', 'f p-value']\n",
        "test = sms.het_breuschpagan(green_results.resid, green_results.model.exog)\n",
        "lzip(name, test)"
      ],
      "execution_count": 0,
      "outputs": [
        {
          "output_type": "execute_result",
          "data": {
            "text/plain": [
              "[('Lagrange multiplier statistic', 4.215484566321315),\n",
              " ('p-value', 0.12151199665668992),\n",
              " ('f-value', 2.281026840673353),\n",
              " ('f p-value', 0.13440887690544684)]"
            ]
          },
          "metadata": {
            "tags": []
          },
          "execution_count": 75
        }
      ]
    },
    {
      "cell_type": "code",
      "metadata": {
        "id": "HvHt48zdmqRL",
        "colab_type": "code",
        "outputId": "3defe7ce-2756-4803-e55c-81425637bb7f",
        "colab": {
          "base_uri": "https://localhost:8080/",
          "height": 562
        }
      },
      "source": [
        "green_results = sm.ols(formula='r_invest~r_int + r_gnp',data=dat2).fit(cov_type='HAC', cov_kwds={'maxlags':4})\n",
        "print(green_results.summary())"
      ],
      "execution_count": 0,
      "outputs": [
        {
          "output_type": "stream",
          "text": [
            "                            OLS Regression Results                            \n",
            "==============================================================================\n",
            "Dep. Variable:               r_invest   R-squared:                       0.814\n",
            "Model:                            OLS   Adj. R-squared:                  0.791\n",
            "Method:                 Least Squares   F-statistic:                     51.20\n",
            "Date:                Fri, 09 Feb 2018   Prob (F-statistic):           1.11e-07\n",
            "Time:                        08:36:21   Log-Likelihood:                -79.391\n",
            "No. Observations:                  19   AIC:                             164.8\n",
            "Df Residuals:                      16   BIC:                             167.6\n",
            "Df Model:                           2                                         \n",
            "Covariance Type:                  HAC                                         \n",
            "==============================================================================\n",
            "                 coef    std err          z      P>|z|      [0.025      0.975]\n",
            "------------------------------------------------------------------------------\n",
            "Intercept    -12.5336     18.958     -0.661      0.509     -49.691      24.624\n",
            "r_int         -1.0014      3.342     -0.300      0.764      -7.552       5.549\n",
            "r_gnp          0.1691      0.017     10.097      0.000       0.136       0.202\n",
            "==============================================================================\n",
            "Omnibus:                        2.163   Durbin-Watson:                   1.322\n",
            "Prob(Omnibus):                  0.339   Jarque-Bera (JB):                1.103\n",
            "Skew:                          -0.587   Prob(JB):                        0.576\n",
            "Kurtosis:                       3.127   Cond. No.                     7.78e+03\n",
            "==============================================================================\n",
            "\n",
            "Warnings:\n",
            "[1] Standard Errors are heteroscedasticity and autocorrelation robust (HAC) using 4 lags and without small sample correction\n",
            "[2] The condition number is large, 7.78e+03. This might indicate that there are\n",
            "strong multicollinearity or other numerical problems.\n"
          ],
          "name": "stdout"
        },
        {
          "output_type": "stream",
          "text": [
            "/usr/local/lib/python3.6/dist-packages/scipy/stats/stats.py:1334: UserWarning: kurtosistest only valid for n>=20 ... continuing anyway, n=19\n",
            "  \"anyway, n=%i\" % int(n))\n"
          ],
          "name": "stderr"
        }
      ]
    }
  ]
}