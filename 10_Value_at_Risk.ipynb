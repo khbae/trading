{
  "nbformat": 4,
  "nbformat_minor": 0,
  "metadata": {
    "colab": {
      "name": "10_Value at Risk.ipynb",
      "provenance": [],
      "collapsed_sections": [],
      "include_colab_link": true
    }
  },
  "cells": [
    {
      "cell_type": "markdown",
      "metadata": {
        "id": "view-in-github",
        "colab_type": "text"
      },
      "source": [
        "<a href=\"https://colab.research.google.com/github/khbae/trading/blob/master/10_Value_at_Risk.ipynb\" target=\"_parent\"><img src=\"https://colab.research.google.com/assets/colab-badge.svg\" alt=\"Open In Colab\"/></a>"
      ]
    },
    {
      "cell_type": "markdown",
      "metadata": {
        "id": "qcmYAtrzavOl",
        "colab_type": "text"
      },
      "source": [
        "# Value at Risk (VaR) and Expected Shortfall\n",
        "\n",
        "## Financial Risks\n",
        "\n",
        "* Credit Risk, default risk\n",
        "* Market risk: risk due to changes in stock prices, interest rates, FX and commodity prices\n",
        "* Operational risk: includes legal and political risks\n",
        "\n",
        "## Value at Risk\n",
        "\"Value at risk (VaR) is a measure of the risk of loss for investments. It estimates how much a set of investments might lose (with a given probability), given normal market conditions, in a set time period such as a day. VaR is typically used by firms and regulators in the financial industry to gauge the amount of assets needed to cover possible losses.\"\n",
        "* https://en.wikipedia.org/wiki/Value_at_risk\n",
        "\n",
        "![alt text](https://upload.wikimedia.org/wikipedia/commons/6/64/VaR_diagram.JPG =500x)\n",
        "\n",
        "\n",
        "\n"
      ]
    },
    {
      "cell_type": "markdown",
      "metadata": {
        "id": "G0iFXAmMG1B6",
        "colab_type": "text"
      },
      "source": [
        "Value-at-Risk (Var) is the single most important concept for market risk measurement.\n",
        "* First used by J.P. Morgan for internal purposes during the 1990s\n",
        "* Probability-based measure of loss potential for a company, fund, portfolio or strategy.\n",
        "* Formal definition: **VaR is a monetary estimation of the loss that we expect to be exceeded with a given level of probability over a specific period of time.**\n",
        "* So you will read a statement like:\n",
        "    * The VaR for Star Fund is 2 million dollar for 1 day with probability of 0.05.\n",
        "* What does this mean?\n",
        "    * There is a 5 percent chance that Star Fund will lose at least 2 million dollar over the next one-day period \n",
        "    * 95 percent chance of loss less than 2 million dollars in one day\n",
        "* So the probability level can be thought of as confidence level:\n",
        "    * if it is reduced from 0.05 to 0.01, VaR number will be higher.\n",
        "    \n",
        "The user must, however, choose:\n",
        "* The appropriate probability level (often 0.01 or 0.05) 0.01 is obviously a more conservative approach, and often chosen if you believe there is significant non-linear, “fat tail” in the distribution.\n",
        "* Time period (usually a day for traders, two weeks for bank regulators )Obviously, the longer the time period, the greater the VaR numbereven if your probability level is unchanged (more things can go wrong in a week than in a day)."
      ]
    },
    {
      "cell_type": "markdown",
      "metadata": {
        "id": "Bq2EXhO3dQrq",
        "colab_type": "text"
      },
      "source": [
        "### Normal distribution Assumption\n",
        "\n",
        "Suppose that portfolio's returns follow the normal distribution with expectation $\\mu$ and standard deviation $\\sigma$.\n",
        "\n",
        "$$ \\tilde{r} \\sim N(\\mu,\\sigma^{2})$$\n",
        "\n",
        "Let $P_0$ be portfolio's initial value. The portfolio value next period, $\\tilde{X}$ is \n",
        "\n",
        "$$ \\tilde{X} = P_0 \\times (1+\\tilde{r})  \\sim N( P_0 (1+\\mu) , P_0 \\sigma^2)$$\n",
        "\n",
        "Note that the portfolio value, $\\tilde{X}$, follows a normal distribution. Let's normalize it:\n",
        "\n",
        "$$ \\frac{\\tilde{X} - P_0(1+\\mu)}{P_0 \\sigma } \\sim N(0,1) $$\n",
        "\n",
        "Let $z_c$ be the $c$th quantile of $N(0,1)$. Then the portfolio's value at $c$th quantile is\n",
        "\n",
        "$$ P_0 (1 + \\mu + \\sigma z_c)  $$\n",
        "\n",
        "c% VaR would be\n",
        "\n",
        "$$ VaR_c = P_0 - P_0 (1+ \\mu + \\sigma z_c) = -P_0(\\mu+\\sigma z_c) $$"
      ]
    },
    {
      "cell_type": "code",
      "metadata": {
        "id": "xj32bZItaego",
        "colab_type": "code",
        "outputId": "da27d956-127b-4ed4-a384-843064a4dd42",
        "colab": {
          "base_uri": "https://localhost:8080/",
          "height": 35
        }
      },
      "source": [
        "# define VaR function\n",
        "from scipy import stats\n",
        "\n",
        "def VaR(P0,mu,sigma,c):\n",
        "  zc = stats.norm.ppf(c,loc=0,scale=1)\n",
        "  VaRout = -P0*(mu+sigma*zc)\n",
        "  return VaRout\n",
        "\n",
        "VaR(1,0.02,0.03,0.05)"
      ],
      "execution_count": 0,
      "outputs": [
        {
          "output_type": "execute_result",
          "data": {
            "text/plain": [
              "0.02934560880854418"
            ]
          },
          "metadata": {
            "tags": []
          },
          "execution_count": 7
        }
      ]
    },
    {
      "cell_type": "markdown",
      "metadata": {
        "id": "uCS7G4h1R4M2",
        "colab_type": "text"
      },
      "source": [
        "* https://docs.scipy.org/doc/scipy/reference/generated/scipy.stats.norm.html"
      ]
    },
    {
      "cell_type": "code",
      "metadata": {
        "id": "vnWrpVi-i9NJ",
        "colab_type": "code",
        "outputId": "43262960-cefa-48b7-9404-d68daee29f15",
        "colab": {
          "base_uri": "https://localhost:8080/",
          "height": 127
        }
      },
      "source": [
        "!pip install -q pandas_datareader # pandas_datareader 패키지를 인스톨 하는 코드이다.\n",
        "\n",
        "import pandas as pd\n",
        "import pandas_datareader.data as web\n",
        "import datetime # 원하는 날짜를 형성하여 만들 수 가 있다.\n",
        "import numpy as np\n",
        "\n",
        "start = datetime.datetime(2010, 1, 1)\n",
        "end = datetime.datetime(2014, 1, 1)\n",
        "\n",
        "aapl = web.DataReader(\"AAPL\", \"google\", start, end) # APPLE 의 주가코드, 주식 데이터를 받아올 사이트, 그리고 시작날짜와 종료 날짜를 인자로 한다."
      ],
      "execution_count": 0,
      "outputs": [
        {
          "output_type": "stream",
          "text": [
            "/usr/local/lib/python2.7/dist-packages/pandas_datareader/google/daily.py:40: UnstableAPIWarning: \n",
            "The Google Finance API has not been stable since late 2017. Requests seem\n",
            "to fail at random. Failure is especially common when bulk downloading.\n",
            "\n",
            "  warnings.warn(UNSTABLE_WARNING, UnstableAPIWarning)\n"
          ],
          "name": "stderr"
        }
      ]
    },
    {
      "cell_type": "code",
      "metadata": {
        "id": "ZwCOzYa4-v5R",
        "colab_type": "code",
        "outputId": "80178ad6-b1bb-4d67-bccc-47d058f13d2d",
        "colab": {
          "base_uri": "https://localhost:8080/",
          "height": 53
        }
      },
      "source": [
        "mu = aapl['Close'].pct_change().mean()\n",
        "sigma = aapl['Close'].pct_change().std()\n",
        "\n",
        "P0 = 1000000\n",
        "\n",
        "print(VaR(P0,mu,sigma,0.05))\n",
        "print(VaR(P0,mu,sigma,0.01))\n"
      ],
      "execution_count": 0,
      "outputs": [
        {
          "output_type": "stream",
          "text": [
            "27690.25109372246\n",
            "39624.36470615365\n"
          ],
          "name": "stdout"
        }
      ]
    },
    {
      "cell_type": "code",
      "metadata": {
        "id": "XeLwDnjgU2YV",
        "colab_type": "code",
        "outputId": "d887a94a-27f3-488e-ad72-1efbc929dd15",
        "colab": {
          "base_uri": "https://localhost:8080/",
          "height": 35
        }
      },
      "source": [
        "allvar = []\n",
        "for i in range(1000):\n",
        "  mont1 = pd.Series(np.random.normal(loc=mu,scale=sigma,size=1000))\n",
        "  var = mont1.quantile(0.01) * P0\n",
        "  allvar.append(var)\n",
        "  #print(var)\n",
        "\n",
        "np.mean(allvar)"
      ],
      "execution_count": 0,
      "outputs": [
        {
          "output_type": "execute_result",
          "data": {
            "text/plain": [
              "-39270.54170565381"
            ]
          },
          "metadata": {
            "tags": []
          },
          "execution_count": 33
        }
      ]
    },
    {
      "cell_type": "code",
      "metadata": {
        "id": "azXOiKhh8Y3O",
        "colab_type": "code",
        "outputId": "2271ff0d-0bbb-424f-ba67-ebfaa54bd97c",
        "colab": {
          "base_uri": "https://localhost:8080/",
          "height": 34
        }
      },
      "source": [
        "## Monte Carlo Simulation\n"
      ],
      "execution_count": 0,
      "outputs": [
        {
          "output_type": "execute_result",
          "data": {
            "text/plain": [
              "27671.051522509497"
            ]
          },
          "metadata": {
            "tags": []
          },
          "execution_count": 45
        }
      ]
    },
    {
      "cell_type": "code",
      "metadata": {
        "id": "UjQYzq7rYBRJ",
        "colab_type": "code",
        "outputId": "915372d7-c081-412d-de98-fd62d13bb2ea",
        "colab": {
          "base_uri": "https://localhost:8080/",
          "height": 52
        }
      },
      "source": [
        "# Change Distributional assumptions\n"
      ],
      "execution_count": 0,
      "outputs": [
        {
          "output_type": "stream",
          "text": [
            "27690.25109372246\n",
            "28234.013433741762\n"
          ],
          "name": "stdout"
        }
      ]
    },
    {
      "cell_type": "markdown",
      "metadata": {
        "id": "ERpy4nFQZIOn",
        "colab_type": "text"
      },
      "source": [
        "## Expected Shortfall\n",
        "\n",
        "\"Expected shortfall (ES) is a risk measure—a concept used in the field of financial risk measurement to evaluate the market risk or credit risk of a portfolio.\"\n",
        "* https://en.wikipedia.org/wiki/Expected_shortfall\n",
        "\n",
        "Expected shortfall is also called \n",
        "* conditional value at risk (CVaR)\n",
        "* average value at risk (AVaR)\n",
        "* expected tail loss (ETL).\n"
      ]
    },
    {
      "cell_type": "markdown",
      "metadata": {
        "id": "jp_mjBo6VdlU",
        "colab_type": "text"
      },
      "source": [
        "Let $ x_c = P_0 (1 + \\mu + \\sigma z_c) $\n",
        "\n",
        "$$ \\text{Expected Shortfall} = P_0 - \\frac{1}{c} \\int_{-\\infty}^{x_c} xf(x) dx $$\n",
        "\n",
        ", where $$ \\tilde{X} = P_0 \\times (1+\\tilde{r})  \\sim N( P_0 (1+\\mu) , P_0 \\sigma^2)$$\n",
        "\n",
        "Substitute, \n",
        "\n",
        "$$ \\text{Expected Shortfall} = P_0 \\times (\\frac{1}{c} \\phi (\\Phi^{-1} (c)) \\sigma - \\mu )  $$\n",
        ", where $\\phi(x)$ denotes the standard normal density function and $\\Phi(\\alpha)$ the $\\alpha$ quantile of the standard normal distribution.  "
      ]
    },
    {
      "cell_type": "code",
      "metadata": {
        "id": "xSrUkMdsceqH",
        "colab_type": "code",
        "outputId": "f381807b-3b5a-48f4-f0d3-08f5f66279b1",
        "colab": {
          "base_uri": "https://localhost:8080/",
          "height": 53
        }
      },
      "source": [
        "#stats.norm.pdf()\n",
        "def ES(P0,mu,sigma,c):\n",
        "  zc = stats.norm.ppf(c,loc=0,scale=1)\n",
        "  ESout = P0 * ( stats.norm.pdf(zc,loc=0,scale=1)/c * sigma - mu) \n",
        "  return ESout\n",
        "\n",
        "print(VaR(P0,mu,sigma,0.05))\n",
        "print(ES(P0,mu,sigma,0.05))\n",
        " "
      ],
      "execution_count": 0,
      "outputs": [
        {
          "output_type": "stream",
          "text": [
            "27690.25109372246\n",
            "35007.670068351305\n"
          ],
          "name": "stdout"
        }
      ]
    },
    {
      "cell_type": "code",
      "metadata": {
        "id": "E_IKRNsX-O2z",
        "colab_type": "code",
        "outputId": "e9ee7ca9-4c12-40fc-9cd4-714bc72b011d",
        "colab": {
          "base_uri": "https://localhost:8080/",
          "height": 35
        }
      },
      "source": [
        "## Monte Carlo Simulation\n",
        "allES = []\n",
        "for i in range(1000):\n",
        "  mont1 = pd.Series(np.random.normal(loc=mu,scale=sigma,size=1000))\n",
        "  var = mont1.quantile(0.05)\n",
        "  ES = mont1[mont1<var].mean()*P0\n",
        "  allES.append(ES)\n",
        "  #print(var)\n",
        "\n",
        "np.mean(allES)\n",
        "#np.mean(allES)"
      ],
      "execution_count": 0,
      "outputs": [
        {
          "output_type": "execute_result",
          "data": {
            "text/plain": [
              "-34927.74811875809"
            ]
          },
          "metadata": {
            "tags": []
          },
          "execution_count": 53
        }
      ]
    }
  ]
}