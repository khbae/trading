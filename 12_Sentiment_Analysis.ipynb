{
  "nbformat": 4,
  "nbformat_minor": 0,
  "metadata": {
    "colab": {
      "name": "12.Sentiment_Analysis.ipynb",
      "provenance": [],
      "collapsed_sections": [],
      "include_colab_link": true
    },
    "kernelspec": {
      "name": "python3",
      "display_name": "Python 3"
    }
  },
  "cells": [
    {
      "cell_type": "markdown",
      "metadata": {
        "id": "view-in-github",
        "colab_type": "text"
      },
      "source": [
        "<a href=\"https://colab.research.google.com/github/khbae/trading/blob/master/12_Sentiment_Analysis.ipynb\" target=\"_parent\"><img src=\"https://colab.research.google.com/assets/colab-badge.svg\" alt=\"Open In Colab\"/></a>"
      ]
    },
    {
      "cell_type": "code",
      "metadata": {
        "id": "gLhC-00tVS_H",
        "colab_type": "code",
        "colab": {}
      },
      "source": [
        "!pip install twython"
      ],
      "execution_count": 0,
      "outputs": []
    },
    {
      "cell_type": "markdown",
      "metadata": {
        "id": "tba_4_xWWEBy",
        "colab_type": "text"
      },
      "source": [
        "필요한 라이브러리 불러오기 및 감정사전 다운로드"
      ]
    },
    {
      "cell_type": "code",
      "metadata": {
        "id": "CAuZLixyWBzL",
        "colab_type": "code",
        "outputId": "8abba5a0-2f5a-436e-c1dc-ace71fab2230",
        "colab": {
          "base_uri": "https://localhost:8080/",
          "height": 69
        }
      },
      "source": [
        "import nltk\n",
        "import pandas as pd\n",
        "nltk.download(\"opinion_lexicon\")\n",
        "from nltk.corpus import opinion_lexicon\n",
        "from nltk.tokenize import treebank"
      ],
      "execution_count": 0,
      "outputs": [
        {
          "output_type": "stream",
          "text": [
            "[nltk_data] Downloading package opinion_lexicon to\n",
            "[nltk_data]     /content/nltk_data...\n",
            "[nltk_data]   Unzipping corpora/opinion_lexicon.zip.\n"
          ],
          "name": "stdout"
        }
      ]
    },
    {
      "cell_type": "markdown",
      "metadata": {
        "id": "kb7WFvyaXTvJ",
        "colab_type": "text"
      },
      "source": [
        "google drive에서 데이터 불러오기"
      ]
    },
    {
      "cell_type": "code",
      "metadata": {
        "id": "esIacgRxXSfQ",
        "colab_type": "code",
        "colab": {}
      },
      "source": [
        "from google.colab import auth\n",
        "auth.authenticate_user()\n",
        "\n",
        "from googleapiclient.discovery import build\n",
        "drive_service = build('drive', 'v3')\n",
        "\n",
        "file_id = '12VE5YW0-O2vc2DxoVYyxhCq3nv8rqwhh'\n",
        "\n",
        "import io\n",
        "from googleapiclient.http import MediaIoBaseDownload\n",
        "\n",
        "request = drive_service.files().get_media(fileId=file_id)\n",
        "downloaded = io.BytesIO()\n",
        "downloader = MediaIoBaseDownload(downloaded, request)\n",
        "done = False\n",
        "while done is False:\n",
        "  _, done = downloader.next_chunk()\n",
        "\n",
        "downloaded.seek(0)\n",
        "print('Downloaded file contents are: {}'.format(downloaded.read()))"
      ],
      "execution_count": 0,
      "outputs": []
    },
    {
      "cell_type": "code",
      "metadata": {
        "id": "GCguTlQ-ZuoB",
        "colab_type": "code",
        "outputId": "19dcdcf3-668e-48ce-bd7f-33481723c5ee",
        "colab": {
          "base_uri": "https://localhost:8080/",
          "height": 185
        }
      },
      "source": [
        "import os\n",
        "os.listdir()"
      ],
      "execution_count": 0,
      "outputs": [
        {
          "output_type": "execute_result",
          "data": {
            "text/plain": [
              "['datalab',\n",
              " '.local',\n",
              " '.cache',\n",
              " '.rnd',\n",
              " 'article.csv',\n",
              " '.forever',\n",
              " 'nltk_data',\n",
              " '.ipython',\n",
              " '.config']"
            ]
          },
          "metadata": {
            "tags": []
          },
          "execution_count": 10
        }
      ]
    },
    {
      "cell_type": "markdown",
      "metadata": {
        "id": "7bsvPuPjXdTq",
        "colab_type": "text"
      },
      "source": [
        "**yahoo finance에서 스크랩한 csv파일 불러오기**\n",
        "\n",
        "\n",
        "\n",
        "pd.read_csv(\"파일이름\")=>working directory에서 csv파일을 읽어 python으로 가져오는 명령어. utf8은 문자열을 encoding하는 방식."
      ]
    },
    {
      "cell_type": "code",
      "metadata": {
        "id": "8q6FcgYuXQt6",
        "colab_type": "code",
        "colab": {}
      },
      "source": [
        "dfarticle=pd.read_csv(\"article.csv\",encoding=\"utf8\")"
      ],
      "execution_count": 0,
      "outputs": []
    },
    {
      "cell_type": "markdown",
      "metadata": {
        "id": "41fV8totXjSZ",
        "colab_type": "text"
      },
      "source": [
        "**<감정분석>\n",
        "tokenize->token들을 감정사전에서 검색하여 positive/negative로 분류->positive token의 갯수와 negative token의 갯수를 비교하여 전체 기사 제목의 sentiment를 postive/negative/neutral로 분류**\n"
      ]
    },
    {
      "cell_type": "code",
      "metadata": {
        "id": "2pSp9FkaYwGr",
        "colab_type": "code",
        "outputId": "7defe4c9-7654-4ecc-ad4c-cb649c65d465",
        "colab": {
          "base_uri": "https://localhost:8080/",
          "height": 950
        }
      },
      "source": [
        "sentiment=[]\n",
        "for text in dfarticle[\"titles\"]:\n",
        "\n",
        "    tokenizer = treebank.TreebankWordTokenizer()\n",
        "    #문장을 tokenize 할 수 있게 하는 객체 초기화\n",
        "    pos_words = 0\n",
        "    neg_words = 0\n",
        "    tokenized_sent = [word.lower() for word in tokenizer.tokenize(text)]\n",
        "    #print(tokenized_sent)를 해봄으로써 어떻게 tokenize되는지 확인\n",
        "    \n",
        "   \n",
        "\n",
        "    for word in tokenized_sent:\n",
        "        if word in opinion_lexicon.positive():\n",
        "            pos_words += 1\n",
        "        elif word in opinion_lexicon.negative():\n",
        "            neg_words += 1\n",
        "        else:\n",
        "            pass\n",
        "\n",
        "    if pos_words > neg_words:\n",
        "        print('Positive')\n",
        "        sentiment.append('Positive')\n",
        "    elif pos_words < neg_words:\n",
        "        print('Negative')\n",
        "        sentiment.append('Negative')\n",
        "    elif pos_words == neg_words:\n",
        "        print('Neutral')\n",
        "        sentiment.append('Neutral')\n",
        "\n",
        "    "
      ],
      "execution_count": 0,
      "outputs": [
        {
          "output_type": "stream",
          "text": [
            "Neutral\n",
            "Negative\n",
            "Neutral\n",
            "Positive\n",
            "Neutral\n",
            "Neutral\n",
            "Neutral\n",
            "Neutral\n",
            "Positive\n",
            "Negative\n",
            "Negative\n",
            "Neutral\n",
            "Positive\n",
            "Neutral\n",
            "Neutral\n",
            "Neutral\n",
            "Neutral\n",
            "Positive\n",
            "Negative\n",
            "Negative\n",
            "Neutral\n",
            "Positive\n",
            "Neutral\n",
            "Neutral\n",
            "Neutral\n",
            "Neutral\n",
            "Positive\n",
            "Negative\n",
            "Negative\n",
            "Neutral\n",
            "Positive\n",
            "Neutral\n",
            "Neutral\n",
            "Neutral\n",
            "Neutral\n",
            "Positive\n",
            "Negative\n",
            "Negative\n",
            "Neutral\n",
            "Neutral\n",
            "Neutral\n",
            "Neutral\n",
            "Neutral\n",
            "Neutral\n",
            "Positive\n",
            "Negative\n",
            "Negative\n",
            "Neutral\n",
            "Neutral\n",
            "Neutral\n"
          ],
          "name": "stdout"
        }
      ]
    },
    {
      "cell_type": "markdown",
      "metadata": {
        "id": "c42innjwZKTD",
        "colab_type": "text"
      },
      "source": [
        "**dfarticle에 분류된 sentiment 붙이기&csv파일로 저장**\n",
        "data.to_csv(\"filename.csv\")=>data를 csv파일로 working directory에 저장."
      ]
    },
    {
      "cell_type": "code",
      "metadata": {
        "id": "SpNJy1VzZQzq",
        "colab_type": "code",
        "colab": {}
      },
      "source": [
        "dfarticle[\"sentiment\"]=sentiment\n",
        "dfarticle.to_csv(\"article_sentiment.csv\",encoding='utf8')"
      ],
      "execution_count": 0,
      "outputs": []
    },
    {
      "cell_type": "markdown",
      "metadata": {
        "id": "XqexSN7eaIH-",
        "colab_type": "text"
      },
      "source": [
        "google drive에도 저장"
      ]
    },
    {
      "cell_type": "code",
      "metadata": {
        "id": "i7zBmbpDaJyo",
        "colab_type": "code",
        "outputId": "8b9ae06d-b4cd-4606-9bbe-8cca8217dccc",
        "colab": {
          "base_uri": "https://localhost:8080/",
          "height": 36
        }
      },
      "source": [
        "from googleapiclient.http import MediaFileUpload\n",
        "\n",
        "\n",
        "file_metadata = {\n",
        "  'name': 'article_sentiment.csv',\n",
        "  'mimeType': 'text/csv'\n",
        "}\n",
        "media = MediaFileUpload('article_sentiment.csv', \n",
        "                        mimetype='text/csv',\n",
        "                        resumable=True)\n",
        "created = drive_service.files().create(body=file_metadata,\n",
        "                                       media_body=media,\n",
        "                                       fields='id').execute()\n",
        "print('File ID: {}'.format(created.get('id')))"
      ],
      "execution_count": 0,
      "outputs": [
        {
          "output_type": "stream",
          "text": [
            "File ID: 1cDacrlRoynmeAplcKYXnHnArN06J2yES\n"
          ],
          "name": "stdout"
        }
      ]
    }
  ]
}