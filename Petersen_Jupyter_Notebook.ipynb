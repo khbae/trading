{
  "nbformat": 4,
  "nbformat_minor": 0,
  "metadata": {
    "celltoolbar": "Slideshow",
    "kernelspec": {
      "display_name": "R",
      "language": "R",
      "name": "ir"
    },
    "language_info": {
      "codemirror_mode": "r",
      "file_extension": ".r",
      "mimetype": "text/x-r-source",
      "name": "R",
      "pygments_lexer": "r",
      "version": "3.4.2"
    },
    "colab": {
      "name": "Petersen Jupyter Notebook.ipynb",
      "provenance": [],
      "include_colab_link": true
    }
  },
  "cells": [
    {
      "cell_type": "markdown",
      "metadata": {
        "id": "view-in-github",
        "colab_type": "text"
      },
      "source": [
        "<a href=\"https://colab.research.google.com/github/khbae/trading/blob/master/Petersen_Jupyter_Notebook.ipynb\" target=\"_parent\"><img src=\"https://colab.research.google.com/assets/colab-badge.svg\" alt=\"Open In Colab\"/></a>"
      ]
    },
    {
      "cell_type": "markdown",
      "metadata": {
        "id": "3WeO465GuUVq",
        "colab_type": "text"
      },
      "source": [
        "# Petersen - Estimating Standard Errors in Finance Panel Data Sets: Comparing Approaches (prepared by Jinkyu Kim)\n"
      ]
    },
    {
      "cell_type": "markdown",
      "metadata": {
        "id": "UmcHJL8iuUVs",
        "colab_type": "text"
      },
      "source": [
        "Objectives : provide standard error codes\n",
        "-------------\n",
        "If you use wrong standard error, you have more probability of both rejecting your hypotheses and your paper being rejected by referees. **:(** Let's use proper standard error!!!\n",
        "\n",
        "Provided codes\n",
        "----------\n",
        "OLS, White Error, Newey-West, Pooled OLS (same as OLS), Clustered by Firm, Clustered by Time (R default), Clustered by Time (STATA default), Clustered by Firm and Time (STATA default), Fama and Macbeth\n",
        "\n",
        "When to use each code?\n",
        "----------\n",
        "**FIRM EFFECT**: USE Std. Error **Clustered by FIRM**, or if you sure your firm effect is permanent, FE, RE (I don't provide here, if you need, just search on google) is okay\n",
        "\n",
        "**TIME EFFECT**: USE **Fama MacBeth**, or if T is sufficient, Std. Error clustered by Time is okay.\n",
        "\n",
        "**FIRM & TIME EFFECT**: if N,T is sufficient, **Double Clustering**, if not, consider using combination of **Time Dummy + Std. Error Clustered by FIRM**\n",
        "\n",
        "\n"
      ]
    },
    {
      "cell_type": "code",
      "metadata": {
        "id": "EbRxZfubuUVs",
        "colab_type": "code",
        "colab": {}
      },
      "source": [
        "rm(list=ls())\n",
        "\n",
        "#LIBRARY\n",
        "library(sandwich); library(plm); library(lmtest)\n",
        "\n",
        "#DATA Reading from PETERSEN website\n",
        "mydat<-read.table(\n",
        "  \"http://www.kellogg.northwestern.edu/faculty/petersen/htm/papers/se/test_data.txt\",\n",
        "  col.names=c(\"firm\", \"year\",\"x\", \"y\"))"
      ],
      "execution_count": 0,
      "outputs": []
    },
    {
      "cell_type": "code",
      "metadata": {
        "id": "MWtGp46buUVv",
        "colab_type": "code",
        "colab": {},
        "outputId": "febdcca9-9d88-486b-b96c-0d700c4460d3"
      },
      "source": [
        "\n",
        "#OLS\n",
        "  ols = lm(y~x, data=mydat)\n",
        "  result = t(as.data.frame(summary(ols)$coefficients[2,1:3]))\n",
        "  row.names(result) = c(\"ols\")\n",
        "\n",
        "#OLS with White\n",
        "  white = coeftest(ols, vcov = function(x) vcovHC(x, method=\"white1\", type=\"HC1\"))\n",
        "  result = rbind(result, white[2,c(\"Estimate\", \"Std. Error\", \"t value\")])\n",
        "  row.names(result)[2] = c(\"white\")\n",
        "  \n",
        "#OLS with Newey-West \n",
        "  newey = coeftest(ols, vcov = NeweyWest(ols))\n",
        "  result = rbind(result, newey[2,c(\"Estimate\", \"Std. Error\", \"t value\")])\n",
        "  row.names(result)[3] = c(\"newey\")\n",
        "  \n",
        "#OLS clustered by Firm or Year \n",
        "  p.ols = plm(y~x, model=\"pooling\", index=c(\"firm\", \"year\"), data=mydat)\n",
        "  result=rbind(result, summary(p.ols)$coefficients[2 ,c(\"Estimate\", \"Std. Error\",\"t-value\")])\n",
        "  row.names(result)[4] = c(\"p.ols\")\n",
        "  \n",
        "  cluster.firm = coeftest(p.ols, vcov = function(x) vcovHC(x, cluster=\"group\", type=\"HC1\"))\n",
        "  result = rbind(result, cluster.firm[2,c(\"Estimate\", \"Std. Error\", \"t value\")])\n",
        "  row.names(result)[5] = c(\"C.Firm\")\n",
        "  \n",
        "  #Cluster by Time - R Default \n",
        "  cluster.time = coeftest(p.ols, vcov = function(x) vcovHC(x, cluster=\"time\", type=\"HC1\")) #Different Result!!!\n",
        "  result = rbind(result, cluster.time[2,c(\"Estimate\", \"Std. Error\", \"t value\")])\n",
        "  row.names(result)[6] = c(\"C.Time.R\")\n",
        "\n",
        "  #Cluster by Time - STATA Default\n",
        "  cluster.time = coeftest(p.ols, vcov = function(x) vcovHC(x, method=c(\"arellano\"), type=c(\"sss\"),cluster = c(\"time\"))) #Different Result!!!\n",
        "  result = rbind(result, cluster.time[2,c(\"Estimate\", \"Std. Error\", \"t value\")])\n",
        "  row.names(result)[7] = c(\"C.Time.Stata\")\n",
        "  \n",
        "  #OLS clustered by Firm and Year - STATA Default\n",
        "  vcovDC = function(x, ...){\n",
        "    vcovHC(x, cluster=\"group\", ...) + \n",
        "      vcovHC(x, method=c(\"arellano\"), type=c(\"sss\"),cluster = c(\"time\"), ...) - \n",
        "      vcovHC(x, method=\"white1\", ...)\n",
        "  }\n",
        "  \n",
        "  cluster.double = coeftest(p.ols, vcov = function(x) vcovDC(x)) \n",
        "  result = rbind(result, cluster.double[2,c(\"Estimate\", \"Std. Error\", \"t value\")])\n",
        "  row.names(result)[8] = c(\"C.Double\")\n",
        "  \n",
        "  #Fama-Macbeth\n",
        "  fmb = pmg(y~x, mydat, index=c(\"year\",\"firm\"))\n",
        "  FMB = coeftest(fmb)\n",
        "  result = rbind(result, FMB[2,c(\"Estimate\", \"Std. Error\", \"t value\")])\n",
        "  row.names(result)[9] = c(\"FMB\") \n",
        "  \n",
        "  round(result, 4)"
      ],
      "execution_count": 0,
      "outputs": [
        {
          "output_type": "display_data",
          "data": {
            "text/html": [
              "<table>\n",
              "<thead><tr><th></th><th scope=col>Estimate</th><th scope=col>Std. Error</th><th scope=col>t value</th></tr></thead>\n",
              "<tbody>\n",
              "\t<tr><th scope=row>ols</th><td>1.0348 </td><td>0.0286 </td><td>36.2041</td></tr>\n",
              "\t<tr><th scope=row>white</th><td>1.0348 </td><td>0.0284 </td><td>36.4440</td></tr>\n",
              "\t<tr><th scope=row>newey</th><td>1.0348 </td><td>0.0482 </td><td>21.4696</td></tr>\n",
              "\t<tr><th scope=row>p.ols</th><td>1.0348 </td><td>0.0286 </td><td>36.2041</td></tr>\n",
              "\t<tr><th scope=row>C.Firm</th><td>1.0348 </td><td>0.0506 </td><td>20.4714</td></tr>\n",
              "\t<tr><th scope=row>C.Time.R</th><td>1.0348 </td><td>0.0317 </td><td>32.6666</td></tr>\n",
              "\t<tr><th scope=row>C.Time.Stata</th><td>1.0348 </td><td>0.0334 </td><td>30.9933</td></tr>\n",
              "\t<tr><th scope=row>C.Double</th><td>1.0348 </td><td>0.0535 </td><td>19.3396</td></tr>\n",
              "\t<tr><th scope=row>FMB</th><td>1.0356 </td><td>0.0333 </td><td>31.0599</td></tr>\n",
              "</tbody>\n",
              "</table>\n"
            ],
            "text/latex": "\\begin{tabular}{r|lll}\n  & Estimate & Std. Error & t value\\\\\n\\hline\n\tols & 1.0348  & 0.0286  & 36.2041\\\\\n\twhite & 1.0348  & 0.0284  & 36.4440\\\\\n\tnewey & 1.0348  & 0.0482  & 21.4696\\\\\n\tp.ols & 1.0348  & 0.0286  & 36.2041\\\\\n\tC.Firm & 1.0348  & 0.0506  & 20.4714\\\\\n\tC.Time.R & 1.0348  & 0.0317  & 32.6666\\\\\n\tC.Time.Stata & 1.0348  & 0.0334  & 30.9933\\\\\n\tC.Double & 1.0348  & 0.0535  & 19.3396\\\\\n\tFMB & 1.0356  & 0.0333  & 31.0599\\\\\n\\end{tabular}\n",
            "text/markdown": "\n| <!--/--> | Estimate | Std. Error | t value | \n|---|---|---|---|---|---|---|---|---|\n| ols | 1.0348  | 0.0286  | 36.2041 | \n| white | 1.0348  | 0.0284  | 36.4440 | \n| newey | 1.0348  | 0.0482  | 21.4696 | \n| p.ols | 1.0348  | 0.0286  | 36.2041 | \n| C.Firm | 1.0348  | 0.0506  | 20.4714 | \n| C.Time.R | 1.0348  | 0.0317  | 32.6666 | \n| C.Time.Stata | 1.0348  | 0.0334  | 30.9933 | \n| C.Double | 1.0348  | 0.0535  | 19.3396 | \n| FMB | 1.0356  | 0.0333  | 31.0599 | \n\n\n",
            "text/plain": [
              "             Estimate Std. Error t value\n",
              "ols          1.0348   0.0286     36.2041\n",
              "white        1.0348   0.0284     36.4440\n",
              "newey        1.0348   0.0482     21.4696\n",
              "p.ols        1.0348   0.0286     36.2041\n",
              "C.Firm       1.0348   0.0506     20.4714\n",
              "C.Time.R     1.0348   0.0317     32.6666\n",
              "C.Time.Stata 1.0348   0.0334     30.9933\n",
              "C.Double     1.0348   0.0535     19.3396\n",
              "FMB          1.0356   0.0333     31.0599"
            ]
          },
          "metadata": {
            "tags": []
          }
        }
      ]
    },
    {
      "cell_type": "markdown",
      "metadata": {
        "id": "zOyL1aZ7uUVy",
        "colab_type": "text"
      },
      "source": [
        "You can compare the results to Petersen's website.\n",
        "http://www.kellogg.northwestern.edu/faculty/petersen/htm/papers/se/test_data.htm\n",
        "\n",
        "Standard Errors are same at least at 3 to 4 decimal points.\n",
        "\n",
        "If you want to see full results, just eneter the variable name, such as \n",
        "**ols, wheite, newey, p.ols, cluster.firm, cluster.time, cluster.double, FMB**\n"
      ]
    },
    {
      "cell_type": "code",
      "metadata": {
        "id": "BBpuliZ1uUVz",
        "colab_type": "code",
        "colab": {},
        "outputId": "21e08605-bf30-47c9-9e2b-2468c88486cc"
      },
      "source": [
        "summary(ols)"
      ],
      "execution_count": 0,
      "outputs": [
        {
          "output_type": "display_data",
          "data": {
            "text/plain": [
              "\n",
              "Call:\n",
              "lm(formula = y ~ x, data = mydat)\n",
              "\n",
              "Residuals:\n",
              "    Min      1Q  Median      3Q     Max \n",
              "-6.7611 -1.3680 -0.0166  1.3387  8.6779 \n",
              "\n",
              "Coefficients:\n",
              "            Estimate Std. Error t value Pr(>|t|)    \n",
              "(Intercept)  0.02968    0.02836   1.047    0.295    \n",
              "x            1.03483    0.02858  36.204   <2e-16 ***\n",
              "---\n",
              "Signif. codes:  0 ‘***’ 0.001 ‘**’ 0.01 ‘*’ 0.05 ‘.’ 0.1 ‘ ’ 1\n",
              "\n",
              "Residual standard error: 2.005 on 4998 degrees of freedom\n",
              "Multiple R-squared:  0.2078,\tAdjusted R-squared:  0.2076 \n",
              "F-statistic:  1311 on 1 and 4998 DF,  p-value: < 2.2e-16\n"
            ]
          },
          "metadata": {
            "tags": []
          }
        }
      ]
    },
    {
      "cell_type": "code",
      "metadata": {
        "id": "ahMtXrmQuUV0",
        "colab_type": "code",
        "colab": {},
        "outputId": "3a677131-1d83-47a4-b27a-f657aa2a4cc5"
      },
      "source": [
        "white"
      ],
      "execution_count": 0,
      "outputs": [
        {
          "output_type": "display_data",
          "data": {
            "text/plain": [
              "\n",
              "t test of coefficients:\n",
              "\n",
              "            Estimate Std. Error t value Pr(>|t|)    \n",
              "(Intercept) 0.029680   0.028361  1.0465   0.2954    \n",
              "x           1.034833   0.028395 36.4440   <2e-16 ***\n",
              "---\n",
              "Signif. codes:  0 ‘***’ 0.001 ‘**’ 0.01 ‘*’ 0.05 ‘.’ 0.1 ‘ ’ 1\n"
            ]
          },
          "metadata": {
            "tags": []
          }
        }
      ]
    },
    {
      "cell_type": "code",
      "metadata": {
        "id": "7YhHFkVCuUV2",
        "colab_type": "code",
        "colab": {},
        "outputId": "1488efc2-9354-4157-d064-21e0290d3d63"
      },
      "source": [
        "newey"
      ],
      "execution_count": 0,
      "outputs": [
        {
          "output_type": "display_data",
          "data": {
            "text/plain": [
              "\n",
              "t test of coefficients:\n",
              "\n",
              "            Estimate Std. Error t value Pr(>|t|)    \n",
              "(Intercept)  0.02968    0.06602  0.4496    0.653    \n",
              "x            1.03483    0.04820 21.4696   <2e-16 ***\n",
              "---\n",
              "Signif. codes:  0 ‘***’ 0.001 ‘**’ 0.01 ‘*’ 0.05 ‘.’ 0.1 ‘ ’ 1\n"
            ]
          },
          "metadata": {
            "tags": []
          }
        }
      ]
    },
    {
      "cell_type": "code",
      "metadata": {
        "id": "890PbscXuUV4",
        "colab_type": "code",
        "colab": {},
        "outputId": "ee98cb3e-04ee-4383-f76e-8c30c009103d"
      },
      "source": [
        "cluster.firm"
      ],
      "execution_count": 0,
      "outputs": [
        {
          "output_type": "display_data",
          "data": {
            "text/plain": [
              "\n",
              "t test of coefficients:\n",
              "\n",
              "            Estimate Std. Error t value Pr(>|t|)    \n",
              "(Intercept) 0.029680   0.066952  0.4433   0.6576    \n",
              "x           1.034833   0.050550 20.4714   <2e-16 ***\n",
              "---\n",
              "Signif. codes:  0 ‘***’ 0.001 ‘**’ 0.01 ‘*’ 0.05 ‘.’ 0.1 ‘ ’ 1\n"
            ]
          },
          "metadata": {
            "tags": []
          }
        }
      ]
    },
    {
      "cell_type": "code",
      "metadata": {
        "id": "CsYMezWQuUV6",
        "colab_type": "code",
        "colab": {},
        "outputId": "37e75928-da30-403b-b4b2-cc9e7f71782c"
      },
      "source": [
        "cluster.time"
      ],
      "execution_count": 0,
      "outputs": [
        {
          "output_type": "display_data",
          "data": {
            "text/plain": [
              "\n",
              "t test of coefficients:\n",
              "\n",
              "            Estimate Std. Error t value Pr(>|t|)    \n",
              "(Intercept) 0.029680   0.023387  1.2691   0.2045    \n",
              "x           1.034833   0.033389 30.9933   <2e-16 ***\n",
              "---\n",
              "Signif. codes:  0 ‘***’ 0.001 ‘**’ 0.01 ‘*’ 0.05 ‘.’ 0.1 ‘ ’ 1\n"
            ]
          },
          "metadata": {
            "tags": []
          }
        }
      ]
    },
    {
      "cell_type": "code",
      "metadata": {
        "id": "AE85rGVquUV8",
        "colab_type": "code",
        "colab": {},
        "outputId": "d353b59f-8bd7-421b-fbe1-d087ab0fb44e"
      },
      "source": [
        "cluster.double"
      ],
      "execution_count": 0,
      "outputs": [
        {
          "output_type": "display_data",
          "data": {
            "text/plain": [
              "\n",
              "t test of coefficients:\n",
              "\n",
              "            Estimate Std. Error t value Pr(>|t|)    \n",
              "(Intercept) 0.029680   0.064990  0.4567   0.6479    \n",
              "x           1.034833   0.053508 19.3396   <2e-16 ***\n",
              "---\n",
              "Signif. codes:  0 ‘***’ 0.001 ‘**’ 0.01 ‘*’ 0.05 ‘.’ 0.1 ‘ ’ 1\n"
            ]
          },
          "metadata": {
            "tags": []
          }
        }
      ]
    },
    {
      "cell_type": "code",
      "metadata": {
        "id": "3C9X4PI5uUV-",
        "colab_type": "code",
        "colab": {},
        "outputId": "7c1f8907-ba97-41b3-e549-a884f5d3c8e4"
      },
      "source": [
        "FMB"
      ],
      "execution_count": 0,
      "outputs": [
        {
          "output_type": "display_data",
          "data": {
            "text/plain": [
              "\n",
              "t test of coefficients:\n",
              "\n",
              "            Estimate Std. Error t value Pr(>|t|)    \n",
              "(Intercept) 0.031278   0.023356  1.3392   0.1806    \n",
              "x           1.035586   0.033342 31.0599   <2e-16 ***\n",
              "---\n",
              "Signif. codes:  0 ‘***’ 0.001 ‘**’ 0.01 ‘*’ 0.05 ‘.’ 0.1 ‘ ’ 1\n"
            ]
          },
          "metadata": {
            "tags": []
          }
        }
      ]
    },
    {
      "cell_type": "code",
      "metadata": {
        "id": "coQiQ68quUV_",
        "colab_type": "code",
        "colab": {}
      },
      "source": [
        "Contact Info: Jinkyu Kim, Business School, Hanyang Univ. email:jkyu126@gmail.com"
      ],
      "execution_count": 0,
      "outputs": []
    }
  ]
}