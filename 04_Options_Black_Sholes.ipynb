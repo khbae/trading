{
  "nbformat": 4,
  "nbformat_minor": 0,
  "metadata": {
    "colab": {
      "name": "04_Options_Black_Sholes.ipynb",
      "provenance": [],
      "collapsed_sections": [],
      "include_colab_link": true
    },
    "kernelspec": {
      "name": "python3",
      "display_name": "Python 3"
    }
  },
  "cells": [
    {
      "cell_type": "markdown",
      "metadata": {
        "id": "view-in-github",
        "colab_type": "text"
      },
      "source": [
        "<a href=\"https://colab.research.google.com/github/khbae/trading/blob/master/04_Options_Black_Sholes.ipynb\" target=\"_parent\"><img src=\"https://colab.research.google.com/assets/colab-badge.svg\" alt=\"Open In Colab\"/></a>"
      ]
    },
    {
      "cell_type": "markdown",
      "metadata": {
        "id": "og57iHErNITU",
        "colab_type": "text"
      },
      "source": [
        "# Options - Black-Scholes-Merton model\n",
        "\n",
        "### Options contract\n",
        "\n",
        "* right to buy or sell asset at specified price($X$), by or on specified date($T$)\n",
        "\n",
        "### Notations\n",
        "* $S_T$: stock price at expiration date\n",
        "* $T$: time to expiration\n",
        "* $X$: strike price\n",
        "\n",
        "### Call and Put options\n",
        "\n",
        "* call is right to buy at $X$\n",
        "    * Payoff on long call at $T$ = $ \\max(0, S_T - X) $\n",
        "    * Payoff on short call at $T$ = $ - \\max(0, S_T - X) $\n",
        "* put is right to sell at $X$\n",
        "    * Payoff on long put at $T$ = $ \\max(0, X - S_T) $\n",
        "    * Payoff on short put at $T$ = $ -\\max(0, X - S_T) $\n",
        "\n",
        "\n",
        "## Open Interest\n",
        "* Open interest is number of contracts outstanding at given point in time.\n",
        "* Since each trade of a contract has both a buyer and a seller, a buyer-seller pair counts as one contract.\n",
        "* Open interest measures the number of buyer-seller pairs.\n",
        "\n",
        "example: https://finance.yahoo.com/options/highest-implied-volatility/"
      ]
    },
    {
      "cell_type": "markdown",
      "metadata": {
        "id": "8INBRfrDjbVX",
        "colab_type": "text"
      },
      "source": [
        "## Black-Scholes-Merton model\n",
        "\n",
        "\"The Black–Scholes /ˌblæk ˈʃoʊlz/[1] or Black–Scholes–Merton model is a mathematical model of a financial market containing derivative investment instruments. From the partial differential equation in the model, known as the Black–Scholes equation, one can deduce the Black–Scholes formula, which gives a theoretical estimate of the price of European-style options and shows that the option has a unique price regardless of the risk of the security and its expected return (instead replacing the security's expected return with the risk-neutral rate)\"\n",
        "\n",
        "* https://en.wikipedia.org/wiki/Black%E2%80%93Scholes_model\n",
        "\n",
        "### Input Variables \n",
        "stock price, strike price, interest rate, volatility, time to expiration\n",
        "### Output Variables \n",
        "call or put option price\n",
        "\n",
        "## Assumptions\n",
        "\n",
        "* individuals are rational (No costless arbitrage opportunities)\n",
        "* markets are frictionless\n",
        "* futures, option, and futures option contracts expire at the same time $T$\n",
        "* individuals can borrow and lend at constant and continuous rate $r$\n",
        "\n",
        "## Terminology\n",
        "* Option provides the right to buy or sell underlyingasset at specified price within certain period.\n",
        "    * call option is right to buy\n",
        "    * put option is right to sell\n",
        "* Specified price at which asset is bought or sold is called exercise price of strike price.\n",
        "* Two styles of options are traded.\n",
        "    * European-style : exercised only at expiration\n",
        "    * American-style : exercised at any time prior to expiration\n",
        "    \n",
        "## Moneyness\n",
        "\n",
        "* if $S>K$,\n",
        "    * call is in-the-money(ITM)\n",
        "    * put is out-of-the-money(OTM)\n",
        "* if $S<K$,\n",
        "    * call is out-of-the-money(OTM)\n",
        "    * put is in-the-money(ITM)\n",
        "* if $S=K$,\n",
        "    * call an put are at-the-money(ATM)\n",
        "    "
      ]
    },
    {
      "cell_type": "code",
      "metadata": {
        "id": "ctXwtShTeiU0",
        "colab_type": "code",
        "colab": {}
      },
      "source": [
        "# import library\n",
        "import math\n",
        "import numpy as np\n",
        "import matplotlib as mpl\n",
        "import matplotlib.pyplot as plt\n",
        "from scipy.integrate import quad"
      ],
      "execution_count": 0,
      "outputs": []
    },
    {
      "cell_type": "markdown",
      "metadata": {
        "id": "wcSItRHijQcw",
        "colab_type": "text"
      },
      "source": [
        "Let us define probability density function for standard normal distribution\n",
        "* https://en.wikipedia.org/wiki/Normal_distribution\n",
        "\n",
        "The probability density function of Standard Normal (N(0,1)) is \n",
        "$$ f(x) = \\frac{1}{\\sqrt{2\\pi}}e^{-\\frac{x^2}{2}}$$"
      ]
    },
    {
      "cell_type": "code",
      "metadata": {
        "id": "Lhhla_oPjO1Q",
        "colab_type": "code",
        "colab": {}
      },
      "source": [
        "def dN(x):\n",
        "    PDF = math.exp(-0.5 * x ** 2) / math.sqrt(2 * math.pi)\n",
        "    ''' Probability density function of standard normal random variable x. '''\n",
        "    return  PDF"
      ],
      "execution_count": 0,
      "outputs": []
    },
    {
      "cell_type": "code",
      "metadata": {
        "id": "-urtUBVtoGec",
        "colab_type": "code",
        "outputId": "7a3d1616-e754-4fac-fbe6-f3a3533aa39b",
        "colab": {
          "base_uri": "https://localhost:8080/",
          "height": 367
        }
      },
      "source": [
        "np.linspace(-3,3,100)"
      ],
      "execution_count": 0,
      "outputs": [
        {
          "output_type": "execute_result",
          "data": {
            "text/plain": [
              "array([-3.        , -2.93939394, -2.87878788, -2.81818182, -2.75757576,\n",
              "       -2.6969697 , -2.63636364, -2.57575758, -2.51515152, -2.45454545,\n",
              "       -2.39393939, -2.33333333, -2.27272727, -2.21212121, -2.15151515,\n",
              "       -2.09090909, -2.03030303, -1.96969697, -1.90909091, -1.84848485,\n",
              "       -1.78787879, -1.72727273, -1.66666667, -1.60606061, -1.54545455,\n",
              "       -1.48484848, -1.42424242, -1.36363636, -1.3030303 , -1.24242424,\n",
              "       -1.18181818, -1.12121212, -1.06060606, -1.        , -0.93939394,\n",
              "       -0.87878788, -0.81818182, -0.75757576, -0.6969697 , -0.63636364,\n",
              "       -0.57575758, -0.51515152, -0.45454545, -0.39393939, -0.33333333,\n",
              "       -0.27272727, -0.21212121, -0.15151515, -0.09090909, -0.03030303,\n",
              "        0.03030303,  0.09090909,  0.15151515,  0.21212121,  0.27272727,\n",
              "        0.33333333,  0.39393939,  0.45454545,  0.51515152,  0.57575758,\n",
              "        0.63636364,  0.6969697 ,  0.75757576,  0.81818182,  0.87878788,\n",
              "        0.93939394,  1.        ,  1.06060606,  1.12121212,  1.18181818,\n",
              "        1.24242424,  1.3030303 ,  1.36363636,  1.42424242,  1.48484848,\n",
              "        1.54545455,  1.60606061,  1.66666667,  1.72727273,  1.78787879,\n",
              "        1.84848485,  1.90909091,  1.96969697,  2.03030303,  2.09090909,\n",
              "        2.15151515,  2.21212121,  2.27272727,  2.33333333,  2.39393939,\n",
              "        2.45454545,  2.51515152,  2.57575758,  2.63636364,  2.6969697 ,\n",
              "        2.75757576,  2.81818182,  2.87878788,  2.93939394,  3.        ])"
            ]
          },
          "metadata": {
            "tags": []
          },
          "execution_count": 40
        }
      ]
    },
    {
      "cell_type": "code",
      "metadata": {
        "id": "jthyVNlUcscq",
        "colab_type": "code",
        "outputId": "ebd23185-e09f-4ae2-88b2-2953dd446b3d",
        "colab": {
          "base_uri": "https://localhost:8080/",
          "height": 402
        }
      },
      "source": [
        "xpoints = np.linspace(-3,3,100)\n",
        "ypoints = [dN(i) for i in xpoints]\n",
        "print(ypoints)\n",
        "plt.plot(xpoints,ypoints)"
      ],
      "execution_count": 0,
      "outputs": [
        {
          "output_type": "stream",
          "text": [
            "[0.0044318484119380075, 0.005305788425287607, 0.006328776428582762, 0.007521325348709321, 0.008905817513416034, 0.010506498522150213, 0.012349432791521116, 0.01446241479763419, 0.01687483018662225, 0.019617461285747408, 0.022722232145095424, 0.026221889093709518, 0.030149613916800676, 0.03453856815673058, 0.039421368704028306, 0.04482949675859274, 0.05079264437580405, 0.05733800512481293, 0.06448951782093279, 0.07226707478233273, 0.08068570852316367, 0.08975477314132428, 0.09947713879274872, 0.10984841946507014, 0.12085625567149894, 0.1324796745847539, 0.14468855043375253, 0.1574431876188437, 0.17069404790904807, 0.18438164123366146, 0.19843659696308527, 0.2127799292108192, 0.22732350563136094, 0.24197072451914337, 0.2566173998432441, 0.27115284832047815, 0.285461166898405, 0.2994226832710998, 0.31291555647791974, 0.3258174994376901, 0.33800759064361624, 0.34936813837265446, 0.3597865578126233, 0.36915721961969744, 0.3773832276929932, 0.384378084457259, 0.3900672037012868, 0.3943892340049189, 0.39729715993174175, 0.3987591533537418, 0.3987591533537418, 0.39729715993174175, 0.3943892340049189, 0.3900672037012867, 0.38437808445725896, 0.3773832276929932, 0.36915721961969744, 0.3597865578126233, 0.34936813837265446, 0.33800759064361624, 0.32581749943769, 0.31291555647791963, 0.29942268327109967, 0.285461166898405, 0.27115284832047815, 0.2566173998432441, 0.24197072451914337, 0.22732350563136094, 0.2127799292108192, 0.19843659696308527, 0.18438164123366155, 0.17069404790904813, 0.15744318761884377, 0.14468855043375242, 0.13247967458475382, 0.12085625567149884, 0.10984841946507007, 0.09947713879274865, 0.08975477314132424, 0.08068570852316362, 0.0722670747823327, 0.06448951782093279, 0.05733800512481293, 0.05079264437580405, 0.04482949675859274, 0.039421368704028306, 0.03453856815673058, 0.030149613916800676, 0.026221889093709462, 0.022722232145095406, 0.01961746128574738, 0.016874830186622232, 0.014462414797634179, 0.012349432791521106, 0.0105064985221502, 0.008905817513416034, 0.007521325348709321, 0.006328776428582762, 0.005305788425287607, 0.0044318484119380075]\n"
          ],
          "name": "stdout"
        },
        {
          "output_type": "execute_result",
          "data": {
            "text/plain": [
              "[<matplotlib.lines.Line2D at 0x7fc4fe8f6d68>]"
            ]
          },
          "metadata": {
            "tags": []
          },
          "execution_count": 42
        },
        {
          "output_type": "display_data",
          "data": {
            "image/png": "[encoded data removed]",
            "text/plain": [
              "<matplotlib.figure.Figure at 0x7fc4fea30d30>"
            ]
          },
          "metadata": {
            "tags": []
          }
        }
      ]
    },
    {
      "cell_type": "markdown",
      "metadata": {
        "id": "2L9JW2eVjEy5",
        "colab_type": "text"
      },
      "source": [
        "Let us define cumulative density function of standard normal random variable\n",
        "* https://docs.scipy.org/doc/scipy/reference/generated/scipy.integrate.quad.html"
      ]
    },
    {
      "cell_type": "code",
      "metadata": {
        "id": "IVvQAWMlhsl5",
        "colab_type": "code",
        "colab": {}
      },
      "source": [
        "def N(d):\n",
        "    ''' Cumulative density function of standard normal random variable x. '''\n",
        "    fx = lambda x: dN(x)\n",
        "    CDF = quad(fx, -50, d, limit=50)[0]\n",
        "    return CDF"
      ],
      "execution_count": 0,
      "outputs": []
    },
    {
      "cell_type": "code",
      "metadata": {
        "id": "CqhbqVI5fN6W",
        "colab_type": "code",
        "outputId": "0aa759f5-3194-4303-9d56-2f7bf6aeef80",
        "colab": {
          "base_uri": "https://localhost:8080/",
          "height": 365
        }
      },
      "source": [
        "ypoints = [N(i) for i in xpoints]\n",
        "plt.plot(xpoints,ypoints)"
      ],
      "execution_count": 0,
      "outputs": [
        {
          "output_type": "execute_result",
          "data": {
            "text/plain": [
              "[<matplotlib.lines.Line2D at 0x7fc4fe8e6438>]"
            ]
          },
          "metadata": {
            "tags": []
          },
          "execution_count": 44
        },
        {
          "output_type": "display_data",
          "data": {
            "image/png": "[encoded data removed]",
            "text/plain": [
              "<matplotlib.figure.Figure at 0x7fc4fe91dba8>"
            ]
          },
          "metadata": {
            "tags": []
          }
        }
      ]
    },
    {
      "cell_type": "code",
      "metadata": {
        "id": "ZY1L0-lppxRi",
        "colab_type": "code",
        "outputId": "ed0194f3-ce73-416e-aba8-43d7aa8b99fd",
        "colab": {
          "base_uri": "https://localhost:8080/",
          "height": 34
        }
      },
      "source": [
        "print(N(0))"
      ],
      "execution_count": 0,
      "outputs": [
        {
          "output_type": "stream",
          "text": [
            "0.5\n"
          ],
          "name": "stdout"
        }
      ]
    },
    {
      "cell_type": "markdown",
      "metadata": {
        "id": "FM8SqNw0gLA8",
        "colab_type": "text"
      },
      "source": [
        "## Black–Scholes model\n",
        "* https://en.wikipedia.org/wiki/Black%E2%80%93Scholes_model\n",
        "\n",
        "<br>\n",
        "\n",
        "### Call Option Value\n",
        "\n",
        "![alt text](https://wikimedia.org/api/rest_v1/media/math/render/svg/02b3399c25f96bc2ce3a70dbce628620cf726c29)\n"
      ]
    },
    {
      "cell_type": "code",
      "metadata": {
        "id": "r8TRvPWYo5wx",
        "colab_type": "code",
        "colab": {}
      },
      "source": [
        "def d1f(St, K, t, T, r, sigma):\n",
        "    ''' Black-Scholes-Merton d1 function. Parameters see e.g. BSM_call_value function. '''\n",
        "    d1 = (math.log(St / K) + (r + 0.5 * sigma ** 2 ) * (T - t) ) / (sigma * math.sqrt(T - t))\n",
        "    return d1"
      ],
      "execution_count": 0,
      "outputs": []
    },
    {
      "cell_type": "code",
      "metadata": {
        "id": "u9ZRvJkoqoCL",
        "colab_type": "code",
        "colab": {}
      },
      "source": [
        "def d2f(St,K,t,T,r,sigma):\n",
        "  d1 = d1f(St,K,t,T,r,sigma)\n",
        "  d2 = d1 - sigma*math.sqrt(T-t)\n",
        "  return d2"
      ],
      "execution_count": 0,
      "outputs": []
    },
    {
      "cell_type": "markdown",
      "metadata": {
        "id": "aU9L5AJyqnnp",
        "colab_type": "text"
      },
      "source": [
        "Now, let us write down BSM valuation function (call and put options):"
      ]
    },
    {
      "cell_type": "code",
      "metadata": {
        "id": "fKAUYoE0qtHa",
        "colab_type": "code",
        "colab": {}
      },
      "source": [
        "def BSM_call_value(St, K, t, T, r, sigma):\n",
        "    ''' Calculates Black-Scholes-Merton European call option value.\n",
        "    Parameters\n",
        "    ==========\n",
        "    St : float (real number)\n",
        "        stock/index level at time t\n",
        "    K : float\n",
        "        strike price (exercise price)\n",
        "    t : float\n",
        "        valuation date (pricing date)\n",
        "    T : float\n",
        "        date of maturity/time-to-maturity if t = 0; T > t\n",
        "    r : float\n",
        "        constant, risk-less short rate (risk free rate)\n",
        "    sigma : float\n",
        "        volatility\n",
        "    Returns\n",
        "    =======\n",
        "    call_value : float\n",
        "        European call present value at t\n",
        "    '''\n",
        "    d1 = d1f(St, K, t, T, r, sigma)\n",
        "    d2 = d2f(St,K,t,T,r,sigma)\n",
        "    call_value = N(d1) * St -  K * N(d2) * math.exp(-r * (T - t))\n",
        "    return call_value\n"
      ],
      "execution_count": 0,
      "outputs": []
    },
    {
      "cell_type": "code",
      "metadata": {
        "id": "JOnlRiwSrJKT",
        "colab_type": "code",
        "outputId": "ee2e742e-5c4b-46c2-e2fa-f1e9d8be78ba",
        "colab": {
          "base_uri": "https://localhost:8080/",
          "height": 34
        }
      },
      "source": [
        "BSM_call_value(100, 150, 0.3,1, 0.02, 0.05)"
      ],
      "execution_count": 0,
      "outputs": [
        {
          "output_type": "execute_result",
          "data": {
            "text/plain": [
              "2.1507237781192043e-21"
            ]
          },
          "metadata": {
            "tags": []
          },
          "execution_count": 52
        }
      ]
    },
    {
      "cell_type": "markdown",
      "metadata": {
        "id": "bIcJoMvzqyx0",
        "colab_type": "text"
      },
      "source": [
        "### Put Call Parity\n",
        "\n",
        "\"In financial mathematics, put–call parity defines a relationship between the price of a European call option and European put option, both with the identical strike price and expiry, namely that a portfolio of a long call option and a short put option is equivalent to (and hence has the same value as) a single forward contract at this strike price and expiry.\"\n",
        "\n",
        "* https://en.wikipedia.org/wiki/Put%E2%80%93call_parity\n",
        "\n",
        "\n",
        "European-style put-call parity for options on assets with same exercise price $K$\n",
        "\n",
        "$$ \\text{Put Value} - \\text{Call Value} = K e^{-r(T-t)} - S_t $$\n",
        "\n",
        "### Put Option Value\n",
        "![alt text](https://wikimedia.org/api/rest_v1/media/math/render/svg/4ed2a3d59c05c42219bc864b50099ebd5baf4297)"
      ]
    },
    {
      "cell_type": "code",
      "metadata": {
        "id": "kZrKx4-ds5lS",
        "colab_type": "code",
        "colab": {}
      },
      "source": [
        "def BSM_put_value(St, K, t, T, r, sigma): \n",
        "\n",
        "    ''' Calculates Black-Scholes-Merton European put option value.\n",
        "    Parameters\n",
        "    ==========\n",
        "    St : float\n",
        "        stock/index level at time t\n",
        "    K : float\n",
        "        strike price\n",
        "    t : float\n",
        "        valuation date\n",
        "    T : float\n",
        "        date of maturity/time-to-maturity if t = 0; T > t\n",
        "    r : float\n",
        "        constant, risk-less short rate\n",
        "    sigma : float\n",
        "        volatility\n",
        "    Returns\n",
        "    =======\n",
        "    put_value : float\n",
        "        European put present value at t\n",
        "    '''\n",
        "\n",
        "    put_value = K * math.exp(-r * (T - t)) - St + BSM_call_value(St, K, t, T, r, sigma)\n",
        "    return put_value\n"
      ],
      "execution_count": 0,
      "outputs": []
    },
    {
      "cell_type": "markdown",
      "metadata": {
        "id": "r4LxMn8SuVfi",
        "colab_type": "text"
      },
      "source": [
        "We implemented BSM formula for European call and put option values. Next, let us simulate the option values. "
      ]
    },
    {
      "cell_type": "code",
      "metadata": {
        "id": "DdxOcKmJueb5",
        "colab_type": "code",
        "colab": {}
      },
      "source": [
        "K = 8000  # strike price\n",
        "T = 1.0  # time-to-maturity, which means t=0\n",
        "r = 0.025  # constant, risk-less short rate\n",
        "vol = 0.2  # constant volatility\n",
        "# Sample Data Generation\n",
        "S = np.linspace(4000, 12000, 150)  # vector of index level values\n",
        "h = np.maximum(S - K, 0)  # inner value of option\n",
        "C = [BSM_call_value(S0, K, 0, T, r, vol) for S0 in S]\n",
        "# calculate call option values\n"
      ],
      "execution_count": 0,
      "outputs": []
    },
    {
      "cell_type": "code",
      "metadata": {
        "id": "AGgFb5s5sEzh",
        "colab_type": "code",
        "outputId": "fa08fbad-8883-497a-f242-11336e3f6ba2",
        "colab": {
          "base_uri": "https://localhost:8080/",
          "height": 365
        }
      },
      "source": [
        "plt.plot(S,C)"
      ],
      "execution_count": 0,
      "outputs": [
        {
          "output_type": "execute_result",
          "data": {
            "text/plain": [
              "[<matplotlib.lines.Line2D at 0x7fc4fe84a630>]"
            ]
          },
          "metadata": {
            "tags": []
          },
          "execution_count": 54
        },
        {
          "output_type": "display_data",
          "data": {
            "image/png": "[encoded data removed]",
            "text/plain": [
              "<matplotlib.figure.Figure at 0x7fc4fe87a9b0>"
            ]
          },
          "metadata": {
            "tags": []
          }
        }
      ]
    },
    {
      "cell_type": "markdown",
      "metadata": {
        "id": "l2kxX4UOwOPp",
        "colab_type": "text"
      },
      "source": [
        "Let us generate plot for the simulated call option value above..."
      ]
    },
    {
      "cell_type": "code",
      "metadata": {
        "id": "s_JdExF6wZ0x",
        "colab_type": "code",
        "outputId": "420ba9d6-1774-4dc3-ccb0-a592a89fa4dd",
        "colab": {
          "base_uri": "https://localhost:8080/",
          "height": 383
        }
      },
      "source": [
        "# Graphical Output\n",
        "plt.figure()\n",
        "plt.plot(S, h, 'b-.', lw=2.5, label='inner value')\n",
        "# plot inner value at maturity\n",
        "plt.plot(S, C, 'r', lw=2.5, label='present value')\n",
        "# plot option present value\n",
        "plt.grid(True)\n",
        "plt.legend(loc=0)\n",
        "plt.xlabel('index level $S_0$')\n",
        "plt.ylabel('present value $C(t=0)$')\n"
      ],
      "execution_count": 0,
      "outputs": [
        {
          "output_type": "execute_result",
          "data": {
            "text/plain": [
              "Text(0,0.5,'present value $C(t=0)$')"
            ]
          },
          "metadata": {
            "tags": []
          },
          "execution_count": 55
        },
        {
          "output_type": "display_data",
          "data": {
            "image/png": "[encoded data removed]",
            "text/plain": [
              "<matplotlib.figure.Figure at 0x7fc4fe868630>"
            ]
          },
          "metadata": {
            "tags": []
          }
        }
      ]
    }
  ]
}