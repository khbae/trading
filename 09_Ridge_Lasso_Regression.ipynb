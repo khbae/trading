{
  "nbformat": 4,
  "nbformat_minor": 0,
  "metadata": {
    "colab": {
      "name": "09_Ridge_Lasso_Regression.ipynb",
      "provenance": [],
      "collapsed_sections": [],
      "include_colab_link": true
    },
    "kernelspec": {
      "name": "python3",
      "display_name": "Python 3"
    }
  },
  "cells": [
    {
      "cell_type": "markdown",
      "metadata": {
        "id": "view-in-github",
        "colab_type": "text"
      },
      "source": [
        "<a href=\"https://colab.research.google.com/github/khbae/trading/blob/master/09_Ridge_Lasso_Regression.ipynb\" target=\"_parent\"><img src=\"https://colab.research.google.com/assets/colab-badge.svg\" alt=\"Open In Colab\"/></a>"
      ]
    },
    {
      "cell_type": "markdown",
      "metadata": {
        "id": "6-FbMHIPC9_l",
        "colab_type": "text"
      },
      "source": [
        "# Ridge and Lasso Regression:\n",
        "\n",
        "* https://www.analyticsvidhya.com/blog/2016/01/complete-tutorial-ridge-lasso-regression-python/\n",
        "\n",
        "* regularization techniques\n",
        "    * minimizing the error between predicted and actual observations\n",
        "    * penalizing the magnitude of coefficients of independent variables \n",
        "* creating parsimonious models in presence of a large number of independent variables.\n",
        "\n",
        "**OLS Regression**\n",
        "* Minimization objective =  sum of squared errors  \n",
        "\n",
        "**Ridge Regression**\n",
        "* Penalty equivalent to square of the magnitude of coefficients\n",
        "* Minimization objective =  sum of squared errors + **$\\alpha$ * (sum of square of coefficients)**\n",
        "\n",
        "**Lasso Regression**\n",
        "* Penalty equivalent to absolute value of the magnitude of coefficients\n",
        "* Minimization objective = sum of squared errors + **$\\alpha$ * (sum of absolute value of coefficients)**"
      ]
    },
    {
      "cell_type": "code",
      "metadata": {
        "id": "MSdmiPCQBpPz",
        "colab_type": "code",
        "colab": {}
      },
      "source": [
        "import numpy as np\n",
        "import pandas as pd\n",
        "import matplotlib.pyplot as plt"
      ],
      "execution_count": 0,
      "outputs": []
    },
    {
      "cell_type": "code",
      "metadata": {
        "id": "pa0rNY1rVnPG",
        "colab_type": "code",
        "outputId": "e305cfbc-5b2d-43b7-cd37-09201a013301",
        "colab": {
          "base_uri": "https://localhost:8080/",
          "height": 364
        }
      },
      "source": [
        "x1 = np.array([i*np.pi/180 for i in range(60,300,4)])\n",
        "y = np.sin(x1) + np.random.normal(0,0.1,len(x1))\n",
        "data = pd.DataFrame(np.column_stack([y,x1]),columns=['y','x1'])\n",
        "data.head()\n",
        "plt.plot(data['x1'],data['y'],'.')"
      ],
      "execution_count": 0,
      "outputs": [
        {
          "output_type": "execute_result",
          "data": {
            "text/plain": [
              "[<matplotlib.lines.Line2D at 0x7f3dd1cff8d0>]"
            ]
          },
          "metadata": {
            "tags": []
          },
          "execution_count": 2
        },
        {
          "output_type": "display_data",
          "data": {
            "image/png": "[encoded data removed]",
            "text/plain": [
              "<matplotlib.figure.Figure at 0x7f3dd2278fd0>"
            ]
          },
          "metadata": {
            "tags": []
          }
        }
      ]
    },
    {
      "cell_type": "code",
      "metadata": {
        "id": "kdGMHefsBuK9",
        "colab_type": "code",
        "outputId": "b0bc74c5-e5b9-4e6e-83f9-40e6151eaca4",
        "colab": {
          "base_uri": "https://localhost:8080/",
          "height": 251
        }
      },
      "source": [
        "# create x**2, x**3, ..., x**d\n",
        "\n",
        "for i in range(2,21):\n",
        "  data['x%d'%i] = data['x1'] ** i\n",
        "\n",
        "data.head()\n"
      ],
      "execution_count": 0,
      "outputs": [
        {
          "output_type": "execute_result",
          "data": {
            "text/html": [
              "<div>\n",
              "<style scoped>\n",
              "    .dataframe tbody tr th:only-of-type {\n",
              "        vertical-align: middle;\n",
              "    }\n",
              "\n",
              "    .dataframe tbody tr th {\n",
              "        vertical-align: top;\n",
              "    }\n",
              "\n",
              "    .dataframe thead th {\n",
              "        text-align: right;\n",
              "    }\n",
              "</style>\n",
              "<table border=\"1\" class=\"dataframe\">\n",
              "  <thead>\n",
              "    <tr style=\"text-align: right;\">\n",
              "      <th></th>\n",
              "      <th>y</th>\n",
              "      <th>x1</th>\n",
              "      <th>x2</th>\n",
              "      <th>x3</th>\n",
              "      <th>x4</th>\n",
              "      <th>x5</th>\n",
              "      <th>x6</th>\n",
              "      <th>x7</th>\n",
              "      <th>x8</th>\n",
              "      <th>x9</th>\n",
              "      <th>...</th>\n",
              "      <th>x11</th>\n",
              "      <th>x12</th>\n",
              "      <th>x13</th>\n",
              "      <th>x14</th>\n",
              "      <th>x15</th>\n",
              "      <th>x16</th>\n",
              "      <th>x17</th>\n",
              "      <th>x18</th>\n",
              "      <th>x19</th>\n",
              "      <th>x20</th>\n",
              "    </tr>\n",
              "  </thead>\n",
              "  <tbody>\n",
              "    <tr>\n",
              "      <th>0</th>\n",
              "      <td>0.823896</td>\n",
              "      <td>1.047198</td>\n",
              "      <td>1.096623</td>\n",
              "      <td>1.148381</td>\n",
              "      <td>1.202581</td>\n",
              "      <td>1.259340</td>\n",
              "      <td>1.318778</td>\n",
              "      <td>1.381021</td>\n",
              "      <td>1.446202</td>\n",
              "      <td>1.514459</td>\n",
              "      <td>...</td>\n",
              "      <td>1.660790</td>\n",
              "      <td>1.739176</td>\n",
              "      <td>1.821260</td>\n",
              "      <td>1.907219</td>\n",
              "      <td>1.997235</td>\n",
              "      <td>2.091500</td>\n",
              "      <td>2.190214</td>\n",
              "      <td>2.293586</td>\n",
              "      <td>2.401838</td>\n",
              "      <td>2.515199</td>\n",
              "    </tr>\n",
              "    <tr>\n",
              "      <th>1</th>\n",
              "      <td>0.851595</td>\n",
              "      <td>1.117011</td>\n",
              "      <td>1.247713</td>\n",
              "      <td>1.393709</td>\n",
              "      <td>1.556788</td>\n",
              "      <td>1.738948</td>\n",
              "      <td>1.942424</td>\n",
              "      <td>2.169709</td>\n",
              "      <td>2.423588</td>\n",
              "      <td>2.707173</td>\n",
              "      <td>...</td>\n",
              "      <td>3.377775</td>\n",
              "      <td>3.773011</td>\n",
              "      <td>4.214494</td>\n",
              "      <td>4.707635</td>\n",
              "      <td>5.258479</td>\n",
              "      <td>5.873777</td>\n",
              "      <td>6.561072</td>\n",
              "      <td>7.328788</td>\n",
              "      <td>8.186335</td>\n",
              "      <td>9.144223</td>\n",
              "    </tr>\n",
              "    <tr>\n",
              "      <th>2</th>\n",
              "      <td>0.839367</td>\n",
              "      <td>1.186824</td>\n",
              "      <td>1.408551</td>\n",
              "      <td>1.671702</td>\n",
              "      <td>1.984016</td>\n",
              "      <td>2.354677</td>\n",
              "      <td>2.794587</td>\n",
              "      <td>3.316683</td>\n",
              "      <td>3.936319</td>\n",
              "      <td>4.671717</td>\n",
              "      <td>...</td>\n",
              "      <td>6.580351</td>\n",
              "      <td>7.809718</td>\n",
              "      <td>9.268760</td>\n",
              "      <td>11.000386</td>\n",
              "      <td>13.055521</td>\n",
              "      <td>15.494604</td>\n",
              "      <td>18.389366</td>\n",
              "      <td>21.824939</td>\n",
              "      <td>25.902359</td>\n",
              "      <td>30.741539</td>\n",
              "    </tr>\n",
              "    <tr>\n",
              "      <th>3</th>\n",
              "      <td>0.904835</td>\n",
              "      <td>1.256637</td>\n",
              "      <td>1.579137</td>\n",
              "      <td>1.984402</td>\n",
              "      <td>2.493673</td>\n",
              "      <td>3.133642</td>\n",
              "      <td>3.937850</td>\n",
              "      <td>4.948448</td>\n",
              "      <td>6.218404</td>\n",
              "      <td>7.814277</td>\n",
              "      <td>...</td>\n",
              "      <td>12.339811</td>\n",
              "      <td>15.506664</td>\n",
              "      <td>19.486248</td>\n",
              "      <td>24.487142</td>\n",
              "      <td>30.771450</td>\n",
              "      <td>38.668544</td>\n",
              "      <td>48.592326</td>\n",
              "      <td>61.062918</td>\n",
              "      <td>76.733926</td>\n",
              "      <td>96.426695</td>\n",
              "    </tr>\n",
              "    <tr>\n",
              "      <th>4</th>\n",
              "      <td>1.090843</td>\n",
              "      <td>1.326450</td>\n",
              "      <td>1.759470</td>\n",
              "      <td>2.333850</td>\n",
              "      <td>3.095735</td>\n",
              "      <td>4.106339</td>\n",
              "      <td>5.446854</td>\n",
              "      <td>7.224981</td>\n",
              "      <td>9.583578</td>\n",
              "      <td>12.712139</td>\n",
              "      <td>...</td>\n",
              "      <td>22.366630</td>\n",
              "      <td>29.668222</td>\n",
              "      <td>39.353420</td>\n",
              "      <td>52.200353</td>\n",
              "      <td>69.241170</td>\n",
              "      <td>91.844966</td>\n",
              "      <td>121.827776</td>\n",
              "      <td>161.598482</td>\n",
              "      <td>214.352344</td>\n",
              "      <td>284.327717</td>\n",
              "    </tr>\n",
              "  </tbody>\n",
              "</table>\n",
              "<p>5 rows × 21 columns</p>\n",
              "</div>"
            ],
            "text/plain": [
              "          y        x1        x2        x3        x4        x5        x6  \\\n",
              "0  0.823896  1.047198  1.096623  1.148381  1.202581  1.259340  1.318778   \n",
              "1  0.851595  1.117011  1.247713  1.393709  1.556788  1.738948  1.942424   \n",
              "2  0.839367  1.186824  1.408551  1.671702  1.984016  2.354677  2.794587   \n",
              "3  0.904835  1.256637  1.579137  1.984402  2.493673  3.133642  3.937850   \n",
              "4  1.090843  1.326450  1.759470  2.333850  3.095735  4.106339  5.446854   \n",
              "\n",
              "         x7        x8         x9     ...            x11        x12        x13  \\\n",
              "0  1.381021  1.446202   1.514459     ...       1.660790   1.739176   1.821260   \n",
              "1  2.169709  2.423588   2.707173     ...       3.377775   3.773011   4.214494   \n",
              "2  3.316683  3.936319   4.671717     ...       6.580351   7.809718   9.268760   \n",
              "3  4.948448  6.218404   7.814277     ...      12.339811  15.506664  19.486248   \n",
              "4  7.224981  9.583578  12.712139     ...      22.366630  29.668222  39.353420   \n",
              "\n",
              "         x14        x15        x16         x17         x18         x19  \\\n",
              "0   1.907219   1.997235   2.091500    2.190214    2.293586    2.401838   \n",
              "1   4.707635   5.258479   5.873777    6.561072    7.328788    8.186335   \n",
              "2  11.000386  13.055521  15.494604   18.389366   21.824939   25.902359   \n",
              "3  24.487142  30.771450  38.668544   48.592326   61.062918   76.733926   \n",
              "4  52.200353  69.241170  91.844966  121.827776  161.598482  214.352344   \n",
              "\n",
              "          x20  \n",
              "0    2.515199  \n",
              "1    9.144223  \n",
              "2   30.741539  \n",
              "3   96.426695  \n",
              "4  284.327717  \n",
              "\n",
              "[5 rows x 21 columns]"
            ]
          },
          "metadata": {
            "tags": []
          },
          "execution_count": 3
        }
      ]
    },
    {
      "cell_type": "code",
      "metadata": {
        "id": "vUpDao0qY5tn",
        "colab_type": "code",
        "outputId": "2fd280b2-ab75-4030-f0c1-aea4655e97bc",
        "colab": {
          "base_uri": "https://localhost:8080/",
          "height": 34
        }
      },
      "source": [
        "# define independent\n",
        "numind = 20;\n",
        "indvar = ['x%d'%i for i in range(1,numind)]\n",
        "print(indvar)\n"
      ],
      "execution_count": 0,
      "outputs": [
        {
          "output_type": "stream",
          "text": [
            "['x1', 'x2', 'x3', 'x4', 'x5', 'x6', 'x7', 'x8', 'x9', 'x10', 'x11', 'x12', 'x13', 'x14', 'x15', 'x16', 'x17', 'x18', 'x19']\n"
          ],
          "name": "stdout"
        }
      ]
    },
    {
      "cell_type": "code",
      "metadata": {
        "id": "iO-cFQemZAHx",
        "colab_type": "code",
        "outputId": "9348e9cd-9e9a-4390-ad6e-c5163be7206a",
        "colab": {
          "base_uri": "https://localhost:8080/",
          "height": 364
        }
      },
      "source": [
        "# OLS regression, LinearRegression\n",
        "from sklearn import linear_model\n",
        "ols1 = linear_model.LinearRegression(normalize=True)\n",
        "ols1.fit(X=data[indvar],y=data['y'])\n",
        "ols_pred = ols1.predict(X=data[indvar])\n",
        "#print(ols_pred)\n",
        "plt.plot(data['x1'],data['y'],'.')\n",
        "plt.plot(data['x1'],ols_pred)"
      ],
      "execution_count": 0,
      "outputs": [
        {
          "output_type": "execute_result",
          "data": {
            "text/plain": [
              "[<matplotlib.lines.Line2D at 0x7f3dd1cd3080>]"
            ]
          },
          "metadata": {
            "tags": []
          },
          "execution_count": 8
        },
        {
          "output_type": "display_data",
          "data": {
            "image/png": "[encoded data removed]",
            "text/plain": [
              "<matplotlib.figure.Figure at 0x7f3dccbb35c0>"
            ]
          },
          "metadata": {
            "tags": []
          }
        }
      ]
    },
    {
      "cell_type": "code",
      "metadata": {
        "id": "4LGhnPpnZnHr",
        "colab_type": "code",
        "outputId": "3fd77d67-4a9a-4f8a-e5cf-4c5c8907e9d7",
        "colab": {
          "base_uri": "https://localhost:8080/",
          "height": 364
        }
      },
      "source": [
        "# Ridge Regression\n",
        "rig1 = linear_model.Ridge(alpha=0.15,normalize=True)\n",
        "rig1.fit(X=data[indvar],y=data['y'])\n",
        "rig_pred = rig1.predict(X=data[indvar])\n",
        "plt.plot(data['x1'],data['y'],'.')\n",
        "plt.plot(data['x1'],rig_pred)"
      ],
      "execution_count": 0,
      "outputs": [
        {
          "output_type": "execute_result",
          "data": {
            "text/plain": [
              "[<matplotlib.lines.Line2D at 0x7f3dcc98afd0>]"
            ]
          },
          "metadata": {
            "tags": []
          },
          "execution_count": 10
        },
        {
          "output_type": "display_data",
          "data": {
            "image/png": "[encoded data removed]",
            "text/plain": [
              "<matplotlib.figure.Figure at 0x7f3dccbb3940>"
            ]
          },
          "metadata": {
            "tags": []
          }
        }
      ]
    },
    {
      "cell_type": "code",
      "metadata": {
        "id": "Xft3h_flaFu8",
        "colab_type": "code",
        "outputId": "3404cacd-ee00-4012-dd25-e85e16318088",
        "colab": {
          "base_uri": "https://localhost:8080/",
          "height": 364
        }
      },
      "source": [
        "# Lasso Regression\n",
        "las1 = linear_model.Lasso(alpha=0.005,normalize=True)\n",
        "las1.fit(X=data[indvar],y=data['y'])\n",
        "las_pred = las1.predict(X=data[indvar])\n",
        "plt.plot(data['x1'],data['y'],'.')\n",
        "plt.plot(data['x1'],las_pred)\n"
      ],
      "execution_count": 0,
      "outputs": [
        {
          "output_type": "execute_result",
          "data": {
            "text/plain": [
              "[<matplotlib.lines.Line2D at 0x7f3dccac7048>]"
            ]
          },
          "metadata": {
            "tags": []
          },
          "execution_count": 13
        },
        {
          "output_type": "display_data",
          "data": {
            "image/png": "[encoded data removed]",
            "text/plain": [
              "<matplotlib.figure.Figure at 0x7f3dcc91a470>"
            ]
          },
          "metadata": {
            "tags": []
          }
        }
      ]
    }
  ]
}