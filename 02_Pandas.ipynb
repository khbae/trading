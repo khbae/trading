{
  "nbformat": 4,
  "nbformat_minor": 0,
  "metadata": {
    "colab": {
      "name": "02_Pandas.ipynb",
      "provenance": [],
      "collapsed_sections": [],
      "include_colab_link": true
    }
  },
  "cells": [
    {
      "cell_type": "markdown",
      "metadata": {
        "id": "view-in-github",
        "colab_type": "text"
      },
      "source": [
        "<a href=\"https://colab.research.google.com/github/khbae/trading/blob/master/02_Pandas.ipynb\" target=\"_parent\"><img src=\"https://colab.research.google.com/assets/colab-badge.svg\" alt=\"Open In Colab\"/></a>"
      ]
    },
    {
      "cell_type": "markdown",
      "metadata": {
        "id": "rzORhdHAOYTL",
        "colab_type": "text"
      },
      "source": [
        "# Pandas\n",
        "\"pandas is an open source, BSD-licensed library providing high-performance, easy-to-use data structures and data analysis tools for the Python programming language.\"\n",
        "* https://pandas.pydata.org/\n",
        "\n",
        "The ** pandas ** package is a package for handling data frames and time series data. Along with the array of ** numpy ** packages, we can use it to perform regression analysis or various financial analyzes."
      ]
    },
    {
      "cell_type": "code",
      "metadata": {
        "id": "hB7DHMq5OSGT",
        "colab_type": "code",
        "colab": {}
      },
      "source": [
        "# import numpy and pandas\n",
        "import numpy as np\n",
        "import pandas as pd\n"
      ],
      "execution_count": 0,
      "outputs": []
    },
    {
      "cell_type": "markdown",
      "metadata": {
        "id": "hrgpQxDTOiR6",
        "colab_type": "text"
      },
      "source": [
        "## Series\n",
        "\n",
        "Variables used in pandas consist of **series** and **dataframe**.\n",
        "* series: a column vector\n",
        "* dataframe: a set of column vectors"
      ]
    },
    {
      "cell_type": "code",
      "metadata": {
        "id": "j3ETEBG8OjfQ",
        "colab_type": "code",
        "outputId": "fd4415da-9fc3-4c09-babf-fa8d9cd16ced",
        "colab": {
          "base_uri": "https://localhost:8080/",
          "height": 34
        }
      },
      "source": [
        "## Series sample\n",
        "series1 = pd.Series(np.random.rand(10),name = 'series1')\n",
        "type(series1)"
      ],
      "execution_count": 0,
      "outputs": [
        {
          "output_type": "execute_result",
          "data": {
            "text/plain": [
              "pandas.core.series.Series"
            ]
          },
          "metadata": {
            "tags": []
          },
          "execution_count": 95
        }
      ]
    },
    {
      "cell_type": "code",
      "metadata": {
        "id": "tHBBGHwkP8TM",
        "colab_type": "code",
        "outputId": "a1b0f490-b147-48c8-e914-6a5d7739f5eb",
        "colab": {
          "base_uri": "https://localhost:8080/",
          "height": 209
        }
      },
      "source": [
        "# Vector multiplied by a constant\n",
        "series1 * 1000"
      ],
      "execution_count": 0,
      "outputs": [
        {
          "output_type": "execute_result",
          "data": {
            "text/plain": [
              "0    526.702345\n",
              "1    762.508206\n",
              "2    649.948895\n",
              "3     87.457818\n",
              "4     52.172189\n",
              "5     85.358301\n",
              "6    255.304527\n",
              "7    170.220300\n",
              "8    516.110560\n",
              "9    597.350451\n",
              "Name: series1, dtype: float64"
            ]
          },
          "metadata": {
            "tags": []
          },
          "execution_count": 97
        }
      ]
    },
    {
      "cell_type": "code",
      "metadata": {
        "id": "TABNJ4F_QTXo",
        "colab_type": "code",
        "outputId": "b1fb722c-d35c-4ab9-d972-24e79f1b105c",
        "colab": {
          "base_uri": "https://localhost:8080/",
          "height": 174
        }
      },
      "source": [
        "# Summary Statistics\n",
        "series1.describe()"
      ],
      "execution_count": 0,
      "outputs": [
        {
          "output_type": "execute_result",
          "data": {
            "text/plain": [
              "count    10.000000\n",
              "mean      0.370313\n",
              "std       0.267698\n",
              "min       0.052172\n",
              "25%       0.108148\n",
              "50%       0.385708\n",
              "75%       0.579688\n",
              "max       0.762508\n",
              "Name: series1, dtype: float64"
            ]
          },
          "metadata": {
            "tags": []
          },
          "execution_count": 98
        }
      ]
    },
    {
      "cell_type": "code",
      "metadata": {
        "id": "E3YCo1VKQb9S",
        "colab_type": "code",
        "outputId": "e66e0728-75d9-48b5-887b-469eb906c2bc",
        "colab": {
          "base_uri": "https://localhost:8080/",
          "height": 209
        }
      },
      "source": [
        "# Assign row names \n",
        "series1.index = ['a','b','c','d','e','f','g','h','i','j']\n",
        "series1"
      ],
      "execution_count": 0,
      "outputs": [
        {
          "output_type": "execute_result",
          "data": {
            "text/plain": [
              "a    0.526702\n",
              "b    0.762508\n",
              "c    0.649949\n",
              "d    0.087458\n",
              "e    0.052172\n",
              "f    0.085358\n",
              "g    0.255305\n",
              "h    0.170220\n",
              "i    0.516111\n",
              "j    0.597350\n",
              "Name: series1, dtype: float64"
            ]
          },
          "metadata": {
            "tags": []
          },
          "execution_count": 103
        }
      ]
    },
    {
      "cell_type": "code",
      "metadata": {
        "id": "mgyd3MZUQtUe",
        "colab_type": "code",
        "outputId": "7d398476-66d5-427e-a768-8679540ef2fa",
        "colab": {
          "base_uri": "https://localhost:8080/",
          "height": 34
        }
      },
      "source": [
        "# Show index in series\n",
        "series1.index"
      ],
      "execution_count": 0,
      "outputs": [
        {
          "output_type": "execute_result",
          "data": {
            "text/plain": [
              "Index([u'a', u'b', u'c', u'd', u'e', u'f', u'g', u'h', u'i', u'j'], dtype='object')"
            ]
          },
          "metadata": {
            "tags": []
          },
          "execution_count": 104
        }
      ]
    },
    {
      "cell_type": "code",
      "metadata": {
        "id": "NNBoX5x9Q_76",
        "colab_type": "code",
        "outputId": "62375eb5-d762-41b6-9365-46456ca70cac",
        "colab": {
          "base_uri": "https://localhost:8080/",
          "height": 52
        }
      },
      "source": [
        "# Choose data\n",
        "print(series1['g'])\n",
        "print(series1[6])"
      ],
      "execution_count": 0,
      "outputs": [
        {
          "output_type": "stream",
          "text": [
            "0.2553045273793483\n",
            "0.2553045273793483\n"
          ],
          "name": "stdout"
        }
      ]
    },
    {
      "cell_type": "markdown",
      "metadata": {
        "id": "Lk3MQBRcRlF3",
        "colab_type": "text"
      },
      "source": [
        "## dataframe\n",
        "\n",
        "A data frame can be said to be a combination of series, and has independent characteristics for each column."
      ]
    },
    {
      "cell_type": "code",
      "metadata": {
        "id": "U7Qrfj-jRaTl",
        "colab_type": "code",
        "outputId": "0593b798-4709-4ca6-fce9-53e1b7466ba0",
        "colab": {
          "base_uri": "https://localhost:8080/",
          "height": 34
        }
      },
      "source": [
        "# Create dict \n",
        "dict1 = {\n",
        "    'column1' : [1,2,3,4,5],\n",
        "    'column2' : ['amazon','ms','apple','google','samsung'],\n",
        "    'returns' : np.random.rand(5)\n",
        "}\n",
        "type(dict1)"
      ],
      "execution_count": 0,
      "outputs": [
        {
          "output_type": "execute_result",
          "data": {
            "text/plain": [
              "dict"
            ]
          },
          "metadata": {
            "tags": []
          },
          "execution_count": 111
        }
      ]
    },
    {
      "cell_type": "code",
      "metadata": {
        "id": "rZ6B4GKOSFwy",
        "colab_type": "code",
        "outputId": "4e7c71ac-6b55-46d4-bc26-887dec9ed6d8",
        "colab": {
          "base_uri": "https://localhost:8080/",
          "height": 204
        }
      },
      "source": [
        "# Convert Dict to dataframe\n",
        "dfram = pd.DataFrame(dict1,pd.date_range('2015-01-01',periods=5))\n",
        "dfram\n"
      ],
      "execution_count": 0,
      "outputs": [
        {
          "output_type": "execute_result",
          "data": {
            "text/html": [
              "<div>\n",
              "<style scoped>\n",
              "    .dataframe tbody tr th:only-of-type {\n",
              "        vertical-align: middle;\n",
              "    }\n",
              "\n",
              "    .dataframe tbody tr th {\n",
              "        vertical-align: top;\n",
              "    }\n",
              "\n",
              "    .dataframe thead th {\n",
              "        text-align: right;\n",
              "    }\n",
              "</style>\n",
              "<table border=\"1\" class=\"dataframe\">\n",
              "  <thead>\n",
              "    <tr style=\"text-align: right;\">\n",
              "      <th></th>\n",
              "      <th>column1</th>\n",
              "      <th>column2</th>\n",
              "      <th>returns</th>\n",
              "    </tr>\n",
              "  </thead>\n",
              "  <tbody>\n",
              "    <tr>\n",
              "      <th>2015-01-01</th>\n",
              "      <td>1</td>\n",
              "      <td>amazon</td>\n",
              "      <td>0.855540</td>\n",
              "    </tr>\n",
              "    <tr>\n",
              "      <th>2015-01-02</th>\n",
              "      <td>2</td>\n",
              "      <td>ms</td>\n",
              "      <td>0.319923</td>\n",
              "    </tr>\n",
              "    <tr>\n",
              "      <th>2015-01-03</th>\n",
              "      <td>3</td>\n",
              "      <td>apple</td>\n",
              "      <td>0.201074</td>\n",
              "    </tr>\n",
              "    <tr>\n",
              "      <th>2015-01-04</th>\n",
              "      <td>4</td>\n",
              "      <td>google</td>\n",
              "      <td>0.079964</td>\n",
              "    </tr>\n",
              "    <tr>\n",
              "      <th>2015-01-05</th>\n",
              "      <td>5</td>\n",
              "      <td>samsung</td>\n",
              "      <td>0.534425</td>\n",
              "    </tr>\n",
              "  </tbody>\n",
              "</table>\n",
              "</div>"
            ],
            "text/plain": [
              "            column1  column2   returns\n",
              "2015-01-01        1   amazon  0.855540\n",
              "2015-01-02        2       ms  0.319923\n",
              "2015-01-03        3    apple  0.201074\n",
              "2015-01-04        4   google  0.079964\n",
              "2015-01-05        5  samsung  0.534425"
            ]
          },
          "metadata": {
            "tags": []
          },
          "execution_count": 116
        }
      ]
    },
    {
      "cell_type": "code",
      "metadata": {
        "id": "fVRZA7tNUNji",
        "colab_type": "code",
        "outputId": "5197ffc0-5429-4169-8548-bf7eb7cc07d4",
        "colab": {
          "base_uri": "https://localhost:8080/",
          "height": 69
        }
      },
      "source": [
        "# data frame columns and index\n",
        "dfram.index"
      ],
      "execution_count": 0,
      "outputs": [
        {
          "output_type": "execute_result",
          "data": {
            "text/plain": [
              "DatetimeIndex(['2015-01-01', '2015-01-02', '2015-01-03', '2015-01-04',\n",
              "               '2015-01-05'],\n",
              "              dtype='datetime64[ns]', freq='D')"
            ]
          },
          "metadata": {
            "tags": []
          },
          "execution_count": 118
        }
      ]
    },
    {
      "cell_type": "markdown",
      "metadata": {
        "id": "Ll7cgw1sUgBs",
        "colab_type": "text"
      },
      "source": [
        "dataframe을 인덱싱하는 함수로는 iloc가 있고, 각 행좌표와 열좌표를 인자로 한다."
      ]
    },
    {
      "cell_type": "code",
      "metadata": {
        "id": "M7ZEWXjaUhNm",
        "colab_type": "code",
        "outputId": "5283d4b0-8a1d-49b4-bd99-8c8acde3ab13",
        "colab": {
          "base_uri": "https://localhost:8080/",
          "height": 111
        }
      },
      "source": [
        "# iloc\n",
        "dfram.iloc[1:3,0:3]\n"
      ],
      "execution_count": 0,
      "outputs": [
        {
          "output_type": "execute_result",
          "data": {
            "text/html": [
              "<div>\n",
              "<style scoped>\n",
              "    .dataframe tbody tr th:only-of-type {\n",
              "        vertical-align: middle;\n",
              "    }\n",
              "\n",
              "    .dataframe tbody tr th {\n",
              "        vertical-align: top;\n",
              "    }\n",
              "\n",
              "    .dataframe thead th {\n",
              "        text-align: right;\n",
              "    }\n",
              "</style>\n",
              "<table border=\"1\" class=\"dataframe\">\n",
              "  <thead>\n",
              "    <tr style=\"text-align: right;\">\n",
              "      <th></th>\n",
              "      <th>column1</th>\n",
              "      <th>column2</th>\n",
              "      <th>returns</th>\n",
              "    </tr>\n",
              "  </thead>\n",
              "  <tbody>\n",
              "    <tr>\n",
              "      <th>2015-01-02</th>\n",
              "      <td>2</td>\n",
              "      <td>ms</td>\n",
              "      <td>0.319923</td>\n",
              "    </tr>\n",
              "    <tr>\n",
              "      <th>2015-01-03</th>\n",
              "      <td>3</td>\n",
              "      <td>apple</td>\n",
              "      <td>0.201074</td>\n",
              "    </tr>\n",
              "  </tbody>\n",
              "</table>\n",
              "</div>"
            ],
            "text/plain": [
              "            column1 column2   returns\n",
              "2015-01-02        2      ms  0.319923\n",
              "2015-01-03        3   apple  0.201074"
            ]
          },
          "metadata": {
            "tags": []
          },
          "execution_count": 123
        }
      ]
    },
    {
      "cell_type": "markdown",
      "metadata": {
        "id": "f5kf3ZYjVBI6",
        "colab_type": "text"
      },
      "source": [
        "**dataframe**을 또 다른 인덱싱하는 함수로는 loc가 있고, 각 행이름과 열이름를 인자로 한다."
      ]
    },
    {
      "cell_type": "code",
      "metadata": {
        "id": "TehaqsrXUeqi",
        "colab_type": "code",
        "outputId": "9323c346-95c8-4843-b122-e38734d11291",
        "colab": {
          "base_uri": "https://localhost:8080/",
          "height": 111
        }
      },
      "source": [
        "# use to_datetime function\n",
        "dfram.loc[pd.to_datetime(['2015-01-01','2015-01-03']),['column1','column2']]"
      ],
      "execution_count": 0,
      "outputs": [
        {
          "output_type": "execute_result",
          "data": {
            "text/html": [
              "<div>\n",
              "<style scoped>\n",
              "    .dataframe tbody tr th:only-of-type {\n",
              "        vertical-align: middle;\n",
              "    }\n",
              "\n",
              "    .dataframe tbody tr th {\n",
              "        vertical-align: top;\n",
              "    }\n",
              "\n",
              "    .dataframe thead th {\n",
              "        text-align: right;\n",
              "    }\n",
              "</style>\n",
              "<table border=\"1\" class=\"dataframe\">\n",
              "  <thead>\n",
              "    <tr style=\"text-align: right;\">\n",
              "      <th></th>\n",
              "      <th>column1</th>\n",
              "      <th>column2</th>\n",
              "    </tr>\n",
              "  </thead>\n",
              "  <tbody>\n",
              "    <tr>\n",
              "      <th>2015-01-01</th>\n",
              "      <td>1</td>\n",
              "      <td>amazon</td>\n",
              "    </tr>\n",
              "    <tr>\n",
              "      <th>2015-01-03</th>\n",
              "      <td>3</td>\n",
              "      <td>apple</td>\n",
              "    </tr>\n",
              "  </tbody>\n",
              "</table>\n",
              "</div>"
            ],
            "text/plain": [
              "            column1 column2\n",
              "2015-01-01        1  amazon\n",
              "2015-01-03        3   apple"
            ]
          },
          "metadata": {
            "tags": []
          },
          "execution_count": 128
        }
      ]
    },
    {
      "cell_type": "code",
      "metadata": {
        "id": "pt-G7Yr1Svis",
        "colab_type": "code",
        "outputId": "aff44189-09f1-4172-8d29-04f41ea0390b",
        "colab": {
          "base_uri": "https://localhost:8080/",
          "height": 359
        }
      },
      "source": [
        "# Combine Series : pd.concat function\n",
        "series1 = pd.Series(np.random.rand(10),name = 'series1')\n",
        "series2 = pd.Series(np.random.rand(10),name = 'series2')\n",
        "series3 = pd.Series(np.random.rand(10),name = 'series3')\n",
        "dfram2 = pd.concat([series1,series2,series3],axis=1)\n",
        "dfram2"
      ],
      "execution_count": 0,
      "outputs": [
        {
          "output_type": "execute_result",
          "data": {
            "text/html": [
              "<div>\n",
              "<style scoped>\n",
              "    .dataframe tbody tr th:only-of-type {\n",
              "        vertical-align: middle;\n",
              "    }\n",
              "\n",
              "    .dataframe tbody tr th {\n",
              "        vertical-align: top;\n",
              "    }\n",
              "\n",
              "    .dataframe thead th {\n",
              "        text-align: right;\n",
              "    }\n",
              "</style>\n",
              "<table border=\"1\" class=\"dataframe\">\n",
              "  <thead>\n",
              "    <tr style=\"text-align: right;\">\n",
              "      <th></th>\n",
              "      <th>series1</th>\n",
              "      <th>series2</th>\n",
              "      <th>series3</th>\n",
              "    </tr>\n",
              "  </thead>\n",
              "  <tbody>\n",
              "    <tr>\n",
              "      <th>0</th>\n",
              "      <td>0.401753</td>\n",
              "      <td>0.771322</td>\n",
              "      <td>0.402925</td>\n",
              "    </tr>\n",
              "    <tr>\n",
              "      <th>1</th>\n",
              "      <td>0.625604</td>\n",
              "      <td>0.522752</td>\n",
              "      <td>0.511941</td>\n",
              "    </tr>\n",
              "    <tr>\n",
              "      <th>2</th>\n",
              "      <td>0.309656</td>\n",
              "      <td>0.987667</td>\n",
              "      <td>0.322756</td>\n",
              "    </tr>\n",
              "    <tr>\n",
              "      <th>3</th>\n",
              "      <td>0.231585</td>\n",
              "      <td>0.779915</td>\n",
              "      <td>0.109179</td>\n",
              "    </tr>\n",
              "    <tr>\n",
              "      <th>4</th>\n",
              "      <td>0.227246</td>\n",
              "      <td>0.638261</td>\n",
              "      <td>0.235523</td>\n",
              "    </tr>\n",
              "    <tr>\n",
              "      <th>5</th>\n",
              "      <td>0.734185</td>\n",
              "      <td>0.715346</td>\n",
              "      <td>0.968700</td>\n",
              "    </tr>\n",
              "    <tr>\n",
              "      <th>6</th>\n",
              "      <td>0.988692</td>\n",
              "      <td>0.506206</td>\n",
              "      <td>0.436897</td>\n",
              "    </tr>\n",
              "    <tr>\n",
              "      <th>7</th>\n",
              "      <td>0.627060</td>\n",
              "      <td>0.309324</td>\n",
              "      <td>0.124718</td>\n",
              "    </tr>\n",
              "    <tr>\n",
              "      <th>8</th>\n",
              "      <td>0.141346</td>\n",
              "      <td>0.004172</td>\n",
              "      <td>0.725910</td>\n",
              "    </tr>\n",
              "    <tr>\n",
              "      <th>9</th>\n",
              "      <td>0.895795</td>\n",
              "      <td>0.562492</td>\n",
              "      <td>0.880470</td>\n",
              "    </tr>\n",
              "  </tbody>\n",
              "</table>\n",
              "</div>"
            ],
            "text/plain": [
              "    series1   series2   series3\n",
              "0  0.401753  0.771322  0.402925\n",
              "1  0.625604  0.522752  0.511941\n",
              "2  0.309656  0.987667  0.322756\n",
              "3  0.231585  0.779915  0.109179\n",
              "4  0.227246  0.638261  0.235523\n",
              "5  0.734185  0.715346  0.968700\n",
              "6  0.988692  0.506206  0.436897\n",
              "7  0.627060  0.309324  0.124718\n",
              "8  0.141346  0.004172  0.725910\n",
              "9  0.895795  0.562492  0.880470"
            ]
          },
          "metadata": {
            "tags": []
          },
          "execution_count": 135
        }
      ]
    },
    {
      "cell_type": "markdown",
      "metadata": {
        "id": "9HJEFcWPWM0c",
        "colab_type": "text"
      },
      "source": [
        "**dataframe**을 직접 웹에서 받아오는 방법도 존재한다. 웹에서 받는 경우는 야후 파이낸스에서 데이터를 가져오는 경우와, quandl에서 가져오는 경우로 나뉜다."
      ]
    },
    {
      "cell_type": "code",
      "metadata": {
        "id": "qqqMLtdHT2yw",
        "colab_type": "code",
        "outputId": "e8a3301a-15a2-444b-c795-792522f57091",
        "colab": {
          "base_uri": "https://localhost:8080/",
          "height": 390
        }
      },
      "source": [
        "!pip install -q pandas_datareader # pandas_datareader 패키지를 인스톨 하는 코드이다.\n",
        "\n",
        "import pandas_datareader.data as web\n",
        "import datetime # 원하는 날짜를 형성하여 만들 수 가 있다.\n",
        "\n",
        "start = datetime.datetime(2017, 10, 19)\n",
        "end = datetime.datetime(2017, 11, 1)\n",
        "\n",
        "aapl = web.DataReader('AAPL','google',start,end)\n",
        "aapl"
      ],
      "execution_count": 0,
      "outputs": [
        {
          "output_type": "execute_result",
          "data": {
            "text/html": [
              "<div>\n",
              "<style scoped>\n",
              "    .dataframe tbody tr th:only-of-type {\n",
              "        vertical-align: middle;\n",
              "    }\n",
              "\n",
              "    .dataframe tbody tr th {\n",
              "        vertical-align: top;\n",
              "    }\n",
              "\n",
              "    .dataframe thead th {\n",
              "        text-align: right;\n",
              "    }\n",
              "</style>\n",
              "<table border=\"1\" class=\"dataframe\">\n",
              "  <thead>\n",
              "    <tr style=\"text-align: right;\">\n",
              "      <th></th>\n",
              "      <th>Open</th>\n",
              "      <th>High</th>\n",
              "      <th>Low</th>\n",
              "      <th>Close</th>\n",
              "      <th>Volume</th>\n",
              "    </tr>\n",
              "    <tr>\n",
              "      <th>Date</th>\n",
              "      <th></th>\n",
              "      <th></th>\n",
              "      <th></th>\n",
              "      <th></th>\n",
              "      <th></th>\n",
              "    </tr>\n",
              "  </thead>\n",
              "  <tbody>\n",
              "    <tr>\n",
              "      <th>2017-10-19</th>\n",
              "      <td>156.75</td>\n",
              "      <td>157.08</td>\n",
              "      <td>155.02</td>\n",
              "      <td>155.98</td>\n",
              "      <td>42584166</td>\n",
              "    </tr>\n",
              "    <tr>\n",
              "      <th>2017-10-20</th>\n",
              "      <td>156.61</td>\n",
              "      <td>157.75</td>\n",
              "      <td>155.96</td>\n",
              "      <td>156.25</td>\n",
              "      <td>23974146</td>\n",
              "    </tr>\n",
              "    <tr>\n",
              "      <th>2017-10-23</th>\n",
              "      <td>156.89</td>\n",
              "      <td>157.69</td>\n",
              "      <td>155.50</td>\n",
              "      <td>156.17</td>\n",
              "      <td>21984327</td>\n",
              "    </tr>\n",
              "    <tr>\n",
              "      <th>2017-10-24</th>\n",
              "      <td>156.29</td>\n",
              "      <td>157.42</td>\n",
              "      <td>156.20</td>\n",
              "      <td>157.10</td>\n",
              "      <td>17757230</td>\n",
              "    </tr>\n",
              "    <tr>\n",
              "      <th>2017-10-25</th>\n",
              "      <td>156.91</td>\n",
              "      <td>157.55</td>\n",
              "      <td>155.27</td>\n",
              "      <td>156.41</td>\n",
              "      <td>21207098</td>\n",
              "    </tr>\n",
              "    <tr>\n",
              "      <th>2017-10-26</th>\n",
              "      <td>157.23</td>\n",
              "      <td>157.83</td>\n",
              "      <td>156.78</td>\n",
              "      <td>157.41</td>\n",
              "      <td>17000469</td>\n",
              "    </tr>\n",
              "    <tr>\n",
              "      <th>2017-10-27</th>\n",
              "      <td>159.29</td>\n",
              "      <td>163.60</td>\n",
              "      <td>158.70</td>\n",
              "      <td>163.05</td>\n",
              "      <td>44454160</td>\n",
              "    </tr>\n",
              "    <tr>\n",
              "      <th>2017-10-30</th>\n",
              "      <td>163.89</td>\n",
              "      <td>168.07</td>\n",
              "      <td>163.72</td>\n",
              "      <td>166.72</td>\n",
              "      <td>44700772</td>\n",
              "    </tr>\n",
              "    <tr>\n",
              "      <th>2017-10-31</th>\n",
              "      <td>167.90</td>\n",
              "      <td>169.65</td>\n",
              "      <td>166.94</td>\n",
              "      <td>169.04</td>\n",
              "      <td>36046828</td>\n",
              "    </tr>\n",
              "    <tr>\n",
              "      <th>2017-11-01</th>\n",
              "      <td>169.87</td>\n",
              "      <td>169.94</td>\n",
              "      <td>165.61</td>\n",
              "      <td>166.89</td>\n",
              "      <td>33637762</td>\n",
              "    </tr>\n",
              "  </tbody>\n",
              "</table>\n",
              "</div>"
            ],
            "text/plain": [
              "              Open    High     Low   Close    Volume\n",
              "Date                                                \n",
              "2017-10-19  156.75  157.08  155.02  155.98  42584166\n",
              "2017-10-20  156.61  157.75  155.96  156.25  23974146\n",
              "2017-10-23  156.89  157.69  155.50  156.17  21984327\n",
              "2017-10-24  156.29  157.42  156.20  157.10  17757230\n",
              "2017-10-25  156.91  157.55  155.27  156.41  21207098\n",
              "2017-10-26  157.23  157.83  156.78  157.41  17000469\n",
              "2017-10-27  159.29  163.60  158.70  163.05  44454160\n",
              "2017-10-30  163.89  168.07  163.72  166.72  44700772\n",
              "2017-10-31  167.90  169.65  166.94  169.04  36046828\n",
              "2017-11-01  169.87  169.94  165.61  166.89  33637762"
            ]
          },
          "metadata": {
            "tags": []
          },
          "execution_count": 136
        }
      ]
    },
    {
      "cell_type": "code",
      "metadata": {
        "id": "Z_Zob0p6Wcs-",
        "colab_type": "code",
        "outputId": "94b10418-6041-4e65-fa61-5ca1d0ecba0d",
        "colab": {
          "base_uri": "https://localhost:8080/",
          "height": 1041
        }
      },
      "source": [
        "!pip install -q quandl # quandl 패키지를 인스톨 하는 코드이다.\n",
        "\n",
        "import quandl\n",
        "\n",
        "# qunadl.get(qunadl_data_code, periods, api_key) \n",
        "# quandl에서 데이터를 받는 코드는 데이터 코드, 기간, 회원가입시 발급받을 수 있는 개인 api_key로 이루어진다. [ https://www.quandl.com/ ]\n",
        "\n",
        "data = quandl.get(\"BCHARTS/BITSTAMPUSD\",start_date=\"2017-12-01\", end_date=\"2017-12-31\") # 이 데이터는 api_key가 필요없이 받아올 수 있다.\n",
        "data\n"
      ],
      "execution_count": 0,
      "outputs": [
        {
          "output_type": "execute_result",
          "data": {
            "text/html": [
              "<div>\n",
              "<style scoped>\n",
              "    .dataframe tbody tr th:only-of-type {\n",
              "        vertical-align: middle;\n",
              "    }\n",
              "\n",
              "    .dataframe tbody tr th {\n",
              "        vertical-align: top;\n",
              "    }\n",
              "\n",
              "    .dataframe thead th {\n",
              "        text-align: right;\n",
              "    }\n",
              "</style>\n",
              "<table border=\"1\" class=\"dataframe\">\n",
              "  <thead>\n",
              "    <tr style=\"text-align: right;\">\n",
              "      <th></th>\n",
              "      <th>Open</th>\n",
              "      <th>High</th>\n",
              "      <th>Low</th>\n",
              "      <th>Close</th>\n",
              "      <th>Volume (BTC)</th>\n",
              "      <th>Volume (Currency)</th>\n",
              "      <th>Weighted Price</th>\n",
              "    </tr>\n",
              "    <tr>\n",
              "      <th>Date</th>\n",
              "      <th></th>\n",
              "      <th></th>\n",
              "      <th></th>\n",
              "      <th></th>\n",
              "      <th></th>\n",
              "      <th></th>\n",
              "      <th></th>\n",
              "    </tr>\n",
              "  </thead>\n",
              "  <tbody>\n",
              "    <tr>\n",
              "      <th>2017-12-01</th>\n",
              "      <td>9927.29</td>\n",
              "      <td>10949.89</td>\n",
              "      <td>9370.11</td>\n",
              "      <td>10840.45</td>\n",
              "      <td>16708.032248</td>\n",
              "      <td>1.718818e+08</td>\n",
              "      <td>10287.373047</td>\n",
              "    </tr>\n",
              "    <tr>\n",
              "      <th>2017-12-02</th>\n",
              "      <td>10840.45</td>\n",
              "      <td>11200.00</td>\n",
              "      <td>10637.69</td>\n",
              "      <td>10872.00</td>\n",
              "      <td>9267.161055</td>\n",
              "      <td>1.012701e+08</td>\n",
              "      <td>10927.843358</td>\n",
              "    </tr>\n",
              "    <tr>\n",
              "      <th>2017-12-03</th>\n",
              "      <td>10875.68</td>\n",
              "      <td>11800.01</td>\n",
              "      <td>10513.16</td>\n",
              "      <td>11250.00</td>\n",
              "      <td>14238.525877</td>\n",
              "      <td>1.601763e+08</td>\n",
              "      <td>11249.499550</td>\n",
              "    </tr>\n",
              "    <tr>\n",
              "      <th>2017-12-04</th>\n",
              "      <td>11250.00</td>\n",
              "      <td>11613.07</td>\n",
              "      <td>10850.00</td>\n",
              "      <td>11613.07</td>\n",
              "      <td>13621.481973</td>\n",
              "      <td>1.541229e+08</td>\n",
              "      <td>11314.695288</td>\n",
              "    </tr>\n",
              "    <tr>\n",
              "      <th>2017-12-05</th>\n",
              "      <td>11613.07</td>\n",
              "      <td>11850.00</td>\n",
              "      <td>11384.25</td>\n",
              "      <td>11677.00</td>\n",
              "      <td>11875.033777</td>\n",
              "      <td>1.383701e+08</td>\n",
              "      <td>11652.183797</td>\n",
              "    </tr>\n",
              "    <tr>\n",
              "      <th>2017-12-06</th>\n",
              "      <td>11676.99</td>\n",
              "      <td>13700.00</td>\n",
              "      <td>11659.80</td>\n",
              "      <td>13623.50</td>\n",
              "      <td>19784.873487</td>\n",
              "      <td>2.505608e+08</td>\n",
              "      <td>12664.260424</td>\n",
              "    </tr>\n",
              "    <tr>\n",
              "      <th>2017-12-07</th>\n",
              "      <td>13623.00</td>\n",
              "      <td>16615.62</td>\n",
              "      <td>13085.90</td>\n",
              "      <td>16599.99</td>\n",
              "      <td>25787.676556</td>\n",
              "      <td>3.826940e+08</td>\n",
              "      <td>14840.190945</td>\n",
              "    </tr>\n",
              "    <tr>\n",
              "      <th>2017-12-08</th>\n",
              "      <td>16599.99</td>\n",
              "      <td>16666.66</td>\n",
              "      <td>13482.42</td>\n",
              "      <td>15800.00</td>\n",
              "      <td>25473.395311</td>\n",
              "      <td>3.893660e+08</td>\n",
              "      <td>15285.203654</td>\n",
              "    </tr>\n",
              "    <tr>\n",
              "      <th>2017-12-09</th>\n",
              "      <td>15799.87</td>\n",
              "      <td>15998.50</td>\n",
              "      <td>12701.05</td>\n",
              "      <td>14607.49</td>\n",
              "      <td>16587.472927</td>\n",
              "      <td>2.389091e+08</td>\n",
              "      <td>14402.981914</td>\n",
              "    </tr>\n",
              "    <tr>\n",
              "      <th>2017-12-10</th>\n",
              "      <td>14601.01</td>\n",
              "      <td>15385.00</td>\n",
              "      <td>13011.00</td>\n",
              "      <td>14691.00</td>\n",
              "      <td>18487.983041</td>\n",
              "      <td>2.631507e+08</td>\n",
              "      <td>14233.606090</td>\n",
              "    </tr>\n",
              "    <tr>\n",
              "      <th>2017-12-11</th>\n",
              "      <td>14690.99</td>\n",
              "      <td>17270.00</td>\n",
              "      <td>14677.19</td>\n",
              "      <td>16470.00</td>\n",
              "      <td>16583.723155</td>\n",
              "      <td>2.702038e+08</td>\n",
              "      <td>16293.316148</td>\n",
              "    </tr>\n",
              "    <tr>\n",
              "      <th>2017-12-12</th>\n",
              "      <td>16470.00</td>\n",
              "      <td>17428.42</td>\n",
              "      <td>15967.29</td>\n",
              "      <td>16650.01</td>\n",
              "      <td>13517.892103</td>\n",
              "      <td>2.278423e+08</td>\n",
              "      <td>16854.872561</td>\n",
              "    </tr>\n",
              "    <tr>\n",
              "      <th>2017-12-13</th>\n",
              "      <td>16650.01</td>\n",
              "      <td>17107.03</td>\n",
              "      <td>15497.69</td>\n",
              "      <td>16250.00</td>\n",
              "      <td>17136.705858</td>\n",
              "      <td>2.816405e+08</td>\n",
              "      <td>16434.926066</td>\n",
              "    </tr>\n",
              "    <tr>\n",
              "      <th>2017-12-14</th>\n",
              "      <td>16245.02</td>\n",
              "      <td>16830.45</td>\n",
              "      <td>15852.69</td>\n",
              "      <td>16404.99</td>\n",
              "      <td>13409.524288</td>\n",
              "      <td>2.192632e+08</td>\n",
              "      <td>16351.302832</td>\n",
              "    </tr>\n",
              "    <tr>\n",
              "      <th>2017-12-15</th>\n",
              "      <td>16404.99</td>\n",
              "      <td>17934.00</td>\n",
              "      <td>16337.19</td>\n",
              "      <td>17471.50</td>\n",
              "      <td>18998.388137</td>\n",
              "      <td>3.293370e+08</td>\n",
              "      <td>17334.997705</td>\n",
              "    </tr>\n",
              "    <tr>\n",
              "      <th>2017-12-16</th>\n",
              "      <td>17477.98</td>\n",
              "      <td>19377.00</td>\n",
              "      <td>17269.99</td>\n",
              "      <td>19187.78</td>\n",
              "      <td>9761.220809</td>\n",
              "      <td>1.799060e+08</td>\n",
              "      <td>18430.689989</td>\n",
              "    </tr>\n",
              "    <tr>\n",
              "      <th>2017-12-17</th>\n",
              "      <td>19187.78</td>\n",
              "      <td>19666.00</td>\n",
              "      <td>18465.00</td>\n",
              "      <td>18953.00</td>\n",
              "      <td>9749.249155</td>\n",
              "      <td>1.863105e+08</td>\n",
              "      <td>19110.244062</td>\n",
              "    </tr>\n",
              "    <tr>\n",
              "      <th>2017-12-18</th>\n",
              "      <td>18953.00</td>\n",
              "      <td>19220.00</td>\n",
              "      <td>17835.20</td>\n",
              "      <td>18940.57</td>\n",
              "      <td>14678.941448</td>\n",
              "      <td>2.735335e+08</td>\n",
              "      <td>18634.418590</td>\n",
              "    </tr>\n",
              "    <tr>\n",
              "      <th>2017-12-19</th>\n",
              "      <td>18940.58</td>\n",
              "      <td>19160.79</td>\n",
              "      <td>16831.26</td>\n",
              "      <td>17700.00</td>\n",
              "      <td>21528.137665</td>\n",
              "      <td>3.872062e+08</td>\n",
              "      <td>17986.053806</td>\n",
              "    </tr>\n",
              "    <tr>\n",
              "      <th>2017-12-20</th>\n",
              "      <td>17700.00</td>\n",
              "      <td>17950.00</td>\n",
              "      <td>15343.04</td>\n",
              "      <td>16466.98</td>\n",
              "      <td>31172.228807</td>\n",
              "      <td>5.213506e+08</td>\n",
              "      <td>16724.840365</td>\n",
              "    </tr>\n",
              "    <tr>\n",
              "      <th>2017-12-21</th>\n",
              "      <td>16466.98</td>\n",
              "      <td>17281.17</td>\n",
              "      <td>15005.00</td>\n",
              "      <td>15600.01</td>\n",
              "      <td>20377.860439</td>\n",
              "      <td>3.267307e+08</td>\n",
              "      <td>16033.611116</td>\n",
              "    </tr>\n",
              "    <tr>\n",
              "      <th>2017-12-22</th>\n",
              "      <td>15600.00</td>\n",
              "      <td>15795.61</td>\n",
              "      <td>11159.93</td>\n",
              "      <td>14009.79</td>\n",
              "      <td>57444.885803</td>\n",
              "      <td>7.721430e+08</td>\n",
              "      <td>13441.458014</td>\n",
              "    </tr>\n",
              "    <tr>\n",
              "      <th>2017-12-23</th>\n",
              "      <td>13980.00</td>\n",
              "      <td>15756.22</td>\n",
              "      <td>13496.48</td>\n",
              "      <td>14619.00</td>\n",
              "      <td>21786.408664</td>\n",
              "      <td>3.221206e+08</td>\n",
              "      <td>14785.392330</td>\n",
              "    </tr>\n",
              "    <tr>\n",
              "      <th>2017-12-24</th>\n",
              "      <td>14619.00</td>\n",
              "      <td>14619.10</td>\n",
              "      <td>12488.00</td>\n",
              "      <td>14157.87</td>\n",
              "      <td>18519.489323</td>\n",
              "      <td>2.504764e+08</td>\n",
              "      <td>13525.017849</td>\n",
              "    </tr>\n",
              "    <tr>\n",
              "      <th>2017-12-25</th>\n",
              "      <td>14107.87</td>\n",
              "      <td>14650.00</td>\n",
              "      <td>13210.00</td>\n",
              "      <td>13911.28</td>\n",
              "      <td>11564.544333</td>\n",
              "      <td>1.613474e+08</td>\n",
              "      <td>13951.899222</td>\n",
              "    </tr>\n",
              "    <tr>\n",
              "      <th>2017-12-26</th>\n",
              "      <td>13925.50</td>\n",
              "      <td>16147.87</td>\n",
              "      <td>13746.95</td>\n",
              "      <td>15764.44</td>\n",
              "      <td>15051.164018</td>\n",
              "      <td>2.309226e+08</td>\n",
              "      <td>15342.505662</td>\n",
              "    </tr>\n",
              "    <tr>\n",
              "      <th>2017-12-27</th>\n",
              "      <td>15764.45</td>\n",
              "      <td>16480.52</td>\n",
              "      <td>14484.00</td>\n",
              "      <td>15364.93</td>\n",
              "      <td>15643.754882</td>\n",
              "      <td>2.418610e+08</td>\n",
              "      <td>15460.545563</td>\n",
              "    </tr>\n",
              "    <tr>\n",
              "      <th>2017-12-28</th>\n",
              "      <td>15390.05</td>\n",
              "      <td>15474.19</td>\n",
              "      <td>13500.00</td>\n",
              "      <td>14470.07</td>\n",
              "      <td>16557.217323</td>\n",
              "      <td>2.344286e+08</td>\n",
              "      <td>14158.694300</td>\n",
              "    </tr>\n",
              "    <tr>\n",
              "      <th>2017-12-29</th>\n",
              "      <td>14436.99</td>\n",
              "      <td>15111.00</td>\n",
              "      <td>13998.00</td>\n",
              "      <td>14340.00</td>\n",
              "      <td>13505.702992</td>\n",
              "      <td>1.957276e+08</td>\n",
              "      <td>14492.221462</td>\n",
              "    </tr>\n",
              "    <tr>\n",
              "      <th>2017-12-30</th>\n",
              "      <td>14351.00</td>\n",
              "      <td>14463.28</td>\n",
              "      <td>12050.00</td>\n",
              "      <td>12640.00</td>\n",
              "      <td>21749.674446</td>\n",
              "      <td>2.859856e+08</td>\n",
              "      <td>13148.957748</td>\n",
              "    </tr>\n",
              "    <tr>\n",
              "      <th>2017-12-31</th>\n",
              "      <td>12640.00</td>\n",
              "      <td>14296.06</td>\n",
              "      <td>12491.21</td>\n",
              "      <td>13880.00</td>\n",
              "      <td>11583.418647</td>\n",
              "      <td>1.545526e+08</td>\n",
              "      <td>13342.576072</td>\n",
              "    </tr>\n",
              "  </tbody>\n",
              "</table>\n",
              "</div>"
            ],
            "text/plain": [
              "                Open      High       Low     Close  Volume (BTC)  \\\n",
              "Date                                                               \n",
              "2017-12-01   9927.29  10949.89   9370.11  10840.45  16708.032248   \n",
              "2017-12-02  10840.45  11200.00  10637.69  10872.00   9267.161055   \n",
              "2017-12-03  10875.68  11800.01  10513.16  11250.00  14238.525877   \n",
              "2017-12-04  11250.00  11613.07  10850.00  11613.07  13621.481973   \n",
              "2017-12-05  11613.07  11850.00  11384.25  11677.00  11875.033777   \n",
              "2017-12-06  11676.99  13700.00  11659.80  13623.50  19784.873487   \n",
              "2017-12-07  13623.00  16615.62  13085.90  16599.99  25787.676556   \n",
              "2017-12-08  16599.99  16666.66  13482.42  15800.00  25473.395311   \n",
              "2017-12-09  15799.87  15998.50  12701.05  14607.49  16587.472927   \n",
              "2017-12-10  14601.01  15385.00  13011.00  14691.00  18487.983041   \n",
              "2017-12-11  14690.99  17270.00  14677.19  16470.00  16583.723155   \n",
              "2017-12-12  16470.00  17428.42  15967.29  16650.01  13517.892103   \n",
              "2017-12-13  16650.01  17107.03  15497.69  16250.00  17136.705858   \n",
              "2017-12-14  16245.02  16830.45  15852.69  16404.99  13409.524288   \n",
              "2017-12-15  16404.99  17934.00  16337.19  17471.50  18998.388137   \n",
              "2017-12-16  17477.98  19377.00  17269.99  19187.78   9761.220809   \n",
              "2017-12-17  19187.78  19666.00  18465.00  18953.00   9749.249155   \n",
              "2017-12-18  18953.00  19220.00  17835.20  18940.57  14678.941448   \n",
              "2017-12-19  18940.58  19160.79  16831.26  17700.00  21528.137665   \n",
              "2017-12-20  17700.00  17950.00  15343.04  16466.98  31172.228807   \n",
              "2017-12-21  16466.98  17281.17  15005.00  15600.01  20377.860439   \n",
              "2017-12-22  15600.00  15795.61  11159.93  14009.79  57444.885803   \n",
              "2017-12-23  13980.00  15756.22  13496.48  14619.00  21786.408664   \n",
              "2017-12-24  14619.00  14619.10  12488.00  14157.87  18519.489323   \n",
              "2017-12-25  14107.87  14650.00  13210.00  13911.28  11564.544333   \n",
              "2017-12-26  13925.50  16147.87  13746.95  15764.44  15051.164018   \n",
              "2017-12-27  15764.45  16480.52  14484.00  15364.93  15643.754882   \n",
              "2017-12-28  15390.05  15474.19  13500.00  14470.07  16557.217323   \n",
              "2017-12-29  14436.99  15111.00  13998.00  14340.00  13505.702992   \n",
              "2017-12-30  14351.00  14463.28  12050.00  12640.00  21749.674446   \n",
              "2017-12-31  12640.00  14296.06  12491.21  13880.00  11583.418647   \n",
              "\n",
              "            Volume (Currency)  Weighted Price  \n",
              "Date                                           \n",
              "2017-12-01       1.718818e+08    10287.373047  \n",
              "2017-12-02       1.012701e+08    10927.843358  \n",
              "2017-12-03       1.601763e+08    11249.499550  \n",
              "2017-12-04       1.541229e+08    11314.695288  \n",
              "2017-12-05       1.383701e+08    11652.183797  \n",
              "2017-12-06       2.505608e+08    12664.260424  \n",
              "2017-12-07       3.826940e+08    14840.190945  \n",
              "2017-12-08       3.893660e+08    15285.203654  \n",
              "2017-12-09       2.389091e+08    14402.981914  \n",
              "2017-12-10       2.631507e+08    14233.606090  \n",
              "2017-12-11       2.702038e+08    16293.316148  \n",
              "2017-12-12       2.278423e+08    16854.872561  \n",
              "2017-12-13       2.816405e+08    16434.926066  \n",
              "2017-12-14       2.192632e+08    16351.302832  \n",
              "2017-12-15       3.293370e+08    17334.997705  \n",
              "2017-12-16       1.799060e+08    18430.689989  \n",
              "2017-12-17       1.863105e+08    19110.244062  \n",
              "2017-12-18       2.735335e+08    18634.418590  \n",
              "2017-12-19       3.872062e+08    17986.053806  \n",
              "2017-12-20       5.213506e+08    16724.840365  \n",
              "2017-12-21       3.267307e+08    16033.611116  \n",
              "2017-12-22       7.721430e+08    13441.458014  \n",
              "2017-12-23       3.221206e+08    14785.392330  \n",
              "2017-12-24       2.504764e+08    13525.017849  \n",
              "2017-12-25       1.613474e+08    13951.899222  \n",
              "2017-12-26       2.309226e+08    15342.505662  \n",
              "2017-12-27       2.418610e+08    15460.545563  \n",
              "2017-12-28       2.344286e+08    14158.694300  \n",
              "2017-12-29       1.957276e+08    14492.221462  \n",
              "2017-12-30       2.859856e+08    13148.957748  \n",
              "2017-12-31       1.545526e+08    13342.576072  "
            ]
          },
          "metadata": {
            "tags": []
          },
          "execution_count": 138
        }
      ]
    },
    {
      "cell_type": "code",
      "metadata": {
        "id": "sIUBKOHaXetc",
        "colab_type": "code",
        "outputId": "56c24151-7da0-47ae-ad51-37d1ca4c55d2",
        "colab": {
          "base_uri": "https://localhost:8080/",
          "height": 429
        }
      },
      "source": [
        "# Plot graph. Set title, xlabel, ylabel and xlim\n",
        "type(data)\n",
        "ax = data['Close'].plot()\n",
        "ax.set_title('Title Here XXX')\n",
        "ax.set_xlabel('xlabel Here YYY')\n",
        "ax.set_ylabel('ylabel Here ZZZ')"
      ],
      "execution_count": 0,
      "outputs": [
        {
          "output_type": "execute_result",
          "data": {
            "text/plain": [
              "Text(0,0.5,u'ylabel Here ZZZ')"
            ]
          },
          "metadata": {
            "tags": []
          },
          "execution_count": 144
        },
        {
          "output_type": "display_data",
          "data": {
            "image/png": "[encoded data removed]",
            "text/plain": [
              "<matplotlib.figure.Figure at 0x7f8d87c39190>"
            ]
          },
          "metadata": {
            "tags": []
          }
        }
      ]
    },
    {
      "cell_type": "code",
      "metadata": {
        "id": "BFU3NSouXvMo",
        "colab_type": "code",
        "outputId": "37e8ac76-0150-4454-dca5-5f6b0e7cc52f",
        "colab": {
          "base_uri": "https://localhost:8080/",
          "height": 69
        }
      },
      "source": [
        "# Simple Linear Regression: scipy, stats, linregress\n",
        "from scipy import stats\n",
        "slope, intercept, rvalue, pvalue, stderr = stats.linregress(data['Volume (BTC)'],data['Close'])\n",
        "print(slope)\n",
        "print(stderr)\n",
        "print(slope/stderr)"
      ],
      "execution_count": 0,
      "outputs": [
        {
          "output_type": "stream",
          "text": [
            "0.003256020572302811\n",
            "0.04845960858779708\n",
            "0.06719040180449848\n"
          ],
          "name": "stdout"
        }
      ]
    }
  ]
}