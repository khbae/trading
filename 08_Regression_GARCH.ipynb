{
  "nbformat": 4,
  "nbformat_minor": 0,
  "metadata": {
    "colab": {
      "name": "08_Regression_GARCH.ipynb",
      "provenance": [],
      "collapsed_sections": [],
      "include_colab_link": true
    },
    "kernelspec": {
      "name": "python3",
      "display_name": "Python 3"
    }
  },
  "cells": [
    {
      "cell_type": "markdown",
      "metadata": {
        "id": "view-in-github",
        "colab_type": "text"
      },
      "source": [
        "<a href=\"https://colab.research.google.com/github/khbae/trading/blob/master/08_Regression_GARCH.ipynb\" target=\"_parent\"><img src=\"https://colab.research.google.com/assets/colab-badge.svg\" alt=\"Open In Colab\"/></a>"
      ]
    },
    {
      "cell_type": "markdown",
      "metadata": {
        "id": "6-FbMHIPC9_l",
        "colab_type": "text"
      },
      "source": [
        "# Regressions with GARCH residuals\n",
        "\n",
        "**Source**\n",
        "- https://stats.stackexchange.com/questions/93815/fit-a-garch-1-1-model-with-covariates-in-r <br>\n",
        "- http://www.rimini.unibo.it/fanelli/EViews_Lab.pdf\n",
        "- https://cran.r-project.org/web/packages/rugarch/rugarch.pdf\n",
        "<br><br>\n",
        "\n",
        "Volatility varies and clusters over time as it is likely to be high during financial crisis periods and is likely to be low for other periods. This pattern is called **volatility clustering**. Furthermore, volatility seems to react differently to a big price increase or a bif price drop, referred to as the **leverage effect**. \n",
        "\n",
        "![alt text](http://www.cboe.com/publish/micrositecharts/VIX_SP500_Index.jpg \"VIX and S&P500 Index\")\n",
        "<br><br>\n",
        "Assume the following regression model:\n",
        "\n",
        "$$y_{t}=\\text{intercept} + \\lambda_0 x_{t,0} + \\lambda_1 x_{t,1} + \\varepsilon_{t} $$\n",
        "\n",
        "$$ \\varepsilon_{t} = \\sigma_t Z_t $$\n",
        "\n",
        "$$ \\sigma_{t}^{2} = \\omega + \\alpha  \\varepsilon_{t-1}^{2} + \\beta \\sigma_{t-1}^{2} $$\n",
        "\n",
        "Note that $x_{t,1}$ and $x_{t,2}$ are external covariates (i.e. independent variables), and residuals ($\\varepsilon_{t}$) are modelled as **GARCH(1,1)**.  $Z_t$ be a white noise.\n",
        "\n",
        "We are going to randomly choose $x_{t,1}$, $x_{t,2}$ and $\\varepsilon_{t}$. Then create $y_t$ from the random samples."
      ]
    },
    {
      "cell_type": "code",
      "metadata": {
        "id": "Dkhc_A78eAPc",
        "colab_type": "code",
        "outputId": "97bd0c93-80d9-4bb2-a1de-e1cea3c573e9",
        "colab": {
          "base_uri": "https://localhost:8080/",
          "height": 289
        }
      },
      "source": [
        "!pip install Cython\n",
        "!pip install arch\n",
        "\n",
        "import pandas as pd\n",
        "import numpy as np\n",
        "import matplotlib.pyplot as plt\n",
        "from arch import arch_model\n",
        "import statsmodels.formula.api as sm"
      ],
      "execution_count": 0,
      "outputs": [
        {
          "output_type": "stream",
          "text": [
            "Requirement already satisfied: Cython in /usr/local/lib/python3.6/dist-packages\n",
            "Requirement already satisfied: arch in /usr/local/lib/python3.6/dist-packages\n",
            "Requirement already satisfied: statsmodels>=0.8 in /usr/local/lib/python3.6/dist-packages (from arch)\n",
            "Requirement already satisfied: matplotlib>=1.5 in /usr/local/lib/python3.6/dist-packages (from arch)\n",
            "Requirement already satisfied: scipy>=0.16 in /usr/local/lib/python3.6/dist-packages (from arch)\n",
            "Requirement already satisfied: pandas>=0.18 in /usr/local/lib/python3.6/dist-packages (from arch)\n",
            "Requirement already satisfied: Cython>=0.24 in /usr/local/lib/python3.6/dist-packages (from arch)\n",
            "Requirement already satisfied: patsy in /usr/local/lib/python3.6/dist-packages (from statsmodels>=0.8->arch)\n",
            "Requirement already satisfied: cycler>=0.10 in /usr/local/lib/python3.6/dist-packages (from matplotlib>=1.5->arch)\n",
            "Requirement already satisfied: pytz in /usr/local/lib/python3.6/dist-packages (from matplotlib>=1.5->arch)\n",
            "Requirement already satisfied: six>=1.10 in /usr/local/lib/python3.6/dist-packages (from matplotlib>=1.5->arch)\n",
            "Requirement already satisfied: numpy>=1.7.1 in /usr/local/lib/python3.6/dist-packages (from matplotlib>=1.5->arch)\n",
            "Requirement already satisfied: python-dateutil>=2.1 in /usr/local/lib/python3.6/dist-packages (from matplotlib>=1.5->arch)\n",
            "Requirement already satisfied: pyparsing!=2.0.4,!=2.1.2,!=2.1.6,>=2.0.1 in /usr/local/lib/python3.6/dist-packages (from matplotlib>=1.5->arch)\n"
          ],
          "name": "stdout"
        }
      ]
    },
    {
      "cell_type": "markdown",
      "metadata": {
        "id": "zUHoKYUZWqxu",
        "colab_type": "text"
      },
      "source": [
        "## Regression Model:\n",
        "\n",
        "$$y_{t}=\\text{intercept} + \\lambda_0 x_{t,0} + \\lambda_1 x_{t,1} + \\varepsilon_{t} $$\n",
        "\n",
        "$$ \\varepsilon_{t} = \\sigma_t Z_t $$\n",
        "\n",
        "$$ \\sigma_{t}^{2} = \\omega + \\alpha  \\varepsilon_{t-1}^{2} + \\beta \\sigma_{t-1}^{2} $$"
      ]
    },
    {
      "cell_type": "code",
      "metadata": {
        "id": "JCOPHNZ1fhAq",
        "colab_type": "code",
        "colab": {}
      },
      "source": [
        "# Parameter Setups\n",
        "T = 252*10 # about 10 years of trading days.\n",
        "\n",
        "intercept = 0.1\n",
        "lambda0 = 0.2\n",
        "lambda1 = 0.3\n",
        "\n",
        "omega = 0.4\n",
        "alpha1 = 0.5\n",
        "beta1 = 0.6"
      ],
      "execution_count": 0,
      "outputs": []
    },
    {
      "cell_type": "code",
      "metadata": {
        "id": "CsqnMjbPfxk0",
        "colab_type": "code",
        "outputId": "0572cbc4-343f-467f-95e8-e8ebd7cb0af0",
        "colab": {
          "base_uri": "https://localhost:8080/",
          "height": 365
        }
      },
      "source": [
        "## Create Exogenous Covariates;\n",
        "x0 = np.random.normal(2,1,T)\n",
        "x1 = np.random.normal(4,10,T)\n",
        "\n",
        "# Simulate Garch\n",
        "esp = np.zeros(T)\n",
        "sigma = np.zeros(T)\n",
        "zt = np.random.normal(0,1,T)\n",
        "\n",
        "for t in range(T):\n",
        "  sigma[t] = np.sqrt(omega + alpha1 * esp[t-1]**2 + beta1*sigma[t-1]**2)\n",
        "  esp[t] = sigma[t] * zt[t]\n",
        "\n",
        "ysim = intercept + lambda0 * x0 + lambda1 * x1 + esp\n",
        "plt.plot(ysim)"
      ],
      "execution_count": 0,
      "outputs": [
        {
          "output_type": "execute_result",
          "data": {
            "text/plain": [
              "[<matplotlib.lines.Line2D at 0x7f3b8da5d320>]"
            ]
          },
          "metadata": {
            "tags": []
          },
          "execution_count": 58
        },
        {
          "output_type": "display_data",
          "data": {
            "image/png": "[encoded data removed]",
            "text/plain": [
              "<matplotlib.figure.Figure at 0x7f3b8dbbdef0>"
            ]
          },
          "metadata": {
            "tags": []
          }
        }
      ]
    },
    {
      "cell_type": "code",
      "metadata": {
        "id": "M_2FXgK5hvq7",
        "colab_type": "code",
        "outputId": "c0f3f1e0-145a-44dc-c2a8-01170b48afa6",
        "colab": {
          "base_uri": "https://localhost:8080/",
          "height": 431
        }
      },
      "source": [
        "# Regression with GARCH\n",
        "regout = arch_model(y=ysim,x=np.c_[x0,x1],mean='LS',vol='Garch').fit()"
      ],
      "execution_count": 0,
      "outputs": [
        {
          "output_type": "stream",
          "text": [
            "Iteration:      1,   Func. Count:      8,   Neg. LLF: 8442.568976212999\n",
            "Iteration:      2,   Func. Count:     20,   Neg. LLF: 8438.93935961949\n",
            "Iteration:      3,   Func. Count:     30,   Neg. LLF: 8422.955813576109\n",
            "Iteration:      4,   Func. Count:     39,   Neg. LLF: 8366.06599990511\n",
            "Iteration:      5,   Func. Count:     48,   Neg. LLF: 8289.349343334952\n",
            "Iteration:      6,   Func. Count:     57,   Neg. LLF: 8260.5257483405\n",
            "Iteration:      7,   Func. Count:     67,   Neg. LLF: 8254.272220444234\n",
            "Iteration:      8,   Func. Count:     76,   Neg. LLF: 8156.343115015168\n",
            "Iteration:      9,   Func. Count:     85,   Neg. LLF: 8112.175329954554\n",
            "Iteration:     10,   Func. Count:     94,   Neg. LLF: 8101.795382618191\n",
            "Iteration:     11,   Func. Count:    102,   Neg. LLF: 8096.3755405760785\n",
            "Iteration:     12,   Func. Count:    110,   Neg. LLF: 8088.0426900156135\n",
            "Iteration:     13,   Func. Count:    118,   Neg. LLF: 8087.490975564113\n",
            "Iteration:     14,   Func. Count:    127,   Neg. LLF: 8087.421914032478\n",
            "Iteration:     15,   Func. Count:    135,   Neg. LLF: 8087.406545089667\n",
            "Iteration:     16,   Func. Count:    143,   Neg. LLF: 8087.405318848869\n",
            "Iteration:     17,   Func. Count:    151,   Neg. LLF: 8087.405259794373\n",
            "Iteration:     18,   Func. Count:    159,   Neg. LLF: 8087.405245570524\n",
            "Optimization terminated successfully.    (Exit mode 0)\n",
            "            Current function value: 8087.405251168961\n",
            "            Iterations: 18\n",
            "            Function evaluations: 160\n",
            "            Gradient evaluations: 18\n"
          ],
          "name": "stdout"
        }
      ]
    },
    {
      "cell_type": "code",
      "metadata": {
        "id": "HXIPKIQLjAIy",
        "colab_type": "code",
        "outputId": "56ab87a6-049b-432a-80db-6972e3fa27a4",
        "colab": {
          "base_uri": "https://localhost:8080/",
          "height": 503
        }
      },
      "source": [
        "print(regout.summary())"
      ],
      "execution_count": 0,
      "outputs": [
        {
          "output_type": "stream",
          "text": [
            "                     Least Squares - GARCH Model Results                      \n",
            "==============================================================================\n",
            "Dep. Variable:                      y   R-squared:                       0.040\n",
            "Mean Model:             Least Squares   Adj. R-squared:                  0.039\n",
            "Vol Model:                      GARCH   Log-Likelihood:               -8087.41\n",
            "Distribution:                  Normal   AIC:                           16186.8\n",
            "Method:            Maximum Likelihood   BIC:                           16221.8\n",
            "                                        No. Observations:                 2520\n",
            "Date:                Wed, Feb 21 2018   Df Residuals:                     2514\n",
            "Time:                        04:07:56   Df Model:                            6\n",
            "                                Mean Model                                \n",
            "==========================================================================\n",
            "                 coef    std err          t      P>|t|    95.0% Conf. Int.\n",
            "--------------------------------------------------------------------------\n",
            "Const          0.2431      0.122      1.991  4.649e-02 [3.774e-03,  0.482]\n",
            "x0             0.1780  5.858e-02      3.038  2.381e-03 [6.315e-02,  0.293]\n",
            "x1             0.3040  5.740e-03     52.958      0.000   [  0.293,  0.315]\n",
            "                            Volatility Model                            \n",
            "========================================================================\n",
            "                 coef    std err          t      P>|t|  95.0% Conf. Int.\n",
            "------------------------------------------------------------------------\n",
            "omega          0.4873      0.105      4.652  3.285e-06 [  0.282,  0.693]\n",
            "alpha[1]       0.3466  1.776e-02     19.512  8.764e-85 [  0.312,  0.381]\n",
            "beta[1]        0.6534  1.700e-02     38.442      0.000 [  0.620,  0.687]\n",
            "========================================================================\n",
            "\n",
            "Covariance estimator: robust\n"
          ],
          "name": "stdout"
        }
      ]
    },
    {
      "cell_type": "markdown",
      "metadata": {
        "id": "ClLDs-z2rwwq",
        "colab_type": "text"
      },
      "source": [
        "### A Mean Model (arch.mean)\n",
        "* Zero mean (ZeroMean) - useful if using residuals from a model estimated separately\n",
        "* Constant mean (Constant Mean) - common for most liquid financial assets\n",
        "* Exogenous regressors only (LS)\n",
        "* Autoregressive (ARX) with optional exogenous regressors\n",
        "* Heterogeneous (HARX) autoregression with optional exogenous regressors\n"
      ]
    },
    {
      "cell_type": "code",
      "metadata": {
        "id": "24x6D6ZMtSeT",
        "colab_type": "code",
        "outputId": "bd0be500-858b-4f4a-e6bd-c78752cd1c7b",
        "colab": {
          "base_uri": "https://localhost:8080/",
          "height": 505
        }
      },
      "source": [
        "## OLS regression\n",
        "dat2 = pd.DataFrame(data=np.c_[x0,x1,ysim],columns=['x0','x1','ysim'])\n",
        "dat2.head()\n",
        "olsreg = sm.ols(formula='ysim~x0+x1',data=dat2).fit()\n",
        "print(olsreg.summary())\n"
      ],
      "execution_count": 0,
      "outputs": [
        {
          "output_type": "stream",
          "text": [
            "                            OLS Regression Results                            \n",
            "==============================================================================\n",
            "Dep. Variable:                   ysim   R-squared:                       0.041\n",
            "Model:                            OLS   Adj. R-squared:                  0.040\n",
            "Method:                 Least Squares   F-statistic:                     53.55\n",
            "Date:                Wed, 21 Feb 2018   Prob (F-statistic):           1.67e-23\n",
            "Time:                        04:11:22   Log-Likelihood:                -10168.\n",
            "No. Observations:                2520   AIC:                         2.034e+04\n",
            "Df Residuals:                    2517   BIC:                         2.036e+04\n",
            "Df Model:                           2                                         \n",
            "Covariance Type:            nonrobust                                         \n",
            "==============================================================================\n",
            "                 coef    std err          t      P>|t|      [0.025      0.975]\n",
            "------------------------------------------------------------------------------\n",
            "Intercept      0.0019      0.626      0.003      0.998      -1.225       1.229\n",
            "x0             0.2352      0.277      0.848      0.397      -0.309       0.779\n",
            "x1             0.2783      0.027     10.251      0.000       0.225       0.331\n",
            "==============================================================================\n",
            "Omnibus:                      512.703   Durbin-Watson:                   1.992\n",
            "Prob(Omnibus):                  0.000   Jarque-Bera (JB):            16687.218\n",
            "Skew:                          -0.088   Prob(JB):                         0.00\n",
            "Kurtosis:                      15.605   Cond. No.                         26.9\n",
            "==============================================================================\n",
            "\n",
            "Warnings:\n",
            "[1] Standard Errors assume that the covariance matrix of the errors is correctly specified.\n"
          ],
          "name": "stdout"
        }
      ]
    },
    {
      "cell_type": "code",
      "metadata": {
        "id": "hZTI6Q2JuNHC",
        "colab_type": "code",
        "outputId": "d98f4999-5a81-4e51-9694-22f77045b0d5",
        "colab": {
          "base_uri": "https://localhost:8080/",
          "height": 505
        }
      },
      "source": [
        "## Newey-West method, cov_type='HAC', cov_kwds={'maxlags':10}\n",
        "dat2 = pd.DataFrame(data=np.c_[x0,x1,ysim],columns=['x0','x1','ysim'])\n",
        "dat2.head()\n",
        "nwreg = sm.ols(formula='ysim~x0+x1',data=dat2).fit(cov_type='HAC', cov_kwds={'maxlags':10})\n",
        "print(nwreg.summary())"
      ],
      "execution_count": 0,
      "outputs": [
        {
          "output_type": "stream",
          "text": [
            "                            OLS Regression Results                            \n",
            "==============================================================================\n",
            "Dep. Variable:                   ysim   R-squared:                       0.041\n",
            "Model:                            OLS   Adj. R-squared:                  0.040\n",
            "Method:                 Least Squares   F-statistic:                     79.03\n",
            "Date:                Wed, 21 Feb 2018   Prob (F-statistic):           5.16e-34\n",
            "Time:                        04:12:24   Log-Likelihood:                -10168.\n",
            "No. Observations:                2520   AIC:                         2.034e+04\n",
            "Df Residuals:                    2517   BIC:                         2.036e+04\n",
            "Df Model:                           2                                         \n",
            "Covariance Type:                  HAC                                         \n",
            "==============================================================================\n",
            "                 coef    std err          z      P>|z|      [0.025      0.975]\n",
            "------------------------------------------------------------------------------\n",
            "Intercept      0.0019      0.552      0.003      0.997      -1.080       1.084\n",
            "x0             0.2352      0.237      0.992      0.321      -0.229       0.700\n",
            "x1             0.2783      0.023     12.130      0.000       0.233       0.323\n",
            "==============================================================================\n",
            "Omnibus:                      512.703   Durbin-Watson:                   1.992\n",
            "Prob(Omnibus):                  0.000   Jarque-Bera (JB):            16687.218\n",
            "Skew:                          -0.088   Prob(JB):                         0.00\n",
            "Kurtosis:                      15.605   Cond. No.                         26.9\n",
            "==============================================================================\n",
            "\n",
            "Warnings:\n",
            "[1] Standard Errors are heteroscedasticity and autocorrelation robust (HAC) using 10 lags and without small sample correction\n"
          ],
          "name": "stdout"
        }
      ]
    }
  ]
}