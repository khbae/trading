{
  "nbformat": 4,
  "nbformat_minor": 0,
  "metadata": {
    "colab": {
      "name": "03_Quandl_Quantopian.ipynb",
      "provenance": [],
      "collapsed_sections": [],
      "include_colab_link": true
    },
    "kernelspec": {
      "name": "python3",
      "display_name": "Python 3"
    }
  },
  "cells": [
    {
      "cell_type": "markdown",
      "metadata": {
        "id": "view-in-github",
        "colab_type": "text"
      },
      "source": [
        "<a href=\"https://colab.research.google.com/github/khbae/trading/blob/master/03_Quandl_Quantopian.ipynb\" target=\"_parent\"><img src=\"https://colab.research.google.com/assets/colab-badge.svg\" alt=\"Open In Colab\"/></a>"
      ]
    },
    {
      "cell_type": "markdown",
      "metadata": {
        "id": "0H7q1dsuuV1c",
        "colab_type": "text"
      },
      "source": [
        "# Quandl\n",
        "\n",
        "**Quandl** is a platform for financial, economic, and alternative data that serves investment professionals.\n",
        "* https://en.wikipedia.org/wiki/Quandl\n",
        "* https://www.quandl.com/\n",
        "\n",
        "Get Financial Data Directly into Python\n",
        "* https://www.quandl.com/tools/python"
      ]
    },
    {
      "cell_type": "code",
      "metadata": {
        "id": "pM6hwUhV3Cko",
        "colab_type": "code",
        "outputId": "34772535-9f3e-413d-aeec-1d435bfee2f4",
        "colab": {
          "base_uri": "https://localhost:8080/",
          "height": 789
        }
      },
      "source": [
        "!pip install quandl\n",
        "import quandl\n",
        "mydata = quandl.get(\"FRED/GDP\")"
      ],
      "execution_count": 0,
      "outputs": [
        {
          "output_type": "stream",
          "text": [
            "Collecting quandl\n",
            "  Downloading Quandl-3.3.0-py2.py3-none-any.whl\n",
            "Requirement already satisfied: python-dateutil in /usr/local/lib/python3.6/dist-packages (from quandl)\n",
            "Requirement already satisfied: pyasn1 in /usr/local/lib/python3.6/dist-packages (from quandl)\n",
            "Requirement already satisfied: six in /usr/local/lib/python3.6/dist-packages (from quandl)\n",
            "Requirement already satisfied: requests>=2.7.0 in /usr/local/lib/python3.6/dist-packages (from quandl)\n",
            "Collecting pyOpenSSL (from quandl)\n",
            "  Downloading pyOpenSSL-17.5.0-py2.py3-none-any.whl (53kB)\n",
            "\u001b[K    100% |████████████████████████████████| 61kB 4.2MB/s \n",
            "\u001b[?25hCollecting inflection>=0.3.1 (from quandl)\n",
            "  Downloading inflection-0.3.1.tar.gz\n",
            "Requirement already satisfied: pandas>=0.14 in /usr/local/lib/python3.6/dist-packages (from quandl)\n",
            "Collecting more-itertools (from quandl)\n",
            "  Downloading more_itertools-4.1.0-py3-none-any.whl (47kB)\n",
            "\u001b[K    100% |████████████████████████████████| 51kB 4.1MB/s \n",
            "\u001b[?25hRequirement already satisfied: numpy>=1.8 in /usr/local/lib/python3.6/dist-packages (from quandl)\n",
            "Collecting ndg-httpsclient (from quandl)\n",
            "  Downloading ndg_httpsclient-0.4.4-py3-none-any.whl\n",
            "Requirement already satisfied: urllib3<1.23,>=1.21.1 in /usr/local/lib/python3.6/dist-packages (from requests>=2.7.0->quandl)\n",
            "Requirement already satisfied: chardet<3.1.0,>=3.0.2 in /usr/local/lib/python3.6/dist-packages (from requests>=2.7.0->quandl)\n",
            "Requirement already satisfied: idna<2.7,>=2.5 in /usr/local/lib/python3.6/dist-packages (from requests>=2.7.0->quandl)\n",
            "Requirement already satisfied: certifi>=2017.4.17 in /usr/local/lib/python3.6/dist-packages (from requests>=2.7.0->quandl)\n",
            "Collecting cryptography>=2.1.4 (from pyOpenSSL->quandl)\n",
            "  Downloading cryptography-2.1.4-cp36-cp36m-manylinux1_x86_64.whl (2.2MB)\n",
            "\u001b[K    100% |████████████████████████████████| 2.2MB 540kB/s \n",
            "\u001b[?25hRequirement already satisfied: pytz>=2011k in /usr/local/lib/python3.6/dist-packages (from pandas>=0.14->quandl)\n",
            "Collecting cffi>=1.7; platform_python_implementation != \"PyPy\" (from cryptography>=2.1.4->pyOpenSSL->quandl)\n",
            "  Downloading cffi-1.11.4-cp36-cp36m-manylinux1_x86_64.whl (420kB)\n",
            "\u001b[K    100% |████████████████████████████████| 430kB 2.4MB/s \n",
            "\u001b[?25hCollecting asn1crypto>=0.21.0 (from cryptography>=2.1.4->pyOpenSSL->quandl)\n",
            "  Downloading asn1crypto-0.24.0-py2.py3-none-any.whl (101kB)\n",
            "\u001b[K    100% |████████████████████████████████| 102kB 5.7MB/s \n",
            "\u001b[?25hCollecting pycparser (from cffi>=1.7; platform_python_implementation != \"PyPy\"->cryptography>=2.1.4->pyOpenSSL->quandl)\n",
            "  Downloading pycparser-2.18.tar.gz (245kB)\n",
            "\u001b[K    100% |████████████████████████████████| 256kB 3.0MB/s \n",
            "\u001b[?25hBuilding wheels for collected packages: inflection, pycparser\n",
            "  Running setup.py bdist_wheel for inflection ... \u001b[?25l-\b \bdone\n",
            "\u001b[?25h  Stored in directory: /content/.cache/pip/wheels/41/fa/e9/2995f4ab121e9f30f342fa2d43f0b27f851a0cb9f0d98d3b45\n",
            "  Running setup.py bdist_wheel for pycparser ... \u001b[?25l-\b \b\\\b \b|\b \bdone\n",
            "\u001b[?25h  Stored in directory: /content/.cache/pip/wheels/95/14/9a/5e7b9024459d2a6600aaa64e0ba485325aff7a9ac7489db1b6\n",
            "Successfully built inflection pycparser\n",
            "Installing collected packages: pycparser, cffi, asn1crypto, cryptography, pyOpenSSL, inflection, more-itertools, ndg-httpsclient, quandl\n",
            "Successfully installed asn1crypto-0.24.0 cffi-1.11.4 cryptography-2.1.4 inflection-0.3.1 more-itertools-4.1.0 ndg-httpsclient-0.4.4 pyOpenSSL-17.5.0 pycparser-2.18 quandl-3.3.0\n"
          ],
          "name": "stdout"
        }
      ]
    },
    {
      "cell_type": "code",
      "metadata": {
        "id": "d59b6_bC3t3e",
        "colab_type": "code",
        "outputId": "82a1506b-86a1-4067-eb23-5f9b9cac3ece",
        "colab": {
          "base_uri": "https://localhost:8080/",
          "height": 391
        }
      },
      "source": [
        "quandl.ApiConfig.api_key = \"BgaWESVz2q59r7avWTcT\" \n",
        "newdata = quandl.get([\"CHRIS/CBOE_VX7\",\"CHRIS/CBOE_VX8\"],start_date=\"2017-12-31\", end_date=\"2018-02-01\")\n",
        "newdata.head()"
      ],
      "execution_count": 0,
      "outputs": [
        {
          "output_type": "execute_result",
          "data": {
            "text/html": [
              "<div>\n",
              "<style scoped>\n",
              "    .dataframe tbody tr th:only-of-type {\n",
              "        vertical-align: middle;\n",
              "    }\n",
              "\n",
              "    .dataframe tbody tr th {\n",
              "        vertical-align: top;\n",
              "    }\n",
              "\n",
              "    .dataframe thead th {\n",
              "        text-align: right;\n",
              "    }\n",
              "</style>\n",
              "<table border=\"1\" class=\"dataframe\">\n",
              "  <thead>\n",
              "    <tr style=\"text-align: right;\">\n",
              "      <th></th>\n",
              "      <th>CHRIS/CBOE_VX7 - Open</th>\n",
              "      <th>CHRIS/CBOE_VX7 - High</th>\n",
              "      <th>CHRIS/CBOE_VX7 - Low</th>\n",
              "      <th>CHRIS/CBOE_VX7 - Close</th>\n",
              "      <th>CHRIS/CBOE_VX7 - Settle</th>\n",
              "      <th>CHRIS/CBOE_VX7 - Change</th>\n",
              "      <th>CHRIS/CBOE_VX7 - Total Volume</th>\n",
              "      <th>CHRIS/CBOE_VX7 - EFP</th>\n",
              "      <th>CHRIS/CBOE_VX7 - Prev. Day Open Interest</th>\n",
              "      <th>CHRIS/CBOE_VX8 - Open</th>\n",
              "      <th>CHRIS/CBOE_VX8 - High</th>\n",
              "      <th>CHRIS/CBOE_VX8 - Low</th>\n",
              "      <th>CHRIS/CBOE_VX8 - Close</th>\n",
              "      <th>CHRIS/CBOE_VX8 - Settle</th>\n",
              "      <th>CHRIS/CBOE_VX8 - Change</th>\n",
              "      <th>CHRIS/CBOE_VX8 - Total Volume</th>\n",
              "      <th>CHRIS/CBOE_VX8 - EFP</th>\n",
              "      <th>CHRIS/CBOE_VX8 - Prev. Day Open Interest</th>\n",
              "    </tr>\n",
              "    <tr>\n",
              "      <th>Trade Date</th>\n",
              "      <th></th>\n",
              "      <th></th>\n",
              "      <th></th>\n",
              "      <th></th>\n",
              "      <th></th>\n",
              "      <th></th>\n",
              "      <th></th>\n",
              "      <th></th>\n",
              "      <th></th>\n",
              "      <th></th>\n",
              "      <th></th>\n",
              "      <th></th>\n",
              "      <th></th>\n",
              "      <th></th>\n",
              "      <th></th>\n",
              "      <th></th>\n",
              "      <th></th>\n",
              "      <th></th>\n",
              "    </tr>\n",
              "  </thead>\n",
              "  <tbody>\n",
              "    <tr>\n",
              "      <th>2018-01-02</th>\n",
              "      <td>15.40</td>\n",
              "      <td>15.45</td>\n",
              "      <td>15.13</td>\n",
              "      <td>15.14</td>\n",
              "      <td>15.125</td>\n",
              "      <td>-0.30</td>\n",
              "      <td>2159.0</td>\n",
              "      <td>0.0</td>\n",
              "      <td>8727.0</td>\n",
              "      <td>15.80</td>\n",
              "      <td>15.80</td>\n",
              "      <td>15.55</td>\n",
              "      <td>15.59</td>\n",
              "      <td>15.575</td>\n",
              "      <td>-0.22</td>\n",
              "      <td>673.0</td>\n",
              "      <td>0.0</td>\n",
              "      <td>3093.0</td>\n",
              "    </tr>\n",
              "    <tr>\n",
              "      <th>2018-01-03</th>\n",
              "      <td>15.10</td>\n",
              "      <td>15.13</td>\n",
              "      <td>14.90</td>\n",
              "      <td>14.95</td>\n",
              "      <td>14.925</td>\n",
              "      <td>-0.20</td>\n",
              "      <td>2938.0</td>\n",
              "      <td>0.0</td>\n",
              "      <td>9685.0</td>\n",
              "      <td>15.55</td>\n",
              "      <td>15.55</td>\n",
              "      <td>15.34</td>\n",
              "      <td>15.37</td>\n",
              "      <td>15.350</td>\n",
              "      <td>-0.22</td>\n",
              "      <td>726.0</td>\n",
              "      <td>0.0</td>\n",
              "      <td>3393.0</td>\n",
              "    </tr>\n",
              "    <tr>\n",
              "      <th>2018-01-04</th>\n",
              "      <td>14.95</td>\n",
              "      <td>15.05</td>\n",
              "      <td>14.81</td>\n",
              "      <td>14.98</td>\n",
              "      <td>14.975</td>\n",
              "      <td>0.05</td>\n",
              "      <td>2137.0</td>\n",
              "      <td>0.0</td>\n",
              "      <td>10283.0</td>\n",
              "      <td>15.40</td>\n",
              "      <td>15.44</td>\n",
              "      <td>15.26</td>\n",
              "      <td>15.40</td>\n",
              "      <td>15.375</td>\n",
              "      <td>0.02</td>\n",
              "      <td>905.0</td>\n",
              "      <td>0.0</td>\n",
              "      <td>3817.0</td>\n",
              "    </tr>\n",
              "    <tr>\n",
              "      <th>2018-01-05</th>\n",
              "      <td>15.01</td>\n",
              "      <td>15.03</td>\n",
              "      <td>14.80</td>\n",
              "      <td>14.80</td>\n",
              "      <td>14.825</td>\n",
              "      <td>-0.15</td>\n",
              "      <td>2836.0</td>\n",
              "      <td>0.0</td>\n",
              "      <td>11149.0</td>\n",
              "      <td>15.40</td>\n",
              "      <td>15.45</td>\n",
              "      <td>15.21</td>\n",
              "      <td>15.23</td>\n",
              "      <td>15.225</td>\n",
              "      <td>-0.15</td>\n",
              "      <td>929.0</td>\n",
              "      <td>0.0</td>\n",
              "      <td>4302.0</td>\n",
              "    </tr>\n",
              "    <tr>\n",
              "      <th>2018-01-08</th>\n",
              "      <td>14.65</td>\n",
              "      <td>14.87</td>\n",
              "      <td>14.65</td>\n",
              "      <td>14.83</td>\n",
              "      <td>14.825</td>\n",
              "      <td>0.00</td>\n",
              "      <td>1923.0</td>\n",
              "      <td>0.0</td>\n",
              "      <td>11676.0</td>\n",
              "      <td>15.20</td>\n",
              "      <td>15.25</td>\n",
              "      <td>15.10</td>\n",
              "      <td>15.19</td>\n",
              "      <td>15.200</td>\n",
              "      <td>-0.02</td>\n",
              "      <td>785.0</td>\n",
              "      <td>0.0</td>\n",
              "      <td>4661.0</td>\n",
              "    </tr>\n",
              "  </tbody>\n",
              "</table>\n",
              "</div>"
            ],
            "text/plain": [
              "            CHRIS/CBOE_VX7 - Open  CHRIS/CBOE_VX7 - High  \\\n",
              "Trade Date                                                 \n",
              "2018-01-02                  15.40                  15.45   \n",
              "2018-01-03                  15.10                  15.13   \n",
              "2018-01-04                  14.95                  15.05   \n",
              "2018-01-05                  15.01                  15.03   \n",
              "2018-01-08                  14.65                  14.87   \n",
              "\n",
              "            CHRIS/CBOE_VX7 - Low  CHRIS/CBOE_VX7 - Close  \\\n",
              "Trade Date                                                 \n",
              "2018-01-02                 15.13                   15.14   \n",
              "2018-01-03                 14.90                   14.95   \n",
              "2018-01-04                 14.81                   14.98   \n",
              "2018-01-05                 14.80                   14.80   \n",
              "2018-01-08                 14.65                   14.83   \n",
              "\n",
              "            CHRIS/CBOE_VX7 - Settle  CHRIS/CBOE_VX7 - Change  \\\n",
              "Trade Date                                                     \n",
              "2018-01-02                   15.125                    -0.30   \n",
              "2018-01-03                   14.925                    -0.20   \n",
              "2018-01-04                   14.975                     0.05   \n",
              "2018-01-05                   14.825                    -0.15   \n",
              "2018-01-08                   14.825                     0.00   \n",
              "\n",
              "            CHRIS/CBOE_VX7 - Total Volume  CHRIS/CBOE_VX7 - EFP  \\\n",
              "Trade Date                                                        \n",
              "2018-01-02                         2159.0                   0.0   \n",
              "2018-01-03                         2938.0                   0.0   \n",
              "2018-01-04                         2137.0                   0.0   \n",
              "2018-01-05                         2836.0                   0.0   \n",
              "2018-01-08                         1923.0                   0.0   \n",
              "\n",
              "            CHRIS/CBOE_VX7 - Prev. Day Open Interest  CHRIS/CBOE_VX8 - Open  \\\n",
              "Trade Date                                                                    \n",
              "2018-01-02                                    8727.0                  15.80   \n",
              "2018-01-03                                    9685.0                  15.55   \n",
              "2018-01-04                                   10283.0                  15.40   \n",
              "2018-01-05                                   11149.0                  15.40   \n",
              "2018-01-08                                   11676.0                  15.20   \n",
              "\n",
              "            CHRIS/CBOE_VX8 - High  CHRIS/CBOE_VX8 - Low  \\\n",
              "Trade Date                                                \n",
              "2018-01-02                  15.80                 15.55   \n",
              "2018-01-03                  15.55                 15.34   \n",
              "2018-01-04                  15.44                 15.26   \n",
              "2018-01-05                  15.45                 15.21   \n",
              "2018-01-08                  15.25                 15.10   \n",
              "\n",
              "            CHRIS/CBOE_VX8 - Close  CHRIS/CBOE_VX8 - Settle  \\\n",
              "Trade Date                                                    \n",
              "2018-01-02                   15.59                   15.575   \n",
              "2018-01-03                   15.37                   15.350   \n",
              "2018-01-04                   15.40                   15.375   \n",
              "2018-01-05                   15.23                   15.225   \n",
              "2018-01-08                   15.19                   15.200   \n",
              "\n",
              "            CHRIS/CBOE_VX8 - Change  CHRIS/CBOE_VX8 - Total Volume  \\\n",
              "Trade Date                                                           \n",
              "2018-01-02                    -0.22                          673.0   \n",
              "2018-01-03                    -0.22                          726.0   \n",
              "2018-01-04                     0.02                          905.0   \n",
              "2018-01-05                    -0.15                          929.0   \n",
              "2018-01-08                    -0.02                          785.0   \n",
              "\n",
              "            CHRIS/CBOE_VX8 - EFP  CHRIS/CBOE_VX8 - Prev. Day Open Interest  \n",
              "Trade Date                                                                  \n",
              "2018-01-02                   0.0                                    3093.0  \n",
              "2018-01-03                   0.0                                    3393.0  \n",
              "2018-01-04                   0.0                                    3817.0  \n",
              "2018-01-05                   0.0                                    4302.0  \n",
              "2018-01-08                   0.0                                    4661.0  "
            ]
          },
          "metadata": {
            "tags": []
          },
          "execution_count": 19
        }
      ]
    },
    {
      "cell_type": "code",
      "metadata": {
        "id": "s4LcwbB73Oz3",
        "colab_type": "code",
        "outputId": "56009bee-be9a-437f-ef7d-a855fcf9652a",
        "colab": {
          "base_uri": "https://localhost:8080/",
          "height": 379
        }
      },
      "source": [
        "mydata.plot()"
      ],
      "execution_count": 0,
      "outputs": [
        {
          "output_type": "execute_result",
          "data": {
            "text/plain": [
              "<matplotlib.axes._subplots.AxesSubplot at 0x7f591b43f390>"
            ]
          },
          "metadata": {
            "tags": []
          },
          "execution_count": 5
        },
        {
          "output_type": "display_data",
          "data": {
            "image/png": "[encoded data removed]",
            "text/plain": [
              "<matplotlib.figure.Figure at 0x7f591b43f0f0>"
            ]
          },
          "metadata": {
            "tags": []
          }
        }
      ]
    },
    {
      "cell_type": "code",
      "metadata": {
        "id": "iFmIJGgNufnM",
        "colab_type": "code",
        "outputId": "8ff4424a-eefb-42ba-edf2-f3cd272748dd",
        "colab": {
          "base_uri": "https://localhost:8080/",
          "height": 230
        }
      },
      "source": [
        "!pip install -q quandl # quandl 패키지를 인스톨 하는 코드.\n",
        "import quandl\n",
        "# qunadl.get(qunadl_data_code, periods, api_key) \n",
        "# quandl에서 데이터를 받는 코드는 데이터 코드, 기간, 회원가입시 발급받을 수 있는 개인 api_key로 이루어진다. [ https://www.quandl.com/ ]\n",
        "\n",
        "data = quandl.get(\"BCHARTS/BITSTAMPUSD\",start_date=\"2017-12-01\", end_date=\"2017-12-31\") # 이 데이터는 api_key가 필요없이 받아올 수 있다.\n",
        "data.head()"
      ],
      "execution_count": 0,
      "outputs": [
        {
          "output_type": "execute_result",
          "data": {
            "text/html": [
              "<div>\n",
              "<style scoped>\n",
              "    .dataframe tbody tr th:only-of-type {\n",
              "        vertical-align: middle;\n",
              "    }\n",
              "\n",
              "    .dataframe tbody tr th {\n",
              "        vertical-align: top;\n",
              "    }\n",
              "\n",
              "    .dataframe thead th {\n",
              "        text-align: right;\n",
              "    }\n",
              "</style>\n",
              "<table border=\"1\" class=\"dataframe\">\n",
              "  <thead>\n",
              "    <tr style=\"text-align: right;\">\n",
              "      <th></th>\n",
              "      <th>Open</th>\n",
              "      <th>High</th>\n",
              "      <th>Low</th>\n",
              "      <th>Close</th>\n",
              "      <th>Volume (BTC)</th>\n",
              "      <th>Volume (Currency)</th>\n",
              "      <th>Weighted Price</th>\n",
              "    </tr>\n",
              "    <tr>\n",
              "      <th>Date</th>\n",
              "      <th></th>\n",
              "      <th></th>\n",
              "      <th></th>\n",
              "      <th></th>\n",
              "      <th></th>\n",
              "      <th></th>\n",
              "      <th></th>\n",
              "    </tr>\n",
              "  </thead>\n",
              "  <tbody>\n",
              "    <tr>\n",
              "      <th>2017-12-01</th>\n",
              "      <td>9927.29</td>\n",
              "      <td>10949.89</td>\n",
              "      <td>9370.11</td>\n",
              "      <td>10840.45</td>\n",
              "      <td>16708.032248</td>\n",
              "      <td>1.718818e+08</td>\n",
              "      <td>10287.373047</td>\n",
              "    </tr>\n",
              "    <tr>\n",
              "      <th>2017-12-02</th>\n",
              "      <td>10840.45</td>\n",
              "      <td>11200.00</td>\n",
              "      <td>10637.69</td>\n",
              "      <td>10872.00</td>\n",
              "      <td>9267.161055</td>\n",
              "      <td>1.012701e+08</td>\n",
              "      <td>10927.843358</td>\n",
              "    </tr>\n",
              "    <tr>\n",
              "      <th>2017-12-03</th>\n",
              "      <td>10875.68</td>\n",
              "      <td>11800.01</td>\n",
              "      <td>10513.16</td>\n",
              "      <td>11250.00</td>\n",
              "      <td>14238.525877</td>\n",
              "      <td>1.601763e+08</td>\n",
              "      <td>11249.499550</td>\n",
              "    </tr>\n",
              "    <tr>\n",
              "      <th>2017-12-04</th>\n",
              "      <td>11250.00</td>\n",
              "      <td>11613.07</td>\n",
              "      <td>10850.00</td>\n",
              "      <td>11613.07</td>\n",
              "      <td>13621.481973</td>\n",
              "      <td>1.541229e+08</td>\n",
              "      <td>11314.695288</td>\n",
              "    </tr>\n",
              "    <tr>\n",
              "      <th>2017-12-05</th>\n",
              "      <td>11613.07</td>\n",
              "      <td>11850.00</td>\n",
              "      <td>11384.25</td>\n",
              "      <td>11677.00</td>\n",
              "      <td>11875.033777</td>\n",
              "      <td>1.383701e+08</td>\n",
              "      <td>11652.183797</td>\n",
              "    </tr>\n",
              "  </tbody>\n",
              "</table>\n",
              "</div>"
            ],
            "text/plain": [
              "                Open      High       Low     Close  Volume (BTC)  \\\n",
              "Date                                                               \n",
              "2017-12-01   9927.29  10949.89   9370.11  10840.45  16708.032248   \n",
              "2017-12-02  10840.45  11200.00  10637.69  10872.00   9267.161055   \n",
              "2017-12-03  10875.68  11800.01  10513.16  11250.00  14238.525877   \n",
              "2017-12-04  11250.00  11613.07  10850.00  11613.07  13621.481973   \n",
              "2017-12-05  11613.07  11850.00  11384.25  11677.00  11875.033777   \n",
              "\n",
              "            Volume (Currency)  Weighted Price  \n",
              "Date                                           \n",
              "2017-12-01       1.718818e+08    10287.373047  \n",
              "2017-12-02       1.012701e+08    10927.843358  \n",
              "2017-12-03       1.601763e+08    11249.499550  \n",
              "2017-12-04       1.541229e+08    11314.695288  \n",
              "2017-12-05       1.383701e+08    11652.183797  "
            ]
          },
          "metadata": {
            "tags": []
          },
          "execution_count": 1
        }
      ]
    },
    {
      "cell_type": "code",
      "metadata": {
        "id": "MG4u75igW4EQ",
        "colab_type": "code",
        "colab": {}
      },
      "source": [
        "VIX = quandl.get(\"CHRIS/CBOE_VX7\", start_date=\"2018-01-01\")"
      ],
      "execution_count": 0,
      "outputs": []
    },
    {
      "cell_type": "code",
      "metadata": {
        "id": "SWDFsoLtW6Ou",
        "colab_type": "code",
        "outputId": "a421c191-ef66-4ca1-de0a-3f3b79ae4e37",
        "colab": {
          "base_uri": "https://localhost:8080/",
          "height": 568
        }
      },
      "source": [
        "VIX['Close'].plot()\n",
        "VIX.tail()"
      ],
      "execution_count": 0,
      "outputs": [
        {
          "output_type": "execute_result",
          "data": {
            "text/html": [
              "<div>\n",
              "<style scoped>\n",
              "    .dataframe tbody tr th:only-of-type {\n",
              "        vertical-align: middle;\n",
              "    }\n",
              "\n",
              "    .dataframe tbody tr th {\n",
              "        vertical-align: top;\n",
              "    }\n",
              "\n",
              "    .dataframe thead th {\n",
              "        text-align: right;\n",
              "    }\n",
              "</style>\n",
              "<table border=\"1\" class=\"dataframe\">\n",
              "  <thead>\n",
              "    <tr style=\"text-align: right;\">\n",
              "      <th></th>\n",
              "      <th>Open</th>\n",
              "      <th>High</th>\n",
              "      <th>Low</th>\n",
              "      <th>Close</th>\n",
              "      <th>Settle</th>\n",
              "      <th>Change</th>\n",
              "      <th>Total Volume</th>\n",
              "      <th>EFP</th>\n",
              "      <th>Prev. Day Open Interest</th>\n",
              "    </tr>\n",
              "    <tr>\n",
              "      <th>Trade Date</th>\n",
              "      <th></th>\n",
              "      <th></th>\n",
              "      <th></th>\n",
              "      <th></th>\n",
              "      <th></th>\n",
              "      <th></th>\n",
              "      <th></th>\n",
              "      <th></th>\n",
              "      <th></th>\n",
              "    </tr>\n",
              "  </thead>\n",
              "  <tbody>\n",
              "    <tr>\n",
              "      <th>2018-01-30</th>\n",
              "      <td>15.65</td>\n",
              "      <td>15.99</td>\n",
              "      <td>15.58</td>\n",
              "      <td>15.72</td>\n",
              "      <td>15.725</td>\n",
              "      <td>0.15</td>\n",
              "      <td>5454.0</td>\n",
              "      <td>0.0</td>\n",
              "      <td>15239.0</td>\n",
              "    </tr>\n",
              "    <tr>\n",
              "      <th>2018-01-31</th>\n",
              "      <td>15.74</td>\n",
              "      <td>15.77</td>\n",
              "      <td>15.42</td>\n",
              "      <td>15.48</td>\n",
              "      <td>15.475</td>\n",
              "      <td>-0.25</td>\n",
              "      <td>3896.0</td>\n",
              "      <td>0.0</td>\n",
              "      <td>16062.0</td>\n",
              "    </tr>\n",
              "    <tr>\n",
              "      <th>2018-02-01</th>\n",
              "      <td>15.49</td>\n",
              "      <td>15.67</td>\n",
              "      <td>15.23</td>\n",
              "      <td>15.40</td>\n",
              "      <td>15.375</td>\n",
              "      <td>-0.10</td>\n",
              "      <td>3793.0</td>\n",
              "      <td>0.0</td>\n",
              "      <td>16498.0</td>\n",
              "    </tr>\n",
              "    <tr>\n",
              "      <th>2018-02-02</th>\n",
              "      <td>15.40</td>\n",
              "      <td>16.00</td>\n",
              "      <td>15.15</td>\n",
              "      <td>15.92</td>\n",
              "      <td>15.925</td>\n",
              "      <td>0.55</td>\n",
              "      <td>5409.0</td>\n",
              "      <td>0.0</td>\n",
              "      <td>17416.0</td>\n",
              "    </tr>\n",
              "    <tr>\n",
              "      <th>2018-02-05</th>\n",
              "      <td>16.10</td>\n",
              "      <td>23.00</td>\n",
              "      <td>15.68</td>\n",
              "      <td>22.85</td>\n",
              "      <td>20.425</td>\n",
              "      <td>4.50</td>\n",
              "      <td>10109.0</td>\n",
              "      <td>0.0</td>\n",
              "      <td>20151.0</td>\n",
              "    </tr>\n",
              "  </tbody>\n",
              "</table>\n",
              "</div>"
            ],
            "text/plain": [
              "             Open   High    Low  Close  Settle  Change  Total Volume  EFP  \\\n",
              "Trade Date                                                                  \n",
              "2018-01-30  15.65  15.99  15.58  15.72  15.725    0.15        5454.0  0.0   \n",
              "2018-01-31  15.74  15.77  15.42  15.48  15.475   -0.25        3896.0  0.0   \n",
              "2018-02-01  15.49  15.67  15.23  15.40  15.375   -0.10        3793.0  0.0   \n",
              "2018-02-02  15.40  16.00  15.15  15.92  15.925    0.55        5409.0  0.0   \n",
              "2018-02-05  16.10  23.00  15.68  22.85  20.425    4.50       10109.0  0.0   \n",
              "\n",
              "            Prev. Day Open Interest  \n",
              "Trade Date                           \n",
              "2018-01-30                  15239.0  \n",
              "2018-01-31                  16062.0  \n",
              "2018-02-01                  16498.0  \n",
              "2018-02-02                  17416.0  \n",
              "2018-02-05                  20151.0  "
            ]
          },
          "metadata": {
            "tags": []
          },
          "execution_count": 12
        },
        {
          "output_type": "display_data",
          "data": {
            "image/png": "[encoded data removed]",
            "text/plain": [
              "<matplotlib.figure.Figure at 0x7f2ec9aaba20>"
            ]
          },
          "metadata": {
            "tags": []
          }
        }
      ]
    },
    {
      "cell_type": "markdown",
      "metadata": {
        "id": "ho2qlVSQCdCh",
        "colab_type": "text"
      },
      "source": [
        "#Quantopian\n",
        "\n",
        "\"Quantopian is a Boston-based company that aims to create a crowd-sourced hedge fund by letting freelance quantitative analysts develop, test, and use trading algorithms to buy and sell securities.\"\n",
        "* https://en.wikipedia.org/wiki/Quantopian\n",
        "\n",
        "Quantopian은 Python을 활용하여 투자에 대한 알고리즘을 자유롭게 구성하고 이를 백테스팅할 수 있게 해주는 플랫폼임.\n",
        "\n",
        "회원 가입 후에 https://www.quantopian.com/algorithms 에서 API를 통한 시뮬레이션을 할 수 있음.\n"
      ]
    },
    {
      "cell_type": "markdown",
      "metadata": {
        "id": "QKImIlcrCh9q",
        "colab_type": "text"
      },
      "source": [
        "### Basic function\n",
        "* initialize()\n",
        "* handle_data()\n",
        "* sid()\n",
        "* data.current()\n",
        "* data.can_trade()\n",
        "* data.history()\n",
        "* schedule_function()\n",
        "    * date_rules.every_day()\n",
        "    * date_rules.week_start()\n",
        "    * date_rules.week_end()\n",
        "    * time_rules.market_open()\n",
        "    * time_rules.market_close()\n",
        "* order_target_percent()\n"
      ]
    },
    {
      "cell_type": "markdown",
      "metadata": {
        "id": "O58VOMxpHQ25",
        "colab_type": "text"
      },
      "source": [
        "Quatnropian에서 백테스팅을 진행하기 위해서는 두 개의 기본 함수\n",
        "* **initialize()**\n",
        "    * 알고리즘이 시작될 때 딱 한번 호출되는 함수. Input 변수로 **context**가 필요함.\n",
        "    * **context**는 백 테스트 또는 실시간 거래 중 상태를 유지하는 데 사용되는 하나의 글로벌 변수임.\n",
        "    * 이 과정은 어떤 로직을 구성하여 시뮬레이션을 돌릴지 초기 세팅을 함.\n",
        "* **handle_data()**\n",
        "    * 설정한 시뮬레이션 또는 실시간 거래 중에 분당 한번 호출하는 함수.\n",
        "    * 매 분당 한번 호출되는 작업 속에 어떤 주문을 할지 정하는 함수임\n",
        "    * 필요한 input 변수는 context와 data"
      ]
    },
    {
      "cell_type": "code",
      "metadata": {
        "id": "JSne9AsyCnpo",
        "colab_type": "code",
        "colab": {}
      },
      "source": [
        "# Run the code in Quantopian\n",
        "def initialize(context):\n",
        "    # 16851 = Amazon's Stockcode\n",
        "    context.amazon = sid(16841)\n",
        "\n",
        "def handle_data(context, data):\n",
        "    print(context.amazon)"
      ],
      "execution_count": 0,
      "outputs": []
    },
    {
      "cell_type": "code",
      "metadata": {
        "id": "ubiGZ54sLN2o",
        "colab_type": "code",
        "colab": {}
      },
      "source": [
        "2011-01-05 01:09  PRINT Equity(16841 [AMZN])\n",
        "2011-01-05 01:10  PRINT Equity(16841 [AMZN])\n",
        "2011-01-05 01:11  PRINT Equity(16841 [AMZN])\n",
        "2011-01-05 01:12  PRINT Equity(16841 [AMZN])\n",
        "2011-01-05 01:13  PRINT Equity(16841 [AMZN])\n",
        "2011-01-05 01:14  PRINT Equity(16841 [AMZN])\n",
        "2011-01-05 01:15  PRINT Equity(16841 [AMZN])"
      ],
      "execution_count": 0,
      "outputs": []
    },
    {
      "cell_type": "markdown",
      "metadata": {
        "id": "TQDBOv2hUS56",
        "colab_type": "text"
      },
      "source": [
        "**order_target_percent()**\n",
        "* 보유한 금액 내에서 Long / Short를 취하는 것을 의미함. \n",
        "* Long/Short할 종목과 거래 비중을 입력해야함."
      ]
    },
    {
      "cell_type": "code",
      "metadata": {
        "id": "9O6y7rq5UVe7",
        "colab_type": "code",
        "colab": {}
      },
      "source": [
        "# Run the code in Quantopian\n",
        "order_target_percent(sid(16841), 0.50) ## long position\n",
        "order_target_percent(sid(16841), -0.50) ## short position"
      ],
      "execution_count": 0,
      "outputs": []
    },
    {
      "cell_type": "code",
      "metadata": {
        "id": "0IoANlV3LgCK",
        "colab_type": "code",
        "colab": {}
      },
      "source": [
        "# Run the code in Quantopian\n",
        "def initialize(context):\n",
        "    context.amazon = sid(16841)\n",
        "\n",
        "def handle_data(context, data):\n",
        "    # Note: data.can_trade() is explained in the next lesson\n",
        "    if data.can_trade(context.amazon):\n",
        "        order_target_percent(context.amazon, 0.60)"
      ],
      "execution_count": 0,
      "outputs": []
    },
    {
      "cell_type": "markdown",
      "metadata": {
        "id": "DFeqqxa-oLmt",
        "colab_type": "text"
      },
      "source": [
        "![alt text](http://drive.google.com/uc?export=view&id=1UNvCGkC8bJ87bg6rMXa1O5Sfrv83hQzk)"
      ]
    },
    {
      "cell_type": "markdown",
      "metadata": {
        "id": "YIztOG5PYebz",
        "colab_type": "text"
      },
      "source": [
        "**data.current()**\n",
        "* 설정한 기간에서 주어진 종목들의 가장 최근 데이터를 얻는 함수. \n",
        "* 단일 종목 또는 복수의 종목들에 대해  'price', 'open', 'high', 'low', 'close', and 'volume'의 데이터를 추출할 수 있음."
      ]
    },
    {
      "cell_type": "code",
      "metadata": {
        "id": "E6GoGOCQbxiS",
        "colab_type": "code",
        "colab": {}
      },
      "source": [
        "# Run the code in Quantopian\n",
        "## sample 1\n",
        "def initialize(context):\n",
        "    context.amazon = [sid(16841)]\n",
        "\n",
        "def handle_data(context, data):\n",
        "       stock_data = data.current(context.amazon, 'price')\n",
        "       print(stock_data)"
      ],
      "execution_count": 0,
      "outputs": []
    },
    {
      "cell_type": "code",
      "metadata": {
        "id": "HJwyJd5-yjXZ",
        "colab_type": "code",
        "colab": {}
      },
      "source": [
        "2016-01-04 23:33  PRINT Equity(16841 [AMZN])    655.976\n",
        "Name: price, dtype: float64"
      ],
      "execution_count": 0,
      "outputs": []
    },
    {
      "cell_type": "code",
      "metadata": {
        "id": "ZG2L2jXr3v_G",
        "colab_type": "code",
        "colab": {}
      },
      "source": [
        "# Run the code in Quantopian\n",
        "## sample 2\n",
        "def initialize(context):\n",
        "    context.amazon = [sid(16841)]\n",
        "\n",
        "def handle_data(context, data):\n",
        "       stock_data = data.current(context.amazon, ['low', 'high'])\n",
        "       print(stock_data)"
      ],
      "execution_count": 0,
      "outputs": []
    },
    {
      "cell_type": "code",
      "metadata": {
        "id": "GYO0UACB3yJY",
        "colab_type": "code",
        "colab": {}
      },
      "source": [
        "2016-01-04 23:33  PRINT                         high      low\n",
        "Equity(16841 [AMZN])  657.35  654.394"
      ],
      "execution_count": 0,
      "outputs": []
    },
    {
      "cell_type": "markdown",
      "metadata": {
        "id": "p-lbb27kzoyk",
        "colab_type": "text"
      },
      "source": [
        "**data.can_trade()**\n",
        "* 해당 종목의 거래가능유무의 정보를 알려주는 함수.\n",
        "* 해당 시간에 지정한 종목이 거래가 가능하면 True 값을 출력."
      ]
    },
    {
      "cell_type": "code",
      "metadata": {
        "id": "SV0yMxGv0ceN",
        "colab_type": "code",
        "colab": {}
      },
      "source": [
        "# Run the code in Quantopian\n",
        "def initialize(context):\n",
        "    context.amazon = [sid(16841)]\n",
        "\n",
        "def handle_data(context, data):\n",
        "       stock_trade = data.can_trade(context.amazon)\n",
        "       print(stock_trade)"
      ],
      "execution_count": 0,
      "outputs": []
    },
    {
      "cell_type": "code",
      "metadata": {
        "id": "ltWIbAvi0f6N",
        "colab_type": "code",
        "colab": {}
      },
      "source": [
        "2016-01-04 23:31  PRINT Equity(16841 [AMZN])    True\n",
        "dtype: bool"
      ],
      "execution_count": 0,
      "outputs": []
    },
    {
      "cell_type": "markdown",
      "metadata": {
        "id": "Wzd9XAJL0kdR",
        "colab_type": "text"
      },
      "source": [
        "**data.history()**\n",
        "* 과거의 주가 데이터나 거래량 데이터 등의 정보를 알려주는 함수\n",
        "* 함수가 요구하는 인자의 순서는 종목코드, 원하는 데이터 종류, 기간, 기간의 단위 \n",
        "* 여기서 기간은 단순한 숫자로 구성이 되고, 기간의 단위는 '1d' (daily) 와 '1m'(minutely)로 구분됨.\n",
        "* 추출 가능한 데이터는 'price', 'open', 'high', 'low', 'close', 'volume' \n"
      ]
    },
    {
      "cell_type": "code",
      "metadata": {
        "id": "2kR09zoc3E_U",
        "colab_type": "code",
        "colab": {}
      },
      "source": [
        "# Run the code in Quantopian\n",
        "## sample 1\n",
        "## 최근 15일 동안 가격 데이터 추출\n",
        "def initialize(context):\n",
        "    context.amazon = [sid(16841)]\n",
        "\n",
        "def handle_data(context, data):\n",
        "       hist = data.history(sid(16841), 'price', 15, '1d')\n",
        "       print(hist)"
      ],
      "execution_count": 0,
      "outputs": []
    },
    {
      "cell_type": "code",
      "metadata": {
        "id": "7F9S_8nQ2DSg",
        "colab_type": "code",
        "colab": {}
      },
      "source": [
        "2016-01-04 23:31  PRINT 2015-12-11 00:00:00+00:00    640.06\n",
        "2015-12-14 00:00:00+00:00    657.89\n",
        "2015-12-15 00:00:00+00:00    658.63\n",
        "2015-12-16 00:00:00+00:00    675.76\n",
        "2015-12-17 00:00:00+00:00    670.86\n",
        "2015-12-18 00:00:00+00:00    664.13\n",
        "2015-12-21 00:00:00+00:00    664.51\n",
        "2015-12-22 00:00:00+00:00    663.15\n",
        "2015-12-23 00:00:00+00:00    663.70\n",
        "2015-12-24 00:00:00+00:00    662.81\n",
        "2015-12-28 00:00:00+00:00    675.21\n",
        "2015-12-29 00:00:00+00:00    693.97\n",
        "2015-12-30 00:00:00+00:00    689.12\n",
        "2015-12-31 00:00:00+00:00    676.34\n",
        "2016-01-04 00:00:00+00:00    655.90"
      ],
      "execution_count": 0,
      "outputs": []
    },
    {
      "cell_type": "code",
      "metadata": {
        "id": "5CxHHlXl38ef",
        "colab_type": "code",
        "colab": {}
      },
      "source": [
        "# Run the code in Quantopian\n",
        "## sample 2\n",
        "## 다수의 종목, 다수의 데이터를 5분 기준으로 추출\n",
        "def initialize(context):\n",
        "    context.list = [sid(24), sid(8554), sid(16841)]\n",
        "\n",
        "def handle_data(context, data):\n",
        "       hist = data.history(context.list, ['low', 'high'], 5, '1m')\n",
        "       print(hist)"
      ],
      "execution_count": 0,
      "outputs": []
    },
    {
      "cell_type": "code",
      "metadata": {
        "id": "aKNjhwr84p8P",
        "colab_type": "code",
        "colab": {}
      },
      "source": [
        "2016-01-04 23:31  PRINT <class 'pandas.core.panel.Panel'>\n",
        "Dimensions: 2 (items) x 5 (major_axis) x 3 (minor_axis)\n",
        "Items axis: high to low"
      ],
      "execution_count": 0,
      "outputs": []
    },
    {
      "cell_type": "markdown",
      "metadata": {
        "id": "LqW7glxV5GNy",
        "colab_type": "text"
      },
      "source": [
        "### Scheduling Functions"
      ]
    },
    {
      "cell_type": "markdown",
      "metadata": {
        "id": "Sy5GtTYj5LuX",
        "colab_type": "text"
      },
      "source": [
        "위에서 다루었던 **handle_data()** 는 매분마다 호출되는 함수여서 매주, 또는 매일 호출하도록 할 수가 없어 불편한 점이 있음. \n",
        "\n",
        "**schedule_function()** 함수는 임의의 시간에 임의의 텀으로 함수를 호출할 수 있도록 해주어 좀 더 세밀한 알고리즘 구성이 가능함.\n",
        "\n"
      ]
    },
    {
      "cell_type": "code",
      "metadata": {
        "id": "TGgNjiXyAOnj",
        "colab_type": "code",
        "colab": {}
      },
      "source": [
        "schedule_function(func = function_name,\n",
        "                  date_rules=date_rules.every_day(),\n",
        "                  time_rules=time_rules.market_open(hours=1))"
      ],
      "execution_count": 0,
      "outputs": []
    },
    {
      "cell_type": "markdown",
      "metadata": {
        "id": "zeguC0E8APzn",
        "colab_type": "text"
      },
      "source": [
        "위의 **schedule_function()** 함수는 새로운 함수를 만드는 함수임. **function_name** 에 새롭게 만들 함수이름을 설정하고, **date_rules** 를 통해 함수를 호출할 기간을 설정하고, **time_rules** 를 통해 구체적인 시간을 설정하여 함수를 호출하도록 할 수 있습니다. 위의 예시는 function_names() 라는 새로운 함수를 만든 후에, every_day()와 market_open(hours=1)을 통해 매일 / 장이 시작하고 1시간 후에 함수를 호출하도록 설정한 것 입니다.\n",
        "\n",
        "주별 / 장이 닫히기전 30분경에 함수를 호출하는 예시는 다음과 같습니다."
      ]
    },
    {
      "cell_type": "code",
      "metadata": {
        "id": "a6SmLSqNB-w1",
        "colab_type": "code",
        "colab": {}
      },
      "source": [
        "schedule_function(weekly_trades, date_rules.week_end(), time_rules.market_close(minutes=30))"
      ],
      "execution_count": 0,
      "outputs": []
    },
    {
      "cell_type": "markdown",
      "metadata": {
        "id": "au9t5ZsDDaNq",
        "colab_type": "text"
      },
      "source": [
        "지금까지 배운 함수들을 종합하여 매주 장이 열리는 첫날, 장시작호가로 아마존 주식을 보유 자산의 10%정도로 매수한 후에 주의 마지막 거래일 장마감 30분전에 매도하는 코드를 구성해보았습니다."
      ]
    },
    {
      "cell_type": "code",
      "metadata": {
        "id": "tqx9jqISDO9W",
        "colab_type": "code",
        "colab": {}
      },
      "source": [
        "def initialize(context):\n",
        "    context.amazon = sid(16841)\n",
        "\n",
        "    schedule_function(open_positions, date_rules.week_start(), time_rules.market_open())\n",
        "    schedule_function(close_positions, date_rules.week_end(), time_rules.market_close(minutes=30))\n",
        "\n",
        "def open_positions(context, data):\n",
        "    order_target_percent(context.amazon, 0.10)\n",
        "\n",
        "def close_positions(context, data):\n",
        "    order_target_percent(context.amazon, 0)"
      ],
      "execution_count": 0,
      "outputs": []
    },
    {
      "cell_type": "markdown",
      "metadata": {
        "id": "Or3IogvaWqFw",
        "colab_type": "text"
      },
      "source": [
        "![alt text](http://drive.google.com/uc?export=view&id=1_wVD1bQB4EmUmgaXYAqvhEualS7yg3Mf)"
      ]
    },
    {
      "cell_type": "markdown",
      "metadata": {
        "id": "UrNHsUNiazkP",
        "colab_type": "text"
      },
      "source": [
        "Use psychsignal.stocktwits to predict VIX"
      ]
    }
  ]
}