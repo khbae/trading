{
  "nbformat": 4,
  "nbformat_minor": 0,
  "metadata": {
    "colab": {
      "name": "13.Gradient descent.ipynb",
      "provenance": [],
      "collapsed_sections": [],
      "include_colab_link": true
    }
  },
  "cells": [
    {
      "cell_type": "markdown",
      "metadata": {
        "id": "view-in-github",
        "colab_type": "text"
      },
      "source": [
        "<a href=\"https://colab.research.google.com/github/khbae/trading/blob/master/13_Gradient_descent.ipynb\" target=\"_parent\"><img src=\"https://colab.research.google.com/assets/colab-badge.svg\" alt=\"Open In Colab\"/></a>"
      ]
    },
    {
      "cell_type": "markdown",
      "metadata": {
        "id": "InCFN3NFOctD",
        "colab_type": "text"
      },
      "source": [
        "#Gradient Descent : Linear Regression"
      ]
    },
    {
      "cell_type": "markdown",
      "metadata": {
        "id": "GP7bx_npQ3Nc",
        "colab_type": "text"
      },
      "source": [
        "### Basic Setting"
      ]
    },
    {
      "cell_type": "code",
      "metadata": {
        "id": "Cz3wBgAVObfO",
        "colab_type": "code",
        "outputId": "8886b27b-4e8a-4836-9f72-4410e7594170",
        "colab": {
          "base_uri": "https://localhost:8080/",
          "height": 557
        }
      },
      "source": [
        "# 기본 모듈 세팅\n",
        "\n",
        "!pip install pandas_datareader # 주식 데이터를 불러오는 패키지\n",
        "\n",
        "import pandas as pd\n",
        "import numpy as np\n",
        "import pandas_datareader.data as web\n",
        "import datetime\n",
        "import matplotlib.pyplot as plt\n",
        "import math"
      ],
      "execution_count": 0,
      "outputs": [
        {
          "output_type": "stream",
          "text": [
            "Collecting pandas_datareader\n",
            "\u001b[?25l  Downloading https://files.pythonhosted.org/packages/be/76/639c60ede26458dadf76bacaa9cbcc76f8cc5082fb2b2d90d0a90c699d36/pandas_datareader-0.6.0-py2.py3-none-any.whl (103kB)\n",
            "\u001b[K    100% |████████████████████████████████| 112kB 4.5MB/s \n",
            "\u001b[?25hCollecting wrapt (from pandas_datareader)\n",
            "  Downloading https://files.pythonhosted.org/packages/a0/47/66897906448185fcb77fc3c2b1bc20ed0ecca81a0f2f88eda3fc5a34fc3d/wrapt-1.10.11.tar.gz\n",
            "Requirement already satisfied: requests>=2.3.0 in /usr/local/lib/python2.7/dist-packages (from pandas_datareader) (2.18.4)\n",
            "Collecting lxml (from pandas_datareader)\n",
            "\u001b[?25l  Downloading https://files.pythonhosted.org/packages/57/38/25b2acd2a179cb1900a32ab2daeec2967e511192c9ce0763ce16cece6366/lxml-4.2.1-cp27-cp27mu-manylinux1_x86_64.whl (5.6MB)\n",
            "\u001b[K    100% |████████████████████████████████| 5.6MB 5.1MB/s \n",
            "\u001b[?25hRequirement already satisfied: pandas>=0.19.2 in /usr/local/lib/python2.7/dist-packages (from pandas_datareader) (0.22.0)\n",
            "Collecting requests-ftp (from pandas_datareader)\n",
            "  Downloading https://files.pythonhosted.org/packages/3d/ca/14b2ad1e93b5195eeaf56b86b7ecfd5ea2d5754a68d17aeb1e5b9f95b3cf/requests-ftp-0.3.1.tar.gz\n",
            "Collecting requests-file (from pandas_datareader)\n",
            "  Downloading https://files.pythonhosted.org/packages/23/9c/6e63c23c39e53d3df41c77a3d05a49a42c4e1383a6d2a5e3233161b89dbf/requests_file-1.4.3-py2.py3-none-any.whl\n",
            "Requirement already satisfied: idna<2.7,>=2.5 in /usr/local/lib/python2.7/dist-packages (from requests>=2.3.0->pandas_datareader) (2.6)\n",
            "Requirement already satisfied: urllib3<1.23,>=1.21.1 in /usr/local/lib/python2.7/dist-packages (from requests>=2.3.0->pandas_datareader) (1.22)\n",
            "Requirement already satisfied: certifi>=2017.4.17 in /usr/local/lib/python2.7/dist-packages (from requests>=2.3.0->pandas_datareader) (2018.4.16)\n",
            "Requirement already satisfied: chardet<3.1.0,>=3.0.2 in /usr/local/lib/python2.7/dist-packages (from requests>=2.3.0->pandas_datareader) (3.0.4)\n",
            "Requirement already satisfied: pytz>=2011k in /usr/local/lib/python2.7/dist-packages (from pandas>=0.19.2->pandas_datareader) (2018.4)\n",
            "Requirement already satisfied: python-dateutil in /usr/local/lib/python2.7/dist-packages (from pandas>=0.19.2->pandas_datareader) (2.5.3)\n",
            "Requirement already satisfied: numpy>=1.9.0 in /usr/local/lib/python2.7/dist-packages (from pandas>=0.19.2->pandas_datareader) (1.14.3)\n",
            "Requirement already satisfied: six in /usr/local/lib/python2.7/dist-packages (from requests-file->pandas_datareader) (1.11.0)\n",
            "Building wheels for collected packages: wrapt, requests-ftp\n",
            "  Running setup.py bdist_wheel for wrapt ... \u001b[?25l-\b \b\\\b \bdone\n",
            "\u001b[?25h  Stored in directory: /content/.cache/pip/wheels/48/5d/04/22361a593e70d23b1f7746d932802efe1f0e523376a74f321e\n",
            "  Running setup.py bdist_wheel for requests-ftp ... \u001b[?25l-\b \bdone\n",
            "\u001b[?25h  Stored in directory: /content/.cache/pip/wheels/2a/98/32/37195e45a3392a73d9f65c488cbea30fe5bad76aaef4d6b020\n",
            "Successfully built wrapt requests-ftp\n",
            "Installing collected packages: wrapt, lxml, requests-ftp, requests-file, pandas-datareader\n",
            "Successfully installed lxml-4.2.1 pandas-datareader-0.6.0 requests-file-1.4.3 requests-ftp-0.3.1 wrapt-1.10.11\n"
          ],
          "name": "stdout"
        }
      ]
    },
    {
      "cell_type": "code",
      "metadata": {
        "id": "hS2OzVCpoOL7",
        "colab_type": "code",
        "colab": {}
      },
      "source": [
        "aapl = pd.read_csv(\"https://www.dropbox.com/s/viyzvakacjnqe6t/AAPL.csv?dl=1\")\n",
        "goog = pd.read_csv(\"https://www.dropbox.com/s/o7b1803y7tst8hf/GOOG.csv?dl=1\")"
      ],
      "execution_count": 0,
      "outputs": []
    },
    {
      "cell_type": "code",
      "metadata": {
        "id": "nl8Ibk_56OM3",
        "colab_type": "code",
        "outputId": "5ab51e98-9094-4e7c-d952-cb030f45617a",
        "colab": {
          "base_uri": "https://localhost:8080/",
          "height": 202
        }
      },
      "source": [
        "aapl.head()"
      ],
      "execution_count": 0,
      "outputs": [
        {
          "output_type": "execute_result",
          "data": {
            "text/html": [
              "<div>\n",
              "<style scoped>\n",
              "    .dataframe tbody tr th:only-of-type {\n",
              "        vertical-align: middle;\n",
              "    }\n",
              "\n",
              "    .dataframe tbody tr th {\n",
              "        vertical-align: top;\n",
              "    }\n",
              "\n",
              "    .dataframe thead th {\n",
              "        text-align: right;\n",
              "    }\n",
              "</style>\n",
              "<table border=\"1\" class=\"dataframe\">\n",
              "  <thead>\n",
              "    <tr style=\"text-align: right;\">\n",
              "      <th></th>\n",
              "      <th>Date</th>\n",
              "      <th>Open</th>\n",
              "      <th>High</th>\n",
              "      <th>Low</th>\n",
              "      <th>Close</th>\n",
              "      <th>Adj Close</th>\n",
              "      <th>Volume</th>\n",
              "    </tr>\n",
              "  </thead>\n",
              "  <tbody>\n",
              "    <tr>\n",
              "      <th>0</th>\n",
              "      <td>2013-06-10</td>\n",
              "      <td>63.532856</td>\n",
              "      <td>64.154289</td>\n",
              "      <td>62.400002</td>\n",
              "      <td>62.698570</td>\n",
              "      <td>49.185345</td>\n",
              "      <td>112538300</td>\n",
              "    </tr>\n",
              "    <tr>\n",
              "      <th>1</th>\n",
              "      <td>2013-06-11</td>\n",
              "      <td>62.248573</td>\n",
              "      <td>63.251427</td>\n",
              "      <td>61.902859</td>\n",
              "      <td>62.514286</td>\n",
              "      <td>49.040783</td>\n",
              "      <td>71528100</td>\n",
              "    </tr>\n",
              "    <tr>\n",
              "      <th>2</th>\n",
              "      <td>2013-06-12</td>\n",
              "      <td>62.785713</td>\n",
              "      <td>63.035713</td>\n",
              "      <td>61.642857</td>\n",
              "      <td>61.741428</td>\n",
              "      <td>48.434486</td>\n",
              "      <td>66306800</td>\n",
              "    </tr>\n",
              "    <tr>\n",
              "      <th>3</th>\n",
              "      <td>2013-06-13</td>\n",
              "      <td>61.785713</td>\n",
              "      <td>62.448570</td>\n",
              "      <td>61.250000</td>\n",
              "      <td>62.279999</td>\n",
              "      <td>48.856991</td>\n",
              "      <td>71458100</td>\n",
              "    </tr>\n",
              "    <tr>\n",
              "      <th>4</th>\n",
              "      <td>2013-06-14</td>\n",
              "      <td>62.200001</td>\n",
              "      <td>62.327145</td>\n",
              "      <td>61.214287</td>\n",
              "      <td>61.435715</td>\n",
              "      <td>48.194675</td>\n",
              "      <td>67966500</td>\n",
              "    </tr>\n",
              "  </tbody>\n",
              "</table>\n",
              "</div>"
            ],
            "text/plain": [
              "         Date       Open       High        Low      Close  Adj Close  \\\n",
              "0  2013-06-10  63.532856  64.154289  62.400002  62.698570  49.185345   \n",
              "1  2013-06-11  62.248573  63.251427  61.902859  62.514286  49.040783   \n",
              "2  2013-06-12  62.785713  63.035713  61.642857  61.741428  48.434486   \n",
              "3  2013-06-13  61.785713  62.448570  61.250000  62.279999  48.856991   \n",
              "4  2013-06-14  62.200001  62.327145  61.214287  61.435715  48.194675   \n",
              "\n",
              "      Volume  \n",
              "0  112538300  \n",
              "1   71528100  \n",
              "2   66306800  \n",
              "3   71458100  \n",
              "4   67966500  "
            ]
          },
          "metadata": {
            "tags": []
          },
          "execution_count": 3
        }
      ]
    },
    {
      "cell_type": "code",
      "metadata": {
        "id": "3wqA23LM6O0n",
        "colab_type": "code",
        "outputId": "721ede2a-a37e-4291-e746-44d0ae1b7794",
        "colab": {
          "base_uri": "https://localhost:8080/",
          "height": 202
        }
      },
      "source": [
        "goog.head()"
      ],
      "execution_count": 0,
      "outputs": [
        {
          "output_type": "execute_result",
          "data": {
            "text/html": [
              "<div>\n",
              "<style scoped>\n",
              "    .dataframe tbody tr th:only-of-type {\n",
              "        vertical-align: middle;\n",
              "    }\n",
              "\n",
              "    .dataframe tbody tr th {\n",
              "        vertical-align: top;\n",
              "    }\n",
              "\n",
              "    .dataframe thead th {\n",
              "        text-align: right;\n",
              "    }\n",
              "</style>\n",
              "<table border=\"1\" class=\"dataframe\">\n",
              "  <thead>\n",
              "    <tr style=\"text-align: right;\">\n",
              "      <th></th>\n",
              "      <th>Date</th>\n",
              "      <th>Open</th>\n",
              "      <th>High</th>\n",
              "      <th>Low</th>\n",
              "      <th>Close</th>\n",
              "      <th>Adj Close</th>\n",
              "      <th>Volume</th>\n",
              "    </tr>\n",
              "  </thead>\n",
              "  <tbody>\n",
              "    <tr>\n",
              "      <th>0</th>\n",
              "      <td>2013-06-10</td>\n",
              "      <td>438.199921</td>\n",
              "      <td>442.621185</td>\n",
              "      <td>437.201416</td>\n",
              "      <td>442.233704</td>\n",
              "      <td>442.233704</td>\n",
              "      <td>4705900</td>\n",
              "    </tr>\n",
              "    <tr>\n",
              "      <th>1</th>\n",
              "      <td>2013-06-11</td>\n",
              "      <td>439.128876</td>\n",
              "      <td>440.634094</td>\n",
              "      <td>436.918274</td>\n",
              "      <td>437.062317</td>\n",
              "      <td>437.062317</td>\n",
              "      <td>3538000</td>\n",
              "    </tr>\n",
              "    <tr>\n",
              "      <th>2</th>\n",
              "      <td>2013-06-12</td>\n",
              "      <td>439.869080</td>\n",
              "      <td>440.137329</td>\n",
              "      <td>432.015167</td>\n",
              "      <td>433.172638</td>\n",
              "      <td>433.172638</td>\n",
              "      <td>4438300</td>\n",
              "    </tr>\n",
              "    <tr>\n",
              "      <th>3</th>\n",
              "      <td>2013-06-13</td>\n",
              "      <td>431.682312</td>\n",
              "      <td>436.987823</td>\n",
              "      <td>429.953552</td>\n",
              "      <td>435.666412</td>\n",
              "      <td>435.666412</td>\n",
              "      <td>4166600</td>\n",
              "    </tr>\n",
              "    <tr>\n",
              "      <th>4</th>\n",
              "      <td>2013-06-14</td>\n",
              "      <td>437.206390</td>\n",
              "      <td>439.491516</td>\n",
              "      <td>434.240692</td>\n",
              "      <td>434.692749</td>\n",
              "      <td>434.692749</td>\n",
              "      <td>4519100</td>\n",
              "    </tr>\n",
              "  </tbody>\n",
              "</table>\n",
              "</div>"
            ],
            "text/plain": [
              "         Date        Open        High         Low       Close   Adj Close  \\\n",
              "0  2013-06-10  438.199921  442.621185  437.201416  442.233704  442.233704   \n",
              "1  2013-06-11  439.128876  440.634094  436.918274  437.062317  437.062317   \n",
              "2  2013-06-12  439.869080  440.137329  432.015167  433.172638  433.172638   \n",
              "3  2013-06-13  431.682312  436.987823  429.953552  435.666412  435.666412   \n",
              "4  2013-06-14  437.206390  439.491516  434.240692  434.692749  434.692749   \n",
              "\n",
              "    Volume  \n",
              "0  4705900  \n",
              "1  3538000  \n",
              "2  4438300  \n",
              "3  4166600  \n",
              "4  4519100  "
            ]
          },
          "metadata": {
            "tags": []
          },
          "execution_count": 4
        }
      ]
    },
    {
      "cell_type": "markdown",
      "metadata": {
        "id": "FVuFyhkGQ7gn",
        "colab_type": "text"
      },
      "source": [
        "### Plotting"
      ]
    },
    {
      "cell_type": "code",
      "metadata": {
        "id": "pbkxFStlQbSv",
        "colab_type": "code",
        "outputId": "659cc842-ba5b-450c-d320-a5addb9a5dbc",
        "colab": {
          "base_uri": "https://localhost:8080/",
          "height": 379
        }
      },
      "source": [
        "plt.scatter(np.log(aapl[\"Close\"]), np.log(goog[\"Close\"]))\n",
        "plt.xlabel('Price of AAPL')\n",
        "plt.ylabel('Pricc of GOOG')\n",
        "plt.show"
      ],
      "execution_count": 0,
      "outputs": [
        {
          "output_type": "execute_result",
          "data": {
            "text/plain": [
              "<function matplotlib.pyplot.show>"
            ]
          },
          "metadata": {
            "tags": []
          },
          "execution_count": 5
        },
        {
          "output_type": "display_data",
          "data": {
            "image/png": "[encoded data removed]",
            "text/plain": [
              "<matplotlib.figure.Figure at 0x7f2dac794850>"
            ]
          },
          "metadata": {
            "tags": []
          }
        }
      ]
    },
    {
      "cell_type": "markdown",
      "metadata": {
        "id": "xFjF8vAs-H_-",
        "colab_type": "text"
      },
      "source": [
        "\n",
        "\n",
        "선형 회귀의 개념은 표적 또는 종속 변수(y)와 일련의 설명적 변수(x1, x2…)사이의 관계를 찾는 것이다. \n",
        "\n",
        "이렇게 유추한 변수들간의 관계는 다른 값을 예측하는 데 사용할 수 있다.\n",
        "\n",
        "위 plot은 SK하이닉스와 LG전자의 가격의 분포를 나타낸 산점도이다.\n",
        "\n",
        "이처럼 변수가 하나인 경우 이 관계는 베타 파라미터β로 정의되는 라인이며 y=β0+βx1형식이며, 여기서β0은 절편값을 의미한다. \n",
        "\n",
        "이는 방정식을 벡터 형태로 확장하여 다 변수 회귀로 확장 할 수 있다 : y = Xβ \n",
        "\n",
        "회귀선은 아래의 plot과 같이 다양한 case로 구현이 가능하다. 그렇다면 어떻게 해야 최적화된 회귀선을 찾을 수 있는가?"
      ]
    },
    {
      "cell_type": "code",
      "metadata": {
        "id": "4f8e5q3QOJFS",
        "colab_type": "code",
        "outputId": "14970927-b313-44bf-cff5-7350aaf7acef",
        "colab": {
          "base_uri": "https://localhost:8080/",
          "height": 379
        }
      },
      "source": [
        "plt.plot(np.log(aapl[\"Close\"]), np.log(goog[\"Close\"]), \"k.\")\n",
        "plt.plot([1.73, 1.76], [1.58,1.64], '-')\n",
        "plt.plot([1.72, 1.78], [1.58,1.62], '-')\n",
        "plt.plot([1.73, 1.75], [1.59,1.66], '-')\n",
        "plt.xlabel('Price of LG_E')\n",
        "plt.ylabel('Pricc of SK_H')"
      ],
      "execution_count": 0,
      "outputs": [
        {
          "output_type": "execute_result",
          "data": {
            "text/plain": [
              "Text(0,0.5,u'Pricc of SK_H')"
            ]
          },
          "metadata": {
            "tags": []
          },
          "execution_count": 7
        },
        {
          "output_type": "display_data",
          "data": {
            "image/png": "[encoded data removed]",
            "text/plain": [
              "<matplotlib.figure.Figure at 0x7f2daa215d50>"
            ]
          },
          "metadata": {
            "tags": []
          }
        }
      ]
    },
    {
      "cell_type": "markdown",
      "metadata": {
        "id": "xjHdmxcuCr1b",
        "colab_type": "text"
      },
      "source": [
        "### Cost Function"
      ]
    },
    {
      "cell_type": "markdown",
      "metadata": {
        "id": "R8O7QpwDCedP",
        "colab_type": "text"
      },
      "source": [
        "데이터를 모델링 하기 위한 최상의 라인을 만들기 위해서는 예측 값을 가능한 실제 값에 근접하게 할 수 있는 베타값을 선택해야 한다. \n",
        "\n",
        "이는 곧 가설 h(x)와 y사이의 거리나 잔차들을 최소화시켜야 한다는 것을 의미한다.\n",
        "\n",
        "이에 본 수업은 cost function을 ordinary least squares(OLS)로 정의하여 사용하는데, 이는 간단한 최소제곱의 합을 의미한다.\n",
        "\n",
        "선형 회귀선을 찾기 위해, 베타값을 조정시켜 이를 최소화 시킨다. 이를 위한 식은 아래와 같다.\n",
        "\n",
        "$$J(\\beta) = \\frac{1}{2m}\\sum_{i=1}^m(h_\\beta(x^{(i)})-y^{(i)})^2$$\n",
        "\n",
        "우리가 입증하고자 하는 가설은 아래의 선형 모델을 따르고,\n",
        "\n",
        "$$h_\\beta(x) = \\beta^{T}x = \\beta_0 + \\beta_1x_1$$\n",
        "\n",
        "**Gradient descent**를 통해 반복적 업데이트를 시행함으로써 최적의 모델을 찾아낼 수 있다.\n",
        "\n",
        "$$\\beta_j := \\beta_j - \\alpha\\frac{1}{m}\\sum_{i=1}^m (h_\\beta(x^{(i)})-y^{(i)})x_{j}^{(i)}$$"
      ]
    },
    {
      "cell_type": "markdown",
      "metadata": {
        "id": "aOVq0cScHNAz",
        "colab_type": "text"
      },
      "source": [
        "### Gradient Descent"
      ]
    },
    {
      "cell_type": "markdown",
      "metadata": {
        "id": "h0S6D5HfHXGM",
        "colab_type": "text"
      },
      "source": [
        "**Gradient descent**는 함수를 따라 작은 스텝을 만들어 로컬 최소값을 찾는 알고리즘이다.\n",
        "\n",
        "\n",
        "**Gradient descent**는 간단한 2차 방정식을 통해 그 형식을 볼 수 있다."
      ]
    },
    {
      "cell_type": "code",
      "metadata": {
        "id": "h7td236xQktY",
        "colab_type": "code",
        "outputId": "b7ca6cf9-5073-446c-95d0-44074d77ef64",
        "colab": {
          "base_uri": "https://localhost:8080/",
          "height": 475
        }
      },
      "source": [
        "x_quad = [n/10 for n in range(0, 100)]\n",
        "y_quad = [(n-4)**2+5 for n in x_quad]\n",
        "\n",
        "\n",
        "plt.figure(figsize = (10,7))\n",
        "plt.plot(x_quad, y_quad, 'k--')\n",
        "plt.axis([0,10,0,30])\n",
        "plt.plot([1, 2, 3], [14, 9, 6], 'ro')\n",
        "plt.plot([5, 7, 8],[6, 14, 21], 'bo')\n",
        "plt.plot(4, 5, 'ko')\n",
        "plt.xlabel('x')\n",
        "plt.ylabel('f(x)')\n",
        "plt.title('Quadratic Equation')"
      ],
      "execution_count": 0,
      "outputs": [
        {
          "output_type": "execute_result",
          "data": {
            "text/plain": [
              "Text(0.5,1,u'Quadratic Equation')"
            ]
          },
          "metadata": {
            "tags": []
          },
          "execution_count": 8
        },
        {
          "output_type": "display_data",
          "data": {
            "image/png": "[encoded data removed]",
            "text/plain": [
              "<matplotlib.figure.Figure at 0x7f2daa1c6a50>"
            ]
          },
          "metadata": {
            "tags": []
          }
        }
      ]
    },
    {
      "cell_type": "markdown",
      "metadata": {
        "id": "TbTGcAeNQk38",
        "colab_type": "text"
      },
      "source": [
        "\n",
        "이 함수에서 로컬 최소값을 찾기 위해 x=2의 첫번째 빨간 점에서 시작하면 **gradient**를 찾을 수 있다.\n",
        "\n",
        "이 경우 **gradient**는 기울기를 의미하며, x=2에서 찾은 기울기의 값이 음수이기 때문에 \n",
        "\n",
        "다음 포인트를 오른쪽 값으로 잡으면 기울기의 최소값에 더 가까이 도달할 수 있다.\n",
        "\n",
        "마찬가지로 x=8의 지점에서 시작하면 **gradient**, 즉 기울기 값이 양수이므로 다음 포인트를 왼쪽으로 옮기게 되고, \n",
        "\n",
        "이러한 작업들을 계속해서 반복함을 통해 매개 변수가 우리가 찾고있는 최소값으로 수렴 할 때까지 **gradient**값을 0에 최대한 도달하도록 할 수 있다.\n",
        "\n",
        "이러한 작업들은 실제로 매개 변수 베타를 계속 업데이트하여 점점 더 최소화시키고 있다.\n",
        "\n",
        "$$\\beta_j := \\beta_j - \\alpha\\frac{\\partial}{\\partial \\beta_j} J(\\beta)$$\n",
        "\n",
        "이 식에서 α는 학습 속도를 의미하고, 식을 통해 베타값에 대한 partial differentiation을 볼 수 있다.\n",
        "\n",
        "이러한 방식을 **“batch\" gradient descent**라고 부르는데, 이는 우리는 점 X의 batch를 통해 각 **gradient**를 한점에 한번씩 산출해내기 때문이다."
      ]
    },
    {
      "cell_type": "markdown",
      "metadata": {
        "id": "oaqHfJiVMa_C",
        "colab_type": "text"
      },
      "source": [
        "### Sample in Python"
      ]
    },
    {
      "cell_type": "markdown",
      "metadata": {
        "id": "tzSysI8aMSYS",
        "colab_type": "text"
      },
      "source": [
        "파이썬으로 실습을 하기 위해 먼저 매개 변수를 선언한다. 알파는 학습률이며, iterations는 반복을 통해 업데이트를 수행 할 횟수를 의미한다.\n",
        "\n",
        "이러한 작업 이후 데이터를 보관하는 데이터 프레임을 간단한 행렬 연산을 위해 배열로 변환해야한다. \n",
        "\n",
        "그리고 앞서 설명해준 비용 함수를 계산하는 함수를 작성하면 된다. \n"
      ]
    },
    {
      "cell_type": "code",
      "metadata": {
        "id": "_utXfFs7NM39",
        "colab_type": "code",
        "colab": {}
      },
      "source": [
        "iterations = 1500\n",
        "alpha = 0.01\n",
        "\n",
        "\n",
        "X_df = pd.DataFrame(np.log(aapl[\"Close\"]))\n",
        "y_df = pd.DataFrame(np.log(goog[\"Close\"]))\n",
        "\n",
        "## 데이터 프레임에 절편값의 칼럼을 추가해준다.\n",
        "X_df['intercept'] = 1\n",
        "\n",
        "## Dataframe을 행렬연산을 위해 array로 변환한다.\n",
        "## 베타값의 시작은 (0,0)으로 잡는다.\n",
        "X = np.array(X_df)\n",
        "y = np.array(y_df).flatten()\n",
        "beta = np.array([0, 0])"
      ],
      "execution_count": 0,
      "outputs": []
    },
    {
      "cell_type": "code",
      "metadata": {
        "id": "TfIRcxlnQy7A",
        "colab_type": "code",
        "colab": {}
      },
      "source": [
        "def cost_function(X, y, beta):\n",
        "    m = len(y)   # 훈련시킬 횟수\n",
        "    J = np.sum((X.dot(beta)-y)**2)/2/m\n",
        "    return(J)"
      ],
      "execution_count": 0,
      "outputs": []
    },
    {
      "cell_type": "code",
      "metadata": {
        "id": "aZrEMUUOQ72m",
        "colab_type": "code",
        "outputId": "b54aaf65-cb0a-466e-b4b8-4bee2e287cf0",
        "colab": {
          "base_uri": "https://localhost:8080/",
          "height": 35
        }
      },
      "source": [
        "cost_function(X, y, beta)"
      ],
      "execution_count": 0,
      "outputs": [
        {
          "output_type": "execute_result",
          "data": {
            "text/plain": [
              "0.34326501022793454"
            ]
          },
          "metadata": {
            "tags": []
          },
          "execution_count": 24
        }
      ]
    },
    {
      "cell_type": "markdown",
      "metadata": {
        "id": "fhxD4IGESdmG",
        "colab_type": "text"
      },
      "source": [
        "이제 **gradient descent algorithm**을 단계별로 나누어 어떤 과정들이 이루어지는지 확인한다.\n",
        "\n",
        "1. Calculate hypothesis hβ(x)\n",
        "2. Calculate loss (hβ(x)−y)\n",
        "3. Calculate gradient (hβ(x)−y)xj\n",
        "4. Update parameter beta\n",
        "5. And find the cost by using cost_function()"
      ]
    },
    {
      "cell_type": "code",
      "metadata": {
        "id": "o4Pcc8QHTnPR",
        "colab_type": "code",
        "colab": {}
      },
      "source": [
        "def gradient_descent(X, y, beta, alpha, iterations):\n",
        " \n",
        "    cost_history = [0] * iterations\n",
        "    m = len(y)\n",
        "    \n",
        "    for iteration in range(iterations):\n",
        "        hypothesis = X.dot(beta)\n",
        "        loss = hypothesis - y\n",
        "        gradient = X.T.dot(loss)/m\n",
        "        beta = beta - alpha*gradient\n",
        "        cost = cost_function(X, y, beta)\n",
        "        cost_history[iteration] = cost\n",
        "    return(beta, cost_history)"
      ],
      "execution_count": 0,
      "outputs": []
    },
    {
      "cell_type": "code",
      "metadata": {
        "id": "EwOnCLGLTpyY",
        "colab_type": "code",
        "colab": {}
      },
      "source": [
        "(t, c) = gradient_descent(X, y, [1, 1], 0.01, 1000)"
      ],
      "execution_count": 0,
      "outputs": []
    },
    {
      "cell_type": "code",
      "metadata": {
        "id": "kjBEAboDTqwF",
        "colab_type": "code",
        "outputId": "9aa83955-ad58-4646-9d24-b6b3eb4c4159",
        "colab": {
          "base_uri": "https://localhost:8080/",
          "height": 35
        }
      },
      "source": [
        "print(t)"
      ],
      "execution_count": 0,
      "outputs": [
        {
          "output_type": "stream",
          "text": [
            "[1.15069609 1.09492541]\n"
          ],
          "name": "stdout"
        }
      ]
    },
    {
      "cell_type": "code",
      "metadata": {
        "id": "uhxgd7npTvQJ",
        "colab_type": "code",
        "colab": {}
      },
      "source": [
        "## Plotting the best fit line\n",
        "best_fit_x = np.linspace(10.70, 10.80, 22)\n",
        "best_fit_y = [t[1] + t[0]*xx for xx in best_fit_x]"
      ],
      "execution_count": 0,
      "outputs": []
    },
    {
      "cell_type": "code",
      "metadata": {
        "id": "54_TiYawTwoX",
        "colab_type": "code",
        "outputId": "1751fe97-9441-458e-cf29-693341d325ce",
        "colab": {
          "base_uri": "https://localhost:8080/",
          "height": 379
        }
      },
      "source": [
        "plt.plot(np.log(aapl[\"Close\"]), np.log(goog[\"Close\"]), \"k.\")\n",
        "plt.plot(best_fit_x, best_fit_y, '-')\n",
        "plt.xlabel('Price of AAPL')\n",
        "plt.ylabel('Pricc of GOOG')"
      ],
      "execution_count": 0,
      "outputs": [
        {
          "output_type": "execute_result",
          "data": {
            "text/plain": [
              "Text(0,0.5,u'Pricc of GOOG')"
            ]
          },
          "metadata": {
            "tags": []
          },
          "execution_count": 41
        },
        {
          "output_type": "display_data",
          "data": {
            "image/png": "[encoded data removed]",
            "text/plain": [
              "<matplotlib.figure.Figure at 0x7f2dac2e3950>"
            ]
          },
          "metadata": {
            "tags": []
          }
        }
      ]
    }
  ]
}